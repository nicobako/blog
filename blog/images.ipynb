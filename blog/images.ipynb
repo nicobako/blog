{
 "cells": [
  {
   "cell_type": "markdown",
   "id": "6b2a3d71",
   "metadata": {},
   "source": [
    "# Treating pixels as vectors\n",
    "\n",
    "It is common knowledge that images can be thought\n",
    "of as a 2-dimensional collection of pixel values.\n",
    "But, has anyone ever told you how to think of pixel values?\n",
    "\n",
    "A friend once told me:\n",
    "\n",
    "> You can think of pixel values as vectors, and in the math.\n",
    "vectors have magnitude and direction.\n",
    "\n",
    "    \n",
    "The thought that you could treat\n",
    "pixel values as vectors was really interesting.\n",
    "I began to think of all of the crazy things\n",
    "you can do with vectors, and how interesting\n",
    "that would be to do with pixels.\n",
    "\n",
    "If pixel values could be thought of as vectors,\n",
    "that would mean that I can perform the same common 3D math on pixels\n",
    "the I used to with 3D vectors. But, instead of manipulation\n",
    "a vector in 3D space, we are manipulating a colors in color-space!\n",
    "It was a mind-bending thought experiment, one that I hope to bring to\n",
    "life in this article."
   ]
  },
  {
   "cell_type": "code",
   "execution_count": null,
   "id": "37743220",
   "metadata": {},
   "outputs": [],
   "source": [
    "import numpy as np\n",
    "import matplotlib.pyplot as plt\n",
    "import matplotlib.image as mpimg\n",
    "from scipy.spatial.transform import Rotation"
   ]
  },
  {
   "cell_type": "markdown",
   "id": "3b595495",
   "metadata": {},
   "source": [
    "## Reading an image as a numpy array\n",
    "\n",
    "Here, we will use [*matplotlib's image functionality*](https://matplotlib.org/stable/tutorials/introductory/images.html#sphx-glr-tutorials-introductory-images-py)\n",
    "since this offers more than what we need.\n",
    "\n",
    "*Matplotlib* will convert our pixel values to *float32* with values ranging from [0.0 ... 1.0].\n",
    "This is perfect for our case. Typically, images are stored in *uint8* with values ranging form [0 ... 255].\n",
    "Since we are trying to do 3D math on our pixels, it is easier to "
   ]
  },
  {
   "cell_type": "code",
   "execution_count": null,
   "id": "91dfab7a",
   "metadata": {},
   "outputs": [],
   "source": [
    "python_logo_url = \"https://www.python.org/static/community_logos/python-logo-master-v3-TM.png\"\n",
    "img = mpimg.imread(python_logo_url)\n",
    "    \n",
    "plt.imshow(img)"
   ]
  },
  {
   "cell_type": "code",
   "execution_count": null,
   "id": "49a1b3b6",
   "metadata": {},
   "outputs": [],
   "source": [
    "def plot_img(img):\n",
    "    plt.imshow(np.clip(img, 0.0, 1.0))\n",
    "    plt.show()\n",
    "    \n",
    "def plot_scatter(*imgs):\n",
    "    fig = plt.figure()\n",
    "    ax = fig.add_subplot(projection=\"3d\")\n",
    "    for img in imgs:\n",
    "        ax.scatter(img[:,:,0], img[:,:,1], img[:,:,2])\n",
    "    ax.set_xlabel('Red')\n",
    "    ax.set_ylabel('Green')\n",
    "    ax.set_zlabel('Blue')\n",
    "    plt.show()\n",
    "    \n",
    "\n",
    "def plot(operation):\n",
    "    def do_operation_and_plot(img, *args, **kwargs):\n",
    "        img_op = operation(img, *args, **kwargs)\n",
    "        plot_img(img)\n",
    "        plot_img(img_op)\n",
    "        plot_scatter(img, img_op)\n",
    "        \n",
    "    return do_operation_and_plot"
   ]
  },
  {
   "cell_type": "markdown",
   "id": "04b941df",
   "metadata": {},
   "source": [
    "## Translations"
   ]
  },
  {
   "cell_type": "code",
   "execution_count": null,
   "id": "64d52204",
   "metadata": {},
   "outputs": [],
   "source": [
    "@plot\n",
    "def translate(img, *, r=0.0, g=0.0, b=0.0, a=0.0):\n",
    "    return img + np.array([r, g, b, a])"
   ]
  },
  {
   "cell_type": "code",
   "execution_count": null,
   "id": "344226e6",
   "metadata": {},
   "outputs": [],
   "source": [
    "translate(\n",
    "    img,\n",
    "    r=0.5\n",
    ")"
   ]
  },
  {
   "cell_type": "code",
   "execution_count": null,
   "id": "32df6239",
   "metadata": {},
   "outputs": [],
   "source": [
    "translate(img, g=-0.5, b=-0.5)"
   ]
  },
  {
   "cell_type": "markdown",
   "id": "12f0fe1a",
   "metadata": {},
   "source": [
    "# Scaling"
   ]
  },
  {
   "cell_type": "code",
   "execution_count": null,
   "id": "39feaa48",
   "metadata": {},
   "outputs": [],
   "source": [
    "@plot\n",
    "def scale(img, *, r=1.0, g=1.0, b=1.0, a=1.0):\n",
    "    return img * np.array([r, g, b, a])"
   ]
  },
  {
   "cell_type": "code",
   "execution_count": null,
   "id": "d1d9765d",
   "metadata": {},
   "outputs": [],
   "source": [
    "scale(\n",
    "    img,\n",
    "    r=0.5,\n",
    "    b=2.0\n",
    ")"
   ]
  },
  {
   "cell_type": "markdown",
   "id": "5fe90c0e",
   "metadata": {},
   "source": [
    "# Rotation"
   ]
  },
  {
   "cell_type": "code",
   "execution_count": null,
   "id": "52bc1395",
   "metadata": {},
   "outputs": [],
   "source": [
    "@plot\n",
    "def rotate(img, rotation:Rotation, origin=[0,0,0]):\n",
    "    img_rot = np.empty_like(img)\n",
    "    img_rot[:,:,0:3] = np.matmul(\n",
    "        (img[:,:,0:3] - origin),\n",
    "        rotation.as_matrix()\n",
    "    ) + origin\n",
    "    img_rot[:,:,3] = img[:,:,3]\n",
    "    return img_rot"
   ]
  },
  {
   "cell_type": "code",
   "execution_count": null,
   "id": "f850b501",
   "metadata": {},
   "outputs": [],
   "source": [
    "rot = Rotation.from_euler(\"x\", 90, degrees=True)\n",
    "rotate(img, rot)"
   ]
  },
  {
   "cell_type": "code",
   "execution_count": null,
   "id": "f3eab454",
   "metadata": {},
   "outputs": [],
   "source": [
    "rotate(\n",
    "    img,\n",
    "    Rotation.from_euler(\n",
    "        \"xy\",\n",
    "        (45, 45),\n",
    "        degrees=True,\n",
    "    ),\n",
    ")"
   ]
  },
  {
   "cell_type": "code",
   "execution_count": null,
   "id": "a96cc651",
   "metadata": {},
   "outputs": [],
   "source": [
    "rotate(\n",
    "    img,\n",
    "    Rotation.from_euler(\n",
    "        \"z\",\n",
    "        90,\n",
    "        degrees=True,\n",
    "    ),\n",
    "    origin=[0.5,0.5,0.5]\n",
    ")S"
   ]
  },
  {
   "cell_type": "code",
   "execution_count": null,
   "id": "dd6da1f7",
   "metadata": {},
   "outputs": [],
   "source": [
    "rotate(\n",
    "    img,\n",
    "    Rotation.from_matrix(\n",
    "        [[0, 1, 0],\n",
    "        [1, 0, 1],\n",
    "        [0, 0, 0]]\n",
    "    ),\n",
    "    origin=[0.5,0.5,0.5]\n",
    ")"
   ]
  },
  {
   "cell_type": "code",
   "execution_count": null,
   "id": "f8f4b1c7",
   "metadata": {},
   "outputs": [],
   "source": [
    "def crazy_mat(\n",
    "    r=[1,0,0],\n",
    "    g=[0, 1, 0],\n",
    "    b=[0,0,1],\n",
    "):\n",
    "    return np.array([r, g, b]).T\n",
    "\n",
    "\n",
    "crazy_mat()"
   ]
  },
  {
   "cell_type": "code",
   "execution_count": null,
   "id": "af486017",
   "metadata": {},
   "outputs": [],
   "source": [
    "crazy_mat(r=[0.5,0.0, 0])\n",
    "\n",
    "@plot\n",
    "def do_crazy(img, crazy_mat):\n",
    "    return np.matmul(img[:,:,0:3], crazy_mat)\n",
    "\n",
    "do_crazy(img, crazy_mat(r=[3.,0.0,0.0], g=[0, 0.2, 0]))"
   ]
  },
  {
   "cell_type": "code",
   "execution_count": null,
   "id": "db1018f4",
   "metadata": {},
   "outputs": [],
   "source": [
    "scale(img, r=3, g=0.2)"
   ]
  },
  {
   "cell_type": "code",
   "execution_count": null,
   "id": "d383a7e0",
   "metadata": {},
   "outputs": [],
   "source": [
    "do_crazy(img, crazy_mat(b=[0.5,0.5,0]))"
   ]
  },
  {
   "cell_type": "code",
   "execution_count": null,
   "id": "6484903d",
   "metadata": {},
   "outputs": [],
   "source": [
    "cm = crazy_mat(r=[0,0,1],g=[0,0,1])\n",
    "do_crazy(img, cm)"
   ]
  },
  {
   "cell_type": "code",
   "execution_count": null,
   "id": "20ccfdb5",
   "metadata": {},
   "outputs": [],
   "source": []
  }
 ],
 "metadata": {
  "kernelspec": {
   "display_name": "nicobako.github.io",
   "language": "python",
   "name": "nicobako.github.io"
  },
  "language_info": {
   "codemirror_mode": {
    "name": "ipython",
    "version": 3
   },
   "file_extension": ".py",
   "mimetype": "text/x-python",
   "name": "python",
   "nbconvert_exporter": "python",
   "pygments_lexer": "ipython3",
   "version": "3.9.5"
  }
 },
 "nbformat": 4,
 "nbformat_minor": 5
}
