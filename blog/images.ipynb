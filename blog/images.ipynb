{
 "cells": [
  {
   "cell_type": "markdown",
   "id": "d35a58c2",
   "metadata": {},
   "source": [
    "# Treating pixels as vectors\n",
    "\n",
    "It is common knowledge that images can be thought\n",
    "of as a 2-dimensional collection of pixel values.\n",
    "But, has anyone ever told you how to think of pixel values?\n",
    "\n",
    "A friend once told me:\n",
    "\n",
    "> You can think of pixel values as vectors, and in the math.\n",
    "vectors have magnitude and direction.\n",
    "\n",
    "    \n",
    "The thought that you could treat\n",
    "pixel values as vectors was really interesting.\n",
    "I began to think of all of the crazy things\n",
    "you can do with vectors, and how interesting\n",
    "that would be to do with pixels.\n",
    "\n",
    "If pixel values could be thought of as vectors,\n",
    "that would mean that I can perform the same common 3D math on pixels\n",
    "the I used to with 3D vectors. But, instead of manipulation\n",
    "a vector in 3D space, we are manipulating a colors in color-space!\n",
    "It was a mind-bending thought experiment, one that I hope to bring to\n",
    "life in this article."
   ]
  },
  {
   "cell_type": "code",
   "execution_count": null,
   "id": "8d76c60a",
   "metadata": {},
   "outputs": [],
   "source": [
    "import numpy as np\n",
    "import matplotlib.pyplot as plt\n",
    "import matplotlib.image as mpimg\n",
    "from scipy.spatial.transform import Rotation"
   ]
  },
  {
   "cell_type": "markdown",
   "id": "5aee008b",
   "metadata": {},
   "source": [
    "## Reading an image as a numpy array\n",
    "\n",
    "Here, we will use [*matplotlib's image functionality*](https://matplotlib.org/stable/tutorials/introductory/images.html#sphx-glr-tutorials-introductory-images-py)\n",
    "since this offers more than what we need.\n",
    "\n",
    "*Matplotlib* will convert our pixel values to *float32* with values ranging from [0.0 ... 1.0].\n",
    "This is perfect for our case. Typically, images are stored in *uint8* with values ranging form [0 ... 255].\n",
    "Since we are trying to do 3D math on our pixels, it is easier to "
   ]
  },
  {
   "cell_type": "code",
   "execution_count": null,
   "id": "07988f91",
   "metadata": {},
   "outputs": [],
   "source": [
    "python_logo_url = \"https://www.python.org/static/community_logos/python-logo-master-v3-TM.png\"\n",
    "img = mpimg.imread(python_logo_url)\n",
    "    \n",
    "plt.imshow(img)"
   ]
  },
  {
   "cell_type": "code",
   "execution_count": null,
   "id": "525dc7ea",
   "metadata": {},
   "outputs": [],
   "source": [
    "def plot_img(img):\n",
    "    plt.imshow(np.clip(img, 0.0, 1.0))\n",
    "    plt.show()"
   ]
  },
  {
   "cell_type": "markdown",
   "id": "4e5d1f8e",
   "metadata": {},
   "source": [
    "## Translations"
   ]
  },
  {
   "cell_type": "code",
   "execution_count": null,
   "id": "adaae02c",
   "metadata": {},
   "outputs": [],
   "source": [
    "def translate(img, *, r=0.0, g=0.0, b=0.0, a=0.0):\n",
    "    return img + np.array([r, g, b, a])"
   ]
  },
  {
   "cell_type": "code",
   "execution_count": null,
   "id": "d8414a32",
   "metadata": {},
   "outputs": [],
   "source": [
    "plot_img(translate(\n",
    "    img,\n",
    "    r=0.5\n",
    "))"
   ]
  },
  {
   "cell_type": "code",
   "execution_count": null,
   "id": "1e1b9707",
   "metadata": {},
   "outputs": [],
   "source": [
    "plot_img(\n",
    "    translate(img, g=-0.5, b=-0.5)\n",
    ")"
   ]
  },
  {
   "cell_type": "markdown",
   "id": "0cf60ed9",
   "metadata": {},
   "source": [
    "# Scaling"
   ]
  },
  {
   "cell_type": "code",
   "execution_count": null,
   "id": "501f6255",
   "metadata": {},
   "outputs": [],
   "source": [
    "def scale(img, *, r=1.0, g=1.0, b=1.0, a=1.0):\n",
    "    return img * np.array([r, g, b, a])"
   ]
  },
  {
   "cell_type": "code",
   "execution_count": null,
   "id": "7ddf5b4c",
   "metadata": {},
   "outputs": [],
   "source": [
    "plot_img(\n",
    "    scale(\n",
    "        img,\n",
    "        r=0.5,\n",
    "        b=2.0\n",
    "    )\n",
    ")"
   ]
  },
  {
   "cell_type": "markdown",
   "id": "939681e2",
   "metadata": {},
   "source": [
    "# Rotation"
   ]
  },
  {
   "cell_type": "code",
   "execution_count": null,
   "id": "12a528a1",
   "metadata": {},
   "outputs": [],
   "source": [
    "def rotate(img, rotation:Rotation, origin=[0,0,0]):\n",
    "    img_rot = np.empty_like(img)\n",
    "    img_rot[:,:,0:3] = np.matmul(\n",
    "        (img[:,:,0:3] - origin),\n",
    "        rotation.as_matrix()\n",
    "    ) + origin\n",
    "    img_rot[:,:,3] = img[:,:,3]\n",
    "    return img_rot"
   ]
  },
  {
   "cell_type": "code",
   "execution_count": null,
   "id": "2c48fb4c",
   "metadata": {},
   "outputs": [],
   "source": [
    "rot = Rotation.from_euler(\"x\", 90, degrees=True)\n",
    "plot_img(rotate(img, rot))"
   ]
  },
  {
   "cell_type": "code",
   "execution_count": null,
   "id": "7cdd225b",
   "metadata": {},
   "outputs": [],
   "source": [
    "plot_img(\n",
    "    rotate(\n",
    "        img,\n",
    "        Rotation.from_euler(\n",
    "            \"xy\",\n",
    "            (45, 45),\n",
    "            degrees=True,\n",
    "        ),\n",
    "    )\n",
    ")"
   ]
  },
  {
   "cell_type": "code",
   "execution_count": null,
   "id": "e7529b00",
   "metadata": {},
   "outputs": [],
   "source": [
    "plot_img(\n",
    "    rotate(\n",
    "        img,\n",
    "        Rotation.from_euler(\n",
    "            \"z\",\n",
    "            90,\n",
    "            degrees=True,\n",
    "        ),\n",
    "        origin=[0.5,0.5,0.5]\n",
    "    )\n",
    ")"
   ]
  }
 ],
 "metadata": {
  "kernelspec": {
   "display_name": "nicobako.github.io",
   "language": "python",
   "name": "nicobako.github.io"
  },
  "language_info": {
   "codemirror_mode": {
    "name": "ipython",
    "version": 3
   },
   "file_extension": ".py",
   "mimetype": "text/x-python",
   "name": "python",
   "nbconvert_exporter": "python",
   "pygments_lexer": "ipython3",
   "version": "3.9.5"
  }
 },
 "nbformat": 4,
 "nbformat_minor": 5
}
