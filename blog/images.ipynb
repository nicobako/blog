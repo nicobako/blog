{
 "cells": [
  {
   "cell_type": "markdown",
   "id": "41ce0626",
   "metadata": {},
   "source": [
    "# Image Processing - messing around with images\n",
    "\n",
    "It is common knowledge that images can be thought\n",
    "of as a 2-dimensional collection of pixel values.\n",
    "But, has anyone ever told you how to think of pixel values?\n",
    "\n",
    "A friend once told me:\n",
    "\n",
    "    You can think of pixel values as vectors, and in the math.\n",
    "    vectors have magnitude and direction.\n",
    "    \n",
    "Now, I'm sure a lot of people have probably already heard this,\n",
    "but I never had. The thought that you could treat\n",
    "pixel values as vectors was really interesting.\n",
    "\n",
    "I used to do a lot of 3D graphics programming,\n",
    "and in this field we have to perform a lot of common\n",
    "3D math. I was very comfortable with the cartesian coordinates (XYZ),\n",
    "and was used to working with a lot of 3-dimensional vectors\n",
    "in the cartesias space.\n",
    "\n",
    "If pixel values could be thought of as vectors,\n",
    "that would mean that I can perform the same common 3D math on pixels\n",
    "the I used to with 3D vectors. "
   ]
  },
  {
   "cell_type": "markdown",
   "id": "de6efddd",
   "metadata": {},
   "source": [
    "## Reading an image as a numpy array\n",
    "\n",
    "Here, we will use [*matplotlib's image functionality*](https://matplotlib.org/stable/tutorials/introductory/images.html#sphx-glr-tutorials-introductory-images-py)\n",
    "since this offers more than what we need.\n",
    "\n",
    "*Matplotlib* will convert our pixel values to *float32* with values ranging from [0.0 ... 1.0].\n",
    "This is perfect for our case. Typically, images are stored in *uint8* with values ranging form [0 ... 255].\n",
    "Since we are trying to do 3D math on our pixels, it is easier to "
   ]
  },
  {
   "cell_type": "code",
   "execution_count": null,
   "id": "799272b7",
   "metadata": {},
   "outputs": [],
   "source": [
    "import numpy as np\n",
    "import matplotlib.pyplot as plt\n",
    "import matplotlib.image as mpimg "
   ]
  },
  {
   "cell_type": "code",
   "execution_count": null,
   "id": "362b67e1",
   "metadata": {},
   "outputs": [],
   "source": [
    "python_logo_url = \"https://www.python.org/static/community_logos/python-logo-master-v3-TM.png\"\n",
    "img = mpimg.imread(python_logo_url)\n",
    "\n",
    "plt.imshow(img)"
   ]
  },
  {
   "cell_type": "code",
   "execution_count": null,
   "id": "3fd453bc",
   "metadata": {},
   "outputs": [],
   "source": [
    "def plot_img(img):\n",
    "    plt.imshow(np.clip(img, 0.0, 1.0))"
   ]
  },
  {
   "cell_type": "markdown",
   "id": "1a366585",
   "metadata": {},
   "source": [
    "## Translations"
   ]
  },
  {
   "cell_type": "code",
   "execution_count": null,
   "id": "1484a21d",
   "metadata": {},
   "outputs": [],
   "source": [
    "tr = np.array([0,0,0.2])[np.newaxis, np.newaxis, :]\n",
    "plot_img(np.add(img[:,:,0:3], tr))"
   ]
  },
  {
   "cell_type": "code",
   "execution_count": null,
   "id": "86a06cbc",
   "metadata": {},
   "outputs": [],
   "source": []
  },
  {
   "cell_type": "code",
   "execution_count": null,
   "id": "de3ed3b4",
   "metadata": {},
   "outputs": [],
   "source": []
  },
  {
   "cell_type": "code",
   "execution_count": null,
   "id": "f4520ab1",
   "metadata": {},
   "outputs": [],
   "source": []
  }
 ],
 "metadata": {
  "kernelspec": {
   "display_name": "nicobako.github.io",
   "language": "python",
   "name": "nicobako.github.io"
  },
  "language_info": {
   "codemirror_mode": {
    "name": "ipython",
    "version": 3
   },
   "file_extension": ".py",
   "mimetype": "text/x-python",
   "name": "python",
   "nbconvert_exporter": "python",
   "pygments_lexer": "ipython3",
   "version": "3.9.5"
  }
 },
 "nbformat": 4,
 "nbformat_minor": 5
}
