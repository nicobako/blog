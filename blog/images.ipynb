{
 "cells": [
  {
   "cell_type": "markdown",
   "id": "6b2a3d71",
   "metadata": {},
   "source": [
    "# Treating pixels as vectors\n",
    "\n",
    "It is common knowledge that images can be thought\n",
    "of as a 2-dimensional collection of pixel values.\n",
    "But, has anyone ever told you how to think of pixel values?\n",
    "\n",
    "A friend once told me:\n",
    "\n",
    "> You can think of pixel values as vectors, and in the math.\n",
    "vectors have magnitude and direction.\n",
    "\n",
    "    \n",
    "The thought that you could treat\n",
    "pixel values as vectors was really interesting.\n",
    "I began to think of all of the crazy things\n",
    "you can do with vectors, and how interesting\n",
    "that would be to do with pixels.\n",
    "\n",
    "```{note}\n",
    "In our case we will be working with Red, Green and Blue (RGB) pixels.\n",
    "There are a wide variety of pixel formats out there, but\n",
    "we're just going to work with RGB.\n",
    "```\n",
    "\n",
    "In this tutorial we will be thinking of RGB pixels as XYZ cartesias coordinates.\n",
    "This means that we can perform the same 3D math on pixels\n",
    "the is common with 3D vectors. However, instead of manipulating\n",
    "an XYZ coordinate in 3D space, we are manipulating an RGB pixel in color-space!\n",
    "\n",
    "This was a mind-bending thought experiment, and I hope you'll enjoy it."
   ]
  },
  {
   "cell_type": "markdown",
   "id": "28374ba4",
   "metadata": {},
   "source": [
    "## Initial imports"
   ]
  },
  {
   "cell_type": "code",
   "execution_count": null,
   "id": "37743220",
   "metadata": {},
   "outputs": [],
   "source": [
    "import numpy as np\n",
    "import matplotlib.pyplot as plt\n",
    "import matplotlib.image as mpimg\n",
    "from scipy.spatial.transform import Rotation"
   ]
  },
  {
   "cell_type": "markdown",
   "id": "3b595495",
   "metadata": {},
   "source": [
    "## Reading an image as a numpy array\n",
    "\n",
    "Here, we will use [*matplotlib's image functionality*](https://matplotlib.org/stable/tutorials/introductory/images.html#sphx-glr-tutorials-introductory-images-py)\n",
    "since this offers more than what we need.\n",
    "\n",
    "*Matplotlib* will convert our pixel values to *float32* with values ranging from [0.0 ... 1.0].\n",
    "This is perfect for our case. Typically, images are stored in *uint8* with values ranging form [0 ... 255].\n",
    "Since we are trying to do 3D math on our pixels, it is easier to use *float* values."
   ]
  },
  {
   "cell_type": "code",
   "execution_count": null,
   "id": "91dfab7a",
   "metadata": {},
   "outputs": [],
   "source": [
    "img_url = \"https://github.com/scikit-image/scikit-image/blob/main/skimage/data/astronaut.png?raw=true\"\n",
    "img = mpimg.imread(img_url)\n",
    "plt.imshow(img)\n",
    "plt.show()"
   ]
  },
  {
   "cell_type": "markdown",
   "id": "3482845e",
   "metadata": {},
   "source": [
    "Since we'll be doing some 3D math on our pixels,\n",
    "we may end up with values outside of the range *[0...1]*,\n",
    "so lets's create a simple plotting function to correct any of this."
   ]
  },
  {
   "cell_type": "code",
   "execution_count": null,
   "id": "49a1b3b6",
   "metadata": {},
   "outputs": [],
   "source": [
    "def plot_img(ax:plt.Axes, title:str, img:np.ndarray)->None:\n",
    "    \"\"\"Show an image.\n",
    "    \n",
    "    Pixel values are clipped to the range [0...1].\n",
    "    \"\"\"\n",
    "    ax.imshow(np.clip(img, 0.0, 1.0))\n",
    "    ax.set_title(title)\n",
    "\n",
    "def plot_histogram(ax:plt.Axes, title:str, img:np.ndarray):\n",
    "    color_index_map = {\"red\":0, \"green\":1, \"blue\":2}\n",
    "\n",
    "    def _plot_hist(img, color):\n",
    "        hist, bins = np.histogram(img, bins=128)\n",
    "        ax.plot(bins[:-1], hist, color=color)\n",
    "        \n",
    "    for color, index in color_index_map.items():\n",
    "        _plot_hist(img[:,:,index], color)\n",
    "\n",
    "    ax.set_title(title)\n",
    "    ax.set_xlabel(\"pixel value\")\n",
    "    ax.set_ylabel(\"occurence\")\n",
    "    ax.set_ylim((0, 7500))\n",
    "    \n",
    "\n",
    "def plot(operation):\n",
    "    def do_operation_and_plot(img, *args, **kwargs):\n",
    "        img_op = operation(img, *args, **kwargs)\n",
    "        \n",
    "        xmin = np.min([img, img_op])\n",
    "        xmax = np.max([img, img_op])\n",
    "        \n",
    "        fig = plt.figure(constrained_layout=True)\n",
    "        gs = plt.GridSpec(2,2, figure=fig)\n",
    "        \n",
    "        for i, (img_array, title) in enumerate([\n",
    "            (img, \"Orig\"),\n",
    "            (img_op, \"New\"),\n",
    "        ]):\n",
    "            ax_img = fig.add_subplot(gs[0,i])\n",
    "            plot_img(ax_img, f\"{title} Image\", img_array)\n",
    "            \n",
    "            ax_plot = fig.add_subplot(gs[1,i])\n",
    "            plot_histogram(ax_plot, f\"{title} Hist\", img_array)\n",
    "            ax_plot.set_xlim((xmin, xmax))\n",
    "        \n",
    "        plt.show()\n",
    "        \n",
    "    return do_operation_and_plot"
   ]
  },
  {
   "cell_type": "markdown",
   "id": "04b941df",
   "metadata": {},
   "source": [
    "## Translations\n",
    "\n",
    "Think of translations like *sliding* the values higher or lower.\n",
    "We can translate only one color, or we can translate multiple colors\n",
    "at the same time."
   ]
  },
  {
   "cell_type": "code",
   "execution_count": null,
   "id": "64d52204",
   "metadata": {},
   "outputs": [],
   "source": [
    "@plot\n",
    "def translate(img, *, r=0.0, g=0.0, b=0.0):\n",
    "    return img + np.array([r, g, b])"
   ]
  },
  {
   "cell_type": "code",
   "execution_count": null,
   "id": "344226e6",
   "metadata": {},
   "outputs": [],
   "source": [
    "translate(\n",
    "    img,\n",
    "    r=0.5\n",
    ")"
   ]
  },
  {
   "cell_type": "code",
   "execution_count": null,
   "id": "32df6239",
   "metadata": {},
   "outputs": [],
   "source": [
    "translate(img, b=-0.5, g=0.2)"
   ]
  },
  {
   "cell_type": "markdown",
   "id": "12f0fe1a",
   "metadata": {},
   "source": [
    "# Scaling\n",
    "\n",
    "Scaling is simply multiplying a color by a factor."
   ]
  },
  {
   "cell_type": "code",
   "execution_count": null,
   "id": "39feaa48",
   "metadata": {},
   "outputs": [],
   "source": [
    "@plot\n",
    "def scale(img, *, r=1.0, g=1.0, b=1.0):\n",
    "    return img * np.array([r, g, b])"
   ]
  },
  {
   "cell_type": "code",
   "execution_count": null,
   "id": "d1d9765d",
   "metadata": {},
   "outputs": [],
   "source": [
    "scale(\n",
    "    img,\n",
    "    r=0.5,\n",
    "    b=2.0\n",
    ")"
   ]
  },
  {
   "cell_type": "markdown",
   "id": "5fe90c0e",
   "metadata": {},
   "source": [
    "# Rotation\n",
    "\n",
    "Rotations are a bit more complicated to think about.\n",
    "In a cartesian coordinate system all axes are *orthogonal*,\n",
    "meaning that they are each perpendicular to one another.\n",
    "When we rotate a vector, we have to define two things:\n",
    "\n",
    "1. A vector around which we rotate\n",
    "  - We can simply rotate around specific axes\n",
    "2. A point around which rotate\n",
    "  - Typically the origin\n",
    "  \n",
    "Remember that RGB corrpesponds to XYZ, so rotating about X\n",
    "is the same as rotating about Red.\n",
    "\n",
    "For example, when we rotate 90 degrees around Red axis,\n",
    "about the origin, then Green goes into the Blue axis,\n",
    "and Blue goes into the negative Green axis.\n",
    "\n",
    "With 3D points, rotating about the origin makes sense,\n",
    "but for colors, rotating about the origin `(0, 0, 0)` \n",
    "is akin to rotating about *black*...\n",
    "it makes more sense to rotate about `(0.5, 0.5, 0.5)`\n",
    "which is akin to rotating about *grey*."
   ]
  },
  {
   "cell_type": "code",
   "execution_count": null,
   "id": "52bc1395",
   "metadata": {},
   "outputs": [],
   "source": [
    "@plot\n",
    "def rotate(img, rotation:Rotation, origin=[0.5,0.5,0.5]):\n",
    "    img_rot = np.matmul(\n",
    "        (img - origin),\n",
    "        rotation.as_matrix()\n",
    "    ) + origin\n",
    "    return img_rot"
   ]
  },
  {
   "cell_type": "code",
   "execution_count": null,
   "id": "d985c2fa",
   "metadata": {},
   "outputs": [],
   "source": [
    "rot = Rotation.from_euler(\"x\", 90, degrees=True)"
   ]
  },
  {
   "cell_type": "markdown",
   "id": "238508e0",
   "metadata": {},
   "source": [
    "Here's what it looks like rotating about the origin:"
   ]
  },
  {
   "cell_type": "code",
   "execution_count": null,
   "id": "ebc20ff8",
   "metadata": {},
   "outputs": [],
   "source": [
    "rotate(img, rot, origin=[0,0,0])"
   ]
  },
  {
   "cell_type": "code",
   "execution_count": null,
   "id": "f850b501",
   "metadata": {},
   "outputs": [],
   "source": [
    "rotate(img, rot,)"
   ]
  },
  {
   "cell_type": "code",
   "execution_count": null,
   "id": "f3eab454",
   "metadata": {},
   "outputs": [],
   "source": [
    "rotate(\n",
    "    img,\n",
    "    Rotation.from_euler(\n",
    "        \"xy\",\n",
    "        (45, 45),\n",
    "        degrees=True,\n",
    "    ),\n",
    ")"
   ]
  },
  {
   "cell_type": "code",
   "execution_count": null,
   "id": "a96cc651",
   "metadata": {},
   "outputs": [],
   "source": [
    "rotate(\n",
    "    img,\n",
    "    Rotation.from_euler(\n",
    "        \"z\",\n",
    "        90,\n",
    "        degrees=True,\n",
    "    ),\n",
    "    origin=[0.5,0.5,0.5]\n",
    ")"
   ]
  },
  {
   "cell_type": "code",
   "execution_count": null,
   "id": "dd6da1f7",
   "metadata": {},
   "outputs": [],
   "source": [
    "rotate(\n",
    "    img,\n",
    "    Rotation.from_matrix(\n",
    "        [[0, 1, 0],\n",
    "        [1, 0, 1],\n",
    "        [0, 0, 0]]\n",
    "    ),\n",
    "    origin=[0.5,0.5,0.5]\n",
    ")"
   ]
  },
  {
   "cell_type": "markdown",
   "id": "a697d630",
   "metadata": {},
   "source": [
    "## Custom Transformation Matrices\n",
    "\n",
    "Now I'm just going a little too far,\n",
    "but you can actually define custom transformation matrices,\n",
    "and just use those.\n",
    "\n",
    "The way the function below `crazy_mat` works is that you\n",
    "define where you want your new RGB axes to go, and then it\n",
    "creates the transformation matrix for you."
   ]
  },
  {
   "cell_type": "code",
   "execution_count": null,
   "id": "f8f4b1c7",
   "metadata": {},
   "outputs": [],
   "source": [
    "def crazy_mat(\n",
    "    r=[1,0,0],\n",
    "    g=[0, 1, 0],\n",
    "    b=[0,0,1],\n",
    "):\n",
    "    return np.array([r, g, b]).T\n",
    "\n",
    "@plot\n",
    "def do_crazy(img, **kwargs):\n",
    "    return np.matmul(img[:,:,0:3], crazy_mat(**kwargs))"
   ]
  },
  {
   "cell_type": "markdown",
   "id": "d3f4aee0",
   "metadata": {},
   "source": [
    "The default *crazy matrix* is just the *idendity matrix*,\n",
    "and nothing will happen."
   ]
  },
  {
   "cell_type": "code",
   "execution_count": null,
   "id": "093711d9",
   "metadata": {},
   "outputs": [],
   "source": [
    "do_crazy(img)"
   ]
  },
  {
   "cell_type": "markdown",
   "id": "607c420e",
   "metadata": {},
   "source": [
    "Now, let's say we want to swap our Red and Green axes\n",
    "while leaving our Blue axis alone. We can probably achive\n",
    "this by performing a series of rotations,\n",
    "but it's much easier to define a custom transformation matrix."
   ]
  },
  {
   "cell_type": "code",
   "execution_count": null,
   "id": "8e3cd90c",
   "metadata": {},
   "outputs": [],
   "source": [
    "do_crazy(img, r=[0,1,0], g=[1,0,0])"
   ]
  },
  {
   "cell_type": "markdown",
   "id": "988d87fd",
   "metadata": {},
   "source": [
    "You see how this did exactly what we said!\n",
    "The Red and Green swapped places!\n",
    "\n",
    "We can use this handy transformation matrix to even perform *scaling*!"
   ]
  },
  {
   "cell_type": "code",
   "execution_count": null,
   "id": "af486017",
   "metadata": {},
   "outputs": [],
   "source": [
    "do_crazy(img, r=[2,0.0,0.0], g=[0, 2, 0])"
   ]
  },
  {
   "cell_type": "markdown",
   "id": "193a24ae",
   "metadata": {},
   "source": [
    "Which is the same as if we just used our previous *scaling* function."
   ]
  },
  {
   "cell_type": "code",
   "execution_count": null,
   "id": "db1018f4",
   "metadata": {},
   "outputs": [],
   "source": [
    "scale(img, r=2, g=2)"
   ]
  },
  {
   "cell_type": "markdown",
   "id": "654cf6e1",
   "metadata": {},
   "source": [
    "We can even collapse colors into a single dimension,\n",
    "making the color grayscale."
   ]
  },
  {
   "cell_type": "code",
   "execution_count": null,
   "id": "6484903d",
   "metadata": {},
   "outputs": [],
   "source": [
    "do_crazy(img, r=[0,0,1],g=[0,0,1])"
   ]
  },
  {
   "cell_type": "markdown",
   "id": "58a75496",
   "metadata": {},
   "source": [
    "Or collapse only one color into another dimension."
   ]
  },
  {
   "cell_type": "code",
   "execution_count": null,
   "id": "a87cf3b7",
   "metadata": {},
   "outputs": [],
   "source": [
    "do_crazy(img, r=[0,0,1])"
   ]
  },
  {
   "cell_type": "markdown",
   "id": "d1a390ca",
   "metadata": {},
   "source": [
    "## Magnitude\n",
    "\n",
    "We haven't yet discussed getting the magnitude of a vector.\n",
    "This is its length, or distance from the origin.\n",
    "\n",
    "For colors, the origin is *black*, so its distance from *black*\n",
    "can be thought of as its *brightness*."
   ]
  },
  {
   "cell_type": "code",
   "execution_count": null,
   "id": "c2637573",
   "metadata": {},
   "outputs": [],
   "source": [
    "def compute_magnitude(img):\n",
    "    img_mag = np.empty_like(img)\n",
    "    mags = np.linalg.norm(img, axis=2)\n",
    "    for i in range(3):\n",
    "        img_mag[:,:,i] = mags\n",
    "    return img_mag\n",
    "\n",
    "@plot\n",
    "def magnitude(img):\n",
    "    return compute_magnitude(img)\n",
    "\n",
    "magnitude(img)"
   ]
  },
  {
   "cell_type": "markdown",
   "id": "7c728c57",
   "metadata": {},
   "source": [
    "We can use the magnitude to normalize an image..."
   ]
  },
  {
   "cell_type": "markdown",
   "id": "5ebf2bde",
   "metadata": {},
   "source": [
    "## Direction\n",
    "\n",
    "So, what can we do with *direction*?\n",
    "Here's an idea: The dot-product of two vectors\n",
    "returns the angle between those vectors.\n",
    "\n",
    "Anyway, if I have time to do a demo I will,\n",
    "but this article is getting pretty long, so it's probably time to wrap it up."
   ]
  }
 ],
 "metadata": {
  "kernelspec": {
   "display_name": "nicobako.github.io",
   "language": "python",
   "name": "nicobako.github.io"
  },
  "language_info": {
   "codemirror_mode": {
    "name": "ipython",
    "version": 3
   },
   "file_extension": ".py",
   "mimetype": "text/x-python",
   "name": "python",
   "nbconvert_exporter": "python",
   "pygments_lexer": "ipython3",
   "version": "3.9.5"
  }
 },
 "nbformat": 4,
 "nbformat_minor": 5
}
