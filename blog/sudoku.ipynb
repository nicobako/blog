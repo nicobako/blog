{
 "cells": [
  {
   "cell_type": "markdown",
   "id": "7d669555",
   "metadata": {},
   "source": [
    "# Sudoku\n",
    "\n",
    "I recently started solving some sudoku puzzles for fun,\n",
    "and the thought occured to me: *Why not try to write a sudoku solver-generator in Python?*"
   ]
  },
  {
   "cell_type": "code",
   "execution_count": null,
   "id": "7c3fe645",
   "metadata": {},
   "outputs": [],
   "source": [
    "import networkx as nx\n",
    "import rich\n",
    "from rich.table import Table\n",
    "import itertools\n",
    "import matplotlib.pyplot as plt\n",
    "\n",
    "\n",
    "def gen_sudoku():\n",
    "    sudoku = nx.sudoku_graph()\n",
    "    mapping = {}\n",
    "    for n in sudoku.nodes:\n",
    "        row_index = n // 9\n",
    "        col_index = n - (row_index * 9)\n",
    "        mapping[n] = ((row_index, col_index))\n",
    "    sudoku = nx.relabel_nodes(sudoku, mapping)\n",
    "    for n in sudoku.nodes:\n",
    "        sudoku.nodes[n][\"value\"] = 0\n",
    "    return sudoku\n",
    "\n",
    "sudoku = gen_sudoku()"
   ]
  },
  {
   "cell_type": "code",
   "execution_count": null,
   "id": "5a3b4be2",
   "metadata": {},
   "outputs": [],
   "source": [
    "def plot_sudoku(sudoku, show_node_labels=False):\n",
    "    pos = {}\n",
    "    for n in sudoku.nodes:\n",
    "        row, col = n\n",
    "        y = 9 - row\n",
    "        x = col\n",
    "        pos[n] = (x, y)\n",
    "    if show_node_labels:\n",
    "        labels = None\n",
    "    else:\n",
    "        labels = {n:sudoku.nodes[n][\"value\"] for n in sudoku.nodes}\n",
    "    nx.draw(sudoku, pos=pos, labels=labels, with_labels=True, node_color=[[0.8, 0.8, 0.8]])\n",
    "    plt.show()\n",
    "    \n",
    "plot_sudoku(sudoku)"
   ]
  },
  {
   "cell_type": "code",
   "execution_count": null,
   "id": "17f7c4de",
   "metadata": {},
   "outputs": [],
   "source": [
    "plot_sudoku(sudoku, show_node_labels=True)"
   ]
  },
  {
   "cell_type": "code",
   "execution_count": null,
   "id": "e55d27f6",
   "metadata": {},
   "outputs": [],
   "source": [
    "def get_successor_nodes(sudoku, *source_nodes):\n",
    "    successor_nodes = set()\n",
    "    for sn in source_nodes:\n",
    "        bfs_succ = dict(nx.bfs_successors(sudoku, sn, depth_limit=1))\n",
    "        for u, vs in bfs_succ.items():\n",
    "            successor_nodes.add(u)\n",
    "            [successor_nodes.add(v) for v in vs]\n",
    "        \n",
    "    return list(successor_nodes)\n",
    "\n",
    "def plot_sub_sudoku(sudoku, *source_nodes):\n",
    "    successor_nodes = get_successor_nodes(sudoku, *source_nodes)\n",
    "    plot_sudoku(sudoku.subgraph(successor_nodes))\n",
    "    \n",
    "plot_sub_sudoku(sudoku, (0,0))"
   ]
  },
  {
   "cell_type": "code",
   "execution_count": null,
   "id": "207f49e1",
   "metadata": {},
   "outputs": [],
   "source": [
    "def gen_sudoku_with_values(values):\n",
    "    sudoku = gen_sudoku()\n",
    "    for i, row in enumerate(values):\n",
    "        for j, val in enumerate(row):\n",
    "            sudoku.nodes[(i,j)][\"value\"] = val\n",
    "    return sudoku\n",
    "            \n",
    "easy_sudoku = gen_sudoku_with_values([\n",
    "    [4,0,0,2,0,5,8,6,0],\n",
    "    [0,0,0,0,0,8,4,9,3],\n",
    "    [6,0,0,0,0,0,0,2,7],\n",
    "    [1,0,0,0,6,9,0,5,0],\n",
    "    [3,0,0,0,8,0,0,0,9],\n",
    "    [0,5,0,4,3,0,0,0,2],\n",
    "    [8,6,0,0,0,0,0,0,4],\n",
    "    [7,2,1,8,0,0,0,0,0],\n",
    "    [0,9,4,1,0,3,0,0,6]\n",
    "])\n",
    "plot_sudoku(easy_sudoku)"
   ]
  },
  {
   "cell_type": "code",
   "execution_count": null,
   "id": "cdb6f700",
   "metadata": {},
   "outputs": [],
   "source": [
    "def nodes_with_value(sudoku, value):\n",
    "    nodes = []\n",
    "    for n in sudoku.nodes:\n",
    "        if value == sudoku.nodes[n][\"value\"]:\n",
    "            nodes.append(n)\n",
    "    return nodes\n",
    "\n",
    "nodes_with_4 = nodes_with_value(easy_sudoku, 4)\n",
    "nodes_with_4"
   ]
  },
  {
   "cell_type": "code",
   "execution_count": null,
   "id": "ccb21d80",
   "metadata": {},
   "outputs": [],
   "source": [
    "plot_sub_sudoku(easy_sudoku, *nodes_with_4)"
   ]
  }
 ],
 "metadata": {
  "kernelspec": {
   "display_name": "nicobako.github.io",
   "language": "python",
   "name": "nicobako.github.io"
  },
  "language_info": {
   "codemirror_mode": {
    "name": "ipython",
    "version": 3
   },
   "file_extension": ".py",
   "mimetype": "text/x-python",
   "name": "python",
   "nbconvert_exporter": "python",
   "pygments_lexer": "ipython3",
   "version": "3.8.3"
  }
 },
 "nbformat": 4,
 "nbformat_minor": 5
}
