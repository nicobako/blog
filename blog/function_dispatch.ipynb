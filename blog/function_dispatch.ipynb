{
 "cells": [
  {
   "cell_type": "markdown",
   "id": "94b67604",
   "metadata": {},
   "source": [
    "# Custom Function Dispatching\n",
    "\n",
    "\n",
    "```{note}\n",
    "In progress.\n",
    "```\n",
    "\n",
    "I used to do a lot of C++, and when I switched to Python I was happy... most of the time.\n",
    "Don't get me wrong, I prefer Python, but there are a few things I miss from C++.\n",
    "The most important thing is the strong type system.\n",
    "\n",
    "I particularly miss how easy it was to overload functions.\n",
    "Functions can be overloaded based on the types of the arguments, even the number of arguments!\n",
    "Wouldn't it be cool if we could do the same thing in Python?\n",
    "\n",
    "With a little creativity, we can get Python to do the same thing!\n",
    "Actually, we can get Python to do even more!\n",
    "In this article we'll create a custom and generic function dispatching infrastructure.\n",
    "\n",
    "```{warning}\n",
    "Things are going to get really crazy really quickly!\n",
    "```\n"
   ]
  }
 ],
 "metadata": {
  "kernelspec": {
   "display_name": "nicobako.github.io",
   "language": "python",
   "name": "nicobako.github.io"
  },
  "language_info": {
   "codemirror_mode": {
    "name": "ipython",
    "version": 3
   },
   "file_extension": ".py",
   "mimetype": "text/x-python",
   "name": "python",
   "nbconvert_exporter": "python",
   "pygments_lexer": "ipython3",
   "version": "3.10.0"
  }
 },
 "nbformat": 4,
 "nbformat_minor": 5
}
