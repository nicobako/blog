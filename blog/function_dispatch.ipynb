{
 "cells": [
  {
   "cell_type": "markdown",
   "id": "94b67604",
   "metadata": {},
   "source": [
    "# Custom Function Dispatching\n",
    "\n",
    "\n",
    "```{note}\n",
    "In progress.\n",
    "```\n",
    "\n",
    "I used to do a lot of C++, and when I switched to Python I never wanted to look back.\n",
    "Every now and then, I encounter a situation where I miss some of C++'s features...\n",
    "I particularly miss how easy it was to overload functions.\n",
    "Functions can be overloaded based on the types of the arguments, even the number of arguments!\n",
    "Wouldn't it be cool if we could do the same thing in Python?\n",
    "\n",
    "With a little creativity, we can get Python to do the same thing!\n",
    "In this article we'll create a custom and generic function dispatching infrastructure.\n"
   ]
  },
  {
   "cell_type": "markdown",
   "id": "a8144f42",
   "metadata": {},
   "source": [
    "## Existing Function Dispatching Solutions\n",
    "\n",
    "I won't go into too much detail here, but if you're interested in function dispatching,\n",
    "you should probably familiarize yourself with these existing solutions before\n",
    "trying to create a custom solution.\n",
    "\n",
    "### [`functools.dispatch`](https://docs.python.org/3/library/functools.html#functools.singledispatch)\n",
    "\n",
    "This is built into the standard library, and should be your *first choice*.\n",
    "It provides functionality for dispatching functions based on the type of the first argument.\n",
    "It even supports [*type hinting*](https://docs.python.org/3/library/typing.html),\n",
    "which I hope you are all doing by now.\n",
    "\n",
    "### [`multipledispatch`](https://pypi.org/project/multipledispatch/)\n",
    "\n",
    "If you need to dispatch functions based on types of multiple arguments,\n",
    "then this is a really good solution.\n"
   ]
  },
  {
   "cell_type": "markdown",
   "id": "963570a0",
   "metadata": {},
   "source": [
    "## Custom Dispatching Solution\n",
    "\n",
    "So, I will just go ahead and write the code here for our *custom function dispatching solution*,\n",
    "and then demo it after."
   ]
  },
  {
   "cell_type": "code",
   "execution_count": null,
   "id": "9300e4b1",
   "metadata": {},
   "outputs": [],
   "source": [
    "from inspect import signature, Signature, BoundArguments\n",
    "from typing import Callable, Hashable, Type, Any\n",
    "from functools import wraps\n",
    "\n",
    "StaticDispatcher = Callable[[Signature], Hashable]\n",
    "RuntimeDispatcher = Callable[[BoundArguments], Hashable]\n",
    "\n",
    "\n",
    "def custom_dispatch(\n",
    "    static_dispatcher: StaticDispatcher,\n",
    "    runtime_dispatcher: RuntimeDispatcher,\n",
    "):\n",
    "    def decorator(func):\n",
    "        default_impl = func\n",
    "        default_signature = signature(func)\n",
    "        registry = {}\n",
    "\n",
    "        @wraps(func)\n",
    "        def wrapper(*args, **kwargs):\n",
    "            bound_args = default_signature.bind(*args, **kwargs)\n",
    "            key = runtime_dispatcher(bound_args)\n",
    "            func_impl = registry.get(key, func)\n",
    "            return func_impl(*args, **kwargs)\n",
    "\n",
    "        def register_decorator(func):\n",
    "            func_sig = signature(func)\n",
    "            key = static_dispatcher(func_sig)\n",
    "            registry[key] = func\n",
    "\n",
    "            @wraps(func)\n",
    "            def register_wrapper(*args, **kwargs):\n",
    "                func(*args, **kwargs)\n",
    "\n",
    "            return register_wrapper\n",
    "\n",
    "        wrapper.register = register_decorator\n",
    "        return wrapper\n",
    "\n",
    "    return decorator"
   ]
  },
  {
   "cell_type": "code",
   "execution_count": null,
   "id": "a7ab19a1",
   "metadata": {},
   "outputs": [],
   "source": [
    "def get_x_annotation(signature: Signature) -> Type:\n",
    "    return signature.parameters[\"x\"].annotation\n",
    "\n",
    "\n",
    "def get_x_type(bound_arguments: BoundArguments) -> Type:\n",
    "    return type(bound_arguments.arguments[\"x\"])\n",
    "\n",
    "\n",
    "dispatch_x = custom_dispatch(\n",
    "    static_dispatcher=get_x_annotation,\n",
    "    runtime_dispatcher=get_x_type,\n",
    ")\n",
    "\n",
    "\n",
    "@dispatch_x\n",
    "def f(x: Any):\n",
    "    print(\"default implementation\", x)\n",
    "\n",
    "\n",
    "@f.register\n",
    "def f_int(x: int):\n",
    "    print(\"int implementation\", x)\n",
    "\n",
    "\n",
    "@f.register\n",
    "def f_str(x: str):\n",
    "    print(\"str implementation\", x)"
   ]
  },
  {
   "cell_type": "code",
   "execution_count": null,
   "id": "1390b8c7",
   "metadata": {},
   "outputs": [],
   "source": [
    "f(1)"
   ]
  },
  {
   "cell_type": "code",
   "execution_count": null,
   "id": "3e398f39",
   "metadata": {},
   "outputs": [],
   "source": [
    "f(\"x\")"
   ]
  },
  {
   "cell_type": "code",
   "execution_count": null,
   "id": "a30970e1",
   "metadata": {},
   "outputs": [],
   "source": [
    "f(2.0)"
   ]
  }
 ],
 "metadata": {
  "kernelspec": {
   "display_name": "nicobako.github.io",
   "language": "python",
   "name": "nicobako.github.io"
  },
  "language_info": {
   "codemirror_mode": {
    "name": "ipython",
    "version": 3
   },
   "file_extension": ".py",
   "mimetype": "text/x-python",
   "name": "python",
   "nbconvert_exporter": "python",
   "pygments_lexer": "ipython3",
   "version": "3.10.0"
  }
 },
 "nbformat": 4,
 "nbformat_minor": 5
}
