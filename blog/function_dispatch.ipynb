{
 "cells": [
  {
   "cell_type": "markdown",
   "id": "94b67604",
   "metadata": {},
   "source": [
    "# Creating Custom Dispatching Function\n",
    "\n",
    "\n",
    "```{note}\n",
    "In progress.\n",
    "```\n",
    "\n",
    "I used to do a lot of C++, and when I switched to Python I was happy... most of the time.\n",
    "Don't get me wrong, I prefer Python, but there are a few things I miss from C++.\n",
    "The most important thing is the strong type system. I particularly miss how easy\n",
    "it was to overload functions based on the types of the arguments.\n",
    "\n",
    "Of course, with a little creativity, we can get Python to do the same thing!\n",
    "In this article we'll create a custom and generic Function Dispatching mechanism.\n"
   ]
  }
 ],
 "metadata": {
  "kernelspec": {
   "display_name": "nicobako.github.io",
   "language": "python",
   "name": "nicobako.github.io"
  },
  "language_info": {
   "codemirror_mode": {
    "name": "ipython",
    "version": 3
   },
   "file_extension": ".py",
   "mimetype": "text/x-python",
   "name": "python",
   "nbconvert_exporter": "python",
   "pygments_lexer": "ipython3",
   "version": "3.10.0"
  }
 },
 "nbformat": 4,
 "nbformat_minor": 5
}
