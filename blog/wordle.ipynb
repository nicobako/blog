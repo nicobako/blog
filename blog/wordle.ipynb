{
 "cells": [
  {
   "cell_type": "markdown",
   "id": "2309cc5e",
   "metadata": {},
   "source": [
    "# Best Wordle Words\n",
    "\n",
    "[Wordle](https://www.powerlanguage.co.uk/wordle/) is extremely popular these days,\n",
    "and for good reason: it is so simple and elegant; a real joy.\n",
    "\n",
    "*Wordle* reminds us that the best of games are simple in nature, with few rules,\n",
    "and a great deal of freedom for players to develop their own strategies.\n",
    "But, don't let *Wordle*'s apparent simplicity fool you... it is all too easy\n",
    "to guess words ineffectively, and to lose!\n",
    "\n",
    "In this arrticle I will try to come up with some good words for initial guesses to *Wordle*.\n",
    "\n",
    "## 5-Letter Words\n",
    "\n",
    "Let's assume that the only rule to *Wordle*'s choice of words is that it is a 5-letter word.\n",
    "So, let's just get all 5-letter words."
   ]
  },
  {
   "cell_type": "code",
   "execution_count": null,
   "id": "828e1f55",
   "metadata": {},
   "outputs": [],
   "source": [
    "import string\n",
    "import nltk\n",
    "import pandas as pd\n",
    "import matplotlib.pyplot as plt\n",
    "\n",
    "nltk.download(\"words\")\n",
    "all_words = nltk.corpus.words.words\n",
    "\n",
    "five_letter_words = pd.DataFrame(\n",
    "    [word.lower() for word in all_words() if len(word) == 5],\n",
    "    columns=[\"word\"],\n",
    ")"
   ]
  },
  {
   "cell_type": "markdown",
   "id": "95d242f1",
   "metadata": {},
   "source": [
    "How many 5-letter words do we have?"
   ]
  },
  {
   "cell_type": "code",
   "execution_count": null,
   "id": "8bafeae8",
   "metadata": {},
   "outputs": [],
   "source": [
    "len(five_letter_words)"
   ]
  },
  {
   "cell_type": "markdown",
   "id": "c0fb68a3",
   "metadata": {},
   "source": [
    "Wow! That's a lot!"
   ]
  },
  {
   "cell_type": "markdown",
   "id": "2d195215",
   "metadata": {},
   "source": [
    "## Criteria for a Good Guess\n",
    "\n",
    "There are many theories on what makes a good guess,\n",
    "so please don't judge... but here is my naive simple criteria for a good guess:\n",
    "\n",
    "* Contains as many common letters as possible\n",
    "* Contains as many different letters as possible\n",
    "* Contains as many letters in common places as possible\n",
    "\n",
    "For now, let's keep it this simple. We can always make things more complicated later..."
   ]
  },
  {
   "cell_type": "markdown",
   "id": "0280eef2",
   "metadata": {},
   "source": [
    "## Collecting the Data\n",
    "\n",
    "This is not so tricky...\n",
    "We look at each word, look at which letters we find at each position in each word,\n",
    "and keep track of everything.\n",
    "Later we can use this data to calculate everything we need."
   ]
  },
  {
   "cell_type": "code",
   "execution_count": null,
   "id": "c0e92d2c",
   "metadata": {},
   "outputs": [],
   "source": [
    "def get_letters_data():\n",
    "    data = []\n",
    "    for word in five_letter_words[\"word\"]:\n",
    "        for position, letter in enumerate(word):\n",
    "            data.append({\"letter\": letter, \"position\": position + 1})\n",
    "    return pd.DataFrame(data)\n",
    "\n",
    "\n",
    "letters = get_letters_data()"
   ]
  },
  {
   "cell_type": "markdown",
   "id": "65210c9d",
   "metadata": {},
   "source": [
    "This data is a table whose rows contain two values: a letter; its position in a word.\n",
    "It might not seem like much, but it's all we need. Here's a quick glance at what\n",
    "this table looks like:"
   ]
  },
  {
   "cell_type": "code",
   "execution_count": null,
   "id": "2757b9b2",
   "metadata": {},
   "outputs": [],
   "source": [
    "letters.head()"
   ]
  },
  {
   "cell_type": "markdown",
   "id": "8b3baa16",
   "metadata": {},
   "source": [
    "## Most Common Letters\n",
    "\n",
    "Not too tough... We take a look at our letters data,\n",
    "group them by letter, and tally up the count."
   ]
  },
  {
   "cell_type": "code",
   "execution_count": null,
   "id": "c7a02ff0",
   "metadata": {},
   "outputs": [],
   "source": [
    "letters_count = letters.groupby(\"letter\").count()\n",
    "letters_count.columns = [\"count\"]\n",
    "letters_count = letters_count.sort_values(by=\"count\", ascending=False)\n",
    "letters_count.plot.barh(y=\"count\")"
   ]
  },
  {
   "cell_type": "markdown",
   "id": "6cdbe609",
   "metadata": {},
   "source": [
    "I don't know about you, but these results surprised me!\n",
    "The top 10 letters are:"
   ]
  },
  {
   "cell_type": "code",
   "execution_count": null,
   "id": "f6fc544e",
   "metadata": {},
   "outputs": [],
   "source": [
    "letters_count.head(10)"
   ]
  },
  {
   "cell_type": "markdown",
   "id": "dfaae1aa",
   "metadata": {},
   "source": [
    "And the lowest 10 are:"
   ]
  },
  {
   "cell_type": "code",
   "execution_count": null,
   "id": "2158976b",
   "metadata": {},
   "outputs": [],
   "source": [
    "letters_count.tail(10)"
   ]
  },
  {
   "cell_type": "markdown",
   "id": "042fd540",
   "metadata": {},
   "source": [
    "## Most Common Positions of Letters\n",
    "\n",
    "This is a little trickier...\n",
    "We group our data by letter and position, and count how many occurences\n",
    "of each letter-position combination."
   ]
  },
  {
   "cell_type": "code",
   "execution_count": null,
   "id": "a08242fc",
   "metadata": {},
   "outputs": [],
   "source": [
    "letters_position = pd.DataFrame(\n",
    "    {\"count\": letters.groupby([\"letter\", \"position\"]).size()}\n",
    ")"
   ]
  },
  {
   "cell_type": "markdown",
   "id": "9742e0d0",
   "metadata": {},
   "source": [
    "Here's what it looks like for the letter `a`"
   ]
  },
  {
   "cell_type": "code",
   "execution_count": null,
   "id": "cfc4f649",
   "metadata": {},
   "outputs": [],
   "source": [
    "letters_position.loc[\"a\"]"
   ]
  },
  {
   "cell_type": "markdown",
   "id": "10953e57",
   "metadata": {},
   "source": [
    "## What is the Best Guess?\n",
    "\n",
    "Okay, now we can start to apply our criteria for a good guess to determine\n",
    "which word is best! Here is our strategy:\n",
    "\n",
    "* Given any 5-letter word,\n",
    "    * we tally up how common each of its letters are\n",
    "        * we only count each letter once, to favour words with different letters\n",
    "    * we tally up how common the position of each letter is\n",
    "        * here, we count each letter, include duplicates\n",
    "\n",
    "Anyway, I'm bad at explaining things... here goes nothing!"
   ]
  },
  {
   "cell_type": "code",
   "execution_count": null,
   "id": "0b8128e8",
   "metadata": {},
   "outputs": [],
   "source": [
    "def compute_score(word: str) -> int:\n",
    "    score = 0\n",
    "    unique_letters = list(set(word))\n",
    "    for letter in unique_letters:\n",
    "        score += letters_count.loc[letter][\"count\"]\n",
    "    for i, letter in enumerate(word):\n",
    "        position = i + 1\n",
    "        score += letters_position.loc[letter, position][\"count\"]\n",
    "    return score"
   ]
  },
  {
   "cell_type": "markdown",
   "id": "2a8c1830",
   "metadata": {},
   "source": [
    "So, here's what the score of `apple` and `great` would be:"
   ]
  },
  {
   "cell_type": "code",
   "execution_count": null,
   "id": "e4ae6032",
   "metadata": {},
   "outputs": [],
   "source": [
    "compute_score(\"apple\")"
   ]
  },
  {
   "cell_type": "code",
   "execution_count": null,
   "id": "89d1e95d",
   "metadata": {},
   "outputs": [],
   "source": [
    "compute_score(\"great\")"
   ]
  },
  {
   "cell_type": "code",
   "execution_count": null,
   "id": "0fbbbda2",
   "metadata": {},
   "outputs": [],
   "source": [
    "five_letter_words[\"score\"] = [compute_score(word) for word in five_letter_words[\"word\"]]\n",
    "\n",
    "five_letter_words.sort_values(\"score\", ascending=False).head(20)"
   ]
  },
  {
   "cell_type": "markdown",
   "id": "f34c4bbe",
   "metadata": {},
   "source": [
    "## Conclusion\n",
    "\n",
    "Don't let this fancy code and math fool you,\n",
    "this is a naive approach. We are simply looking at\n",
    "which letters are most common, and which positions of letters\n",
    "are most common, and picking words that maximize this combination.\n",
    "\n",
    "In the end, this article may help you come up with a decent first guess,\n",
    "but the rest is up to you! Anyway, good luck on your next *Wordle*  game,\n",
    "and don't forget to try out one of the top words!"
   ]
  }
 ],
 "metadata": {
  "kernelspec": {
   "display_name": "nicobako.github.io",
   "language": "python",
   "name": "nicobako.github.io"
  },
  "language_info": {
   "codemirror_mode": {
    "name": "ipython",
    "version": 3
   },
   "file_extension": ".py",
   "mimetype": "text/x-python",
   "name": "python",
   "nbconvert_exporter": "python",
   "pygments_lexer": "ipython3",
   "version": "3.10.0"
  }
 },
 "nbformat": 4,
 "nbformat_minor": 5
}
