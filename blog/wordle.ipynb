{
 "cells": [
  {
   "cell_type": "markdown",
   "id": "2309cc5e",
   "metadata": {},
   "source": [
    "# Best Wordle Words\n",
    "\n",
    "[Wordle](https://www.powerlanguage.co.uk/wordle/) is extremely popular these days,\n",
    "and for good reason: it is so simple and elegant; a real joy.\n",
    "\n",
    "*Wordle* reminds us that the best of games are simple in nature, with few rules,\n",
    "and a great deal of freedom for players to develop their own strategies.\n",
    "But, don't let *Wordle*'s apparent simplicity fool you... it is all too easy\n",
    "to guess words ineffectively, and to lose!\n",
    "\n",
    "In this arrticle I will try to come up with some good words for initial guesses to *Wordle*.\n",
    "\n",
    "## 5-Letter Words\n",
    "\n",
    "Let's assume that the only rule to *Wordle*'s choice of words is that it is a 5-letter word.\n",
    "So, let's just get all 5-letter words."
   ]
  },
  {
   "cell_type": "code",
   "execution_count": null,
   "id": "828e1f55",
   "metadata": {},
   "outputs": [],
   "source": [
    "import string\n",
    "import pandas as pd\n",
    "import matplotlib.pyplot as plt\n",
    "import requests\n",
    "\n",
    "words_request = requests.get(\n",
    "    \"https://gist.githubusercontent.com/nicobako/759adb8f0e7fa514f408afb946e80042/raw/d9783627c731268fb2935a731a618aa8e95cf465/words\"\n",
    ")\n",
    "all_words = words_request.content.decode(\"utf-8\").lower().split()\n",
    "\n",
    "five_letter_words = pd.DataFrame(\n",
    "    (\n",
    "        word\n",
    "        for word in all_words\n",
    "        if len(word) == 5 and all(l in string.ascii_lowercase for l in word)\n",
    "    ),\n",
    "    columns=[\"word\"],\n",
    ")"
   ]
  },
  {
   "cell_type": "markdown",
   "id": "95d242f1",
   "metadata": {},
   "source": [
    "How many 5-letter words do we have?"
   ]
  },
  {
   "cell_type": "code",
   "execution_count": null,
   "id": "8bafeae8",
   "metadata": {},
   "outputs": [],
   "source": [
    "len(five_letter_words)"
   ]
  },
  {
   "cell_type": "markdown",
   "id": "c0fb68a3",
   "metadata": {},
   "source": [
    "Wow! That's a lot!"
   ]
  },
  {
   "cell_type": "markdown",
   "id": "2d195215",
   "metadata": {},
   "source": [
    "## Criteria for a Good Guess\n",
    "\n",
    "There are many theories on what makes a good guess,\n",
    "so please don't judge... but here is my naive simple criteria for a good guess:\n",
    "\n",
    "* Contains as many common letters as possible\n",
    "* Contains as many different letters as possible\n",
    "* Contains as many letters in common places as possible\n",
    "\n",
    "For now, let's keep it this simple. We can always make things more complicated later..."
   ]
  },
  {
   "cell_type": "markdown",
   "id": "0280eef2",
   "metadata": {},
   "source": [
    "## Collecting the Data\n",
    "\n",
    "This is not so tricky...\n",
    "We look at each word, look at which letters we find at each position in each word,\n",
    "and keep track of everything.\n",
    "Later we can use this data to calculate everything we need."
   ]
  },
  {
   "cell_type": "code",
   "execution_count": null,
   "id": "c0e92d2c",
   "metadata": {},
   "outputs": [],
   "source": [
    "def get_letters_data():\n",
    "    data = []\n",
    "    for word in five_letter_words[\"word\"]:\n",
    "        for position, letter in enumerate(word):\n",
    "            data.append({\"letter\": letter, \"position\": position + 1})\n",
    "    return pd.DataFrame(data)\n",
    "\n",
    "\n",
    "letters = get_letters_data()"
   ]
  },
  {
   "cell_type": "markdown",
   "id": "65210c9d",
   "metadata": {},
   "source": [
    "This data is a table whose rows contain two values: a letter; its position in a word.\n",
    "It might not seem like much, but it's all we need. Here's a quick glance at what\n",
    "this table looks like:"
   ]
  },
  {
   "cell_type": "code",
   "execution_count": null,
   "id": "2757b9b2",
   "metadata": {},
   "outputs": [],
   "source": [
    "letters.head()"
   ]
  },
  {
   "cell_type": "markdown",
   "id": "8b3baa16",
   "metadata": {},
   "source": [
    "## Most Common Letters\n",
    "\n",
    "Given our data, we can now count the occurences of each letter.\n",
    "This reflects how commonly each letter is found in any word.\n",
    "To calculate this we take a look at our letters data,\n",
    "group them by letter, and tally up the count."
   ]
  },
  {
   "cell_type": "code",
   "execution_count": null,
   "id": "c7a02ff0",
   "metadata": {},
   "outputs": [],
   "source": [
    "letters_count = letters.groupby(\"letter\").count()\n",
    "letters_count.columns = [\"count\"]\n",
    "letters_count = letters_count.sort_values(by=\"count\", ascending=False)\n",
    "letters_count.plot.barh(y=\"count\")\n",
    "plt.show()"
   ]
  },
  {
   "cell_type": "markdown",
   "id": "6cdbe609",
   "metadata": {},
   "source": [
    "I don't know about you, but these results surprised me!\n",
    "The top 10 letters are:"
   ]
  },
  {
   "cell_type": "code",
   "execution_count": null,
   "id": "f6fc544e",
   "metadata": {},
   "outputs": [],
   "source": [
    "letters_count.head(10)"
   ]
  },
  {
   "cell_type": "markdown",
   "id": "dfaae1aa",
   "metadata": {},
   "source": [
    "And the lowest 10 are:"
   ]
  },
  {
   "cell_type": "code",
   "execution_count": null,
   "id": "2158976b",
   "metadata": {},
   "outputs": [],
   "source": [
    "letters_count.tail(10)"
   ]
  },
  {
   "cell_type": "markdown",
   "id": "368442ed",
   "metadata": {},
   "source": [
    "Let's create a new column in our letters-count table\n",
    "with the percent occurence of each letter:"
   ]
  },
  {
   "cell_type": "code",
   "execution_count": null,
   "id": "b0544769",
   "metadata": {},
   "outputs": [],
   "source": [
    "letters_count[\"percent\"] = 100 * letters_count[\"count\"] / letters_count[\"count\"].sum()"
   ]
  },
  {
   "cell_type": "markdown",
   "id": "efc0d4a5",
   "metadata": {},
   "source": [
    "As usual, the sum of the percent column should equal 100%."
   ]
  },
  {
   "cell_type": "code",
   "execution_count": null,
   "id": "17f64819",
   "metadata": {},
   "outputs": [],
   "source": [
    "letters_count[\"percent\"].sum()"
   ]
  },
  {
   "cell_type": "code",
   "execution_count": null,
   "id": "e5b13bb6",
   "metadata": {},
   "outputs": [],
   "source": [
    "letters_count[\"percent\"].plot.pie(y=\"letter\")\n",
    "plt.show()"
   ]
  },
  {
   "cell_type": "markdown",
   "id": "f0de3700",
   "metadata": {},
   "source": [
    "## Words With Most Common Letters\n",
    "\n",
    "Using the occurence of each letter, we can look\n",
    "at all of our words, and give them a score\n",
    "based on how common the letters of the word are.\n",
    "\n",
    "We also don't want to give words extra points for having\n",
    "the same letter multiple times... Remember, the whole\n",
    "point of this is to come up with a good first guess for Wordle,\n",
    "so it would be more helpful if our first guess contained unique letters."
   ]
  },
  {
   "cell_type": "code",
   "execution_count": null,
   "id": "900e9640",
   "metadata": {},
   "outputs": [],
   "source": [
    "def score_based_on_letters_count(word: str) -> float:\n",
    "    score = 0.0\n",
    "    unique_letters = list(set(word))\n",
    "    for letter in unique_letters:\n",
    "        score += letters_count.loc[letter].percent\n",
    "    return score"
   ]
  },
  {
   "cell_type": "markdown",
   "id": "9c0642a0",
   "metadata": {},
   "source": [
    "In this way, the score of a letter like `apple` is:"
   ]
  },
  {
   "cell_type": "code",
   "execution_count": null,
   "id": "f70b0119",
   "metadata": {},
   "outputs": [],
   "source": [
    "score_based_on_letters_count(\"apple\")"
   ]
  },
  {
   "cell_type": "markdown",
   "id": "66639127",
   "metadata": {},
   "source": [
    "We can take this metric and calculate a score for all of our 5-letter words."
   ]
  },
  {
   "cell_type": "code",
   "execution_count": null,
   "id": "f13cb15f",
   "metadata": {},
   "outputs": [],
   "source": [
    "five_letter_words[\"score_letters_count\"] = [\n",
    "    score_based_on_letters_count(word) for word in five_letter_words[\"word\"]\n",
    "]"
   ]
  },
  {
   "cell_type": "markdown",
   "id": "10c13a90",
   "metadata": {},
   "source": [
    "Let's take a look at some of the top words:"
   ]
  },
  {
   "cell_type": "code",
   "execution_count": null,
   "id": "c5137354",
   "metadata": {},
   "outputs": [],
   "source": [
    "five_letter_words.sort_values(\"score_letters_count\", ascending=False).head(\n",
    "    10\n",
    ").set_index(\"word\")"
   ]
  },
  {
   "cell_type": "markdown",
   "id": "042fd540",
   "metadata": {},
   "source": [
    "## Most Common Positions of Letters\n",
    "\n",
    "Another important thing to look at is the relative position of the\n",
    "letters in our first guess. We want a word whose letters\n",
    "are not only common, but whose positions of letters are in common places.\n",
    "\n",
    "This is a little trickier to do, but stil not that tough.\n",
    "We group our data by letter and position, and count how many occurences\n",
    "of each letter-position combination."
   ]
  },
  {
   "cell_type": "code",
   "execution_count": null,
   "id": "a08242fc",
   "metadata": {},
   "outputs": [],
   "source": [
    "letters_position = pd.DataFrame(\n",
    "    {\"count\": letters.groupby([\"letter\", \"position\"]).size()}\n",
    ")"
   ]
  },
  {
   "cell_type": "markdown",
   "id": "9742e0d0",
   "metadata": {},
   "source": [
    "Here's what it looks like for the letter `a`"
   ]
  },
  {
   "cell_type": "code",
   "execution_count": null,
   "id": "cfc4f649",
   "metadata": {},
   "outputs": [],
   "source": [
    "letters_position.loc[\"a\"]"
   ]
  },
  {
   "cell_type": "markdown",
   "id": "10f5a9b2",
   "metadata": {},
   "source": [
    "You  can see that `a` is most commonly in the second position.\n",
    "\n",
    "Let's create a *percent* column for this table as well."
   ]
  },
  {
   "cell_type": "code",
   "execution_count": null,
   "id": "0f612ee7",
   "metadata": {},
   "outputs": [],
   "source": [
    "letters_position[\"percent\"] = (\n",
    "    100 * letters_position[\"count\"] / letters_position[\"count\"].sum()\n",
    ")"
   ]
  },
  {
   "cell_type": "markdown",
   "id": "c810a538",
   "metadata": {},
   "source": [
    "Let's make sure the sum of the percent is 100%."
   ]
  },
  {
   "cell_type": "code",
   "execution_count": null,
   "id": "d1e9aaa0",
   "metadata": {},
   "outputs": [],
   "source": [
    "letters_position[\"percent\"].sum()"
   ]
  },
  {
   "cell_type": "markdown",
   "id": "0cc075c9",
   "metadata": {},
   "source": [
    "And here's a fancy chart displaying how the letters and positions\n",
    "look for each letter:"
   ]
  },
  {
   "cell_type": "code",
   "execution_count": null,
   "id": "6598ef76",
   "metadata": {},
   "outputs": [],
   "source": [
    "letters_position_pivoted = letters_position.reset_index().pivot(\n",
    "    index=\"letter\", columns=\"position\", values=\"percent\"\n",
    ")\n",
    "letters_position_pivoted.sort_values(\"letter\")\n",
    "letters_position_pivoted.style.background_gradient(\"YlGn\")"
   ]
  },
  {
   "cell_type": "markdown",
   "id": "0ec3fef6",
   "metadata": {},
   "source": [
    "This chart is really quite useful, from a glance you can see that\n",
    "some letters are much more likely to be in certain positions of the word,\n",
    "so when making guesses, it's important to keep this in mind."
   ]
  },
  {
   "cell_type": "markdown",
   "id": "e30f573c",
   "metadata": {},
   "source": [
    "## Words with Most Common Letter Positions\n",
    "\n",
    "We can use the above data to score each of our 5-letter words\n",
    "based on the positions of the letters.\n",
    "We just look at all of the letters of our word and their corresponding\n",
    "positions, and tally up the percent chance of encountering each\n",
    "letter in its position.\n",
    "\n",
    "Here will count all letters, even duplicates... not sure why, it just feels right."
   ]
  },
  {
   "cell_type": "code",
   "execution_count": null,
   "id": "a026178d",
   "metadata": {},
   "outputs": [],
   "source": [
    "def score_based_on_letters_position(word: str) -> float:\n",
    "    score = 0.0\n",
    "    for i, letter in enumerate(word):\n",
    "        position = i + 1\n",
    "        score += letters_position.loc[letter, position][\"percent\"]\n",
    "    return score"
   ]
  },
  {
   "cell_type": "markdown",
   "id": "2bad2e04",
   "metadata": {},
   "source": [
    "So, the score of `apple` in this case would be:"
   ]
  },
  {
   "cell_type": "code",
   "execution_count": null,
   "id": "ba3d4bd2",
   "metadata": {},
   "outputs": [],
   "source": [
    "score_based_on_letters_position(\"apple\")"
   ]
  },
  {
   "cell_type": "markdown",
   "id": "c8c80a69",
   "metadata": {},
   "source": [
    "You can see right away that the score for the word `apple` is very different than before.\n",
    "\n",
    "Let's calculate the score for each of our 5-letter words based on the positions\n",
    "of its letters."
   ]
  },
  {
   "cell_type": "code",
   "execution_count": null,
   "id": "fcd1929b",
   "metadata": {},
   "outputs": [],
   "source": [
    "five_letter_words[\"score_letters_position\"] = [\n",
    "    score_based_on_letters_position(word) for word in five_letter_words[\"word\"]\n",
    "]"
   ]
  },
  {
   "cell_type": "markdown",
   "id": "f06fe913",
   "metadata": {},
   "source": [
    "Let's take a look at the top 10 in this case."
   ]
  },
  {
   "cell_type": "code",
   "execution_count": null,
   "id": "abb82727",
   "metadata": {},
   "outputs": [],
   "source": [
    "five_letter_words.sort_values(\"score_letters_position\", ascending=False).head(\n",
    "    10\n",
    ").set_index(\"word\").style.background_gradient(\"YlGn\")"
   ]
  },
  {
   "cell_type": "markdown",
   "id": "22349910",
   "metadata": {},
   "source": [
    "You may be surprised, as I was, to find that these two ways of scoring words\n",
    "generated very different lists!"
   ]
  },
  {
   "cell_type": "markdown",
   "id": "10953e57",
   "metadata": {},
   "source": [
    "## What is the Best Guess?\n",
    "\n",
    "So, what is the best first guess.\n",
    "We'll naively assume that is a combination of these two scoring methods.\n",
    "We'll just add up the scores for letter-count and letter-position,\n",
    "and look at the top words."
   ]
  },
  {
   "cell_type": "code",
   "execution_count": null,
   "id": "0b8128e8",
   "metadata": {},
   "outputs": [],
   "source": [
    "five_letter_words[\"final_score\"] = (\n",
    "    five_letter_words[\"score_letters_count\"]\n",
    "    + five_letter_words[\"score_letters_position\"]\n",
    ")"
   ]
  },
  {
   "cell_type": "code",
   "execution_count": null,
   "id": "0fbbbda2",
   "metadata": {},
   "outputs": [],
   "source": [
    "five_letter_words.sort_values(\"final_score\", ascending=False).set_index(\"word\").head(\n",
    "    20\n",
    ").style.background_gradient(\"YlGn\")"
   ]
  },
  {
   "cell_type": "markdown",
   "id": "f34c4bbe",
   "metadata": {},
   "source": [
    "## Conclusion\n",
    "\n",
    "Don't let this fancy code and math fool you,\n",
    "this is a naive approach. We are simply looking at\n",
    "which letters are most common, and which positions of letters\n",
    "are most common, and picking words that maximize this combination.\n",
    "There are a ton of other details that this code simply isn't considering,\n",
    "and a lot of ways this code can be improved.\n",
    "\n",
    "In the end, this article may help you come up with a decent first guess,\n",
    "but the rest is up to you! Anyway, good luck on your next *Wordle*  game,\n",
    "and don't forget to try out one of the top words!"
   ]
  }
 ],
 "metadata": {
  "kernelspec": {
   "display_name": "nicobako.github.io",
   "language": "python",
   "name": "nicobako.github.io"
  },
  "language_info": {
   "codemirror_mode": {
    "name": "ipython",
    "version": 3
   },
   "file_extension": ".py",
   "mimetype": "text/x-python",
   "name": "python",
   "nbconvert_exporter": "python",
   "pygments_lexer": "ipython3",
   "version": "3.10.0"
  }
 },
 "nbformat": 4,
 "nbformat_minor": 5
}
