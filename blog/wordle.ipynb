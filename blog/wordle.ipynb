{
 "cells": [
  {
   "cell_type": "markdown",
   "id": "2309cc5e",
   "metadata": {},
   "source": [
    "# Best Wordle Words\n",
    "\n",
    "[Wordle](https://www.powerlanguage.co.uk/wordle/) is extremely popular these days,\n",
    "and for good reason: it is so simple and elegant; a real joy.\n",
    "\n",
    "*Wordle* reminds us that the best of games are simple in nature, with few rules,\n",
    "and a great deal of freedom for players to develop their own strategies.\n",
    "But, don't let *Wordle*'s apparent simplicity fool you... it is all too easy\n",
    "to guess words ineffectively, and to lose!\n",
    "\n",
    "In this arrticle I will try to come up with some good words for initial guesses to *Wordle*.\n",
    "\n",
    "## 5-Letter Words\n",
    "\n",
    "Let's assume that the only rule to *Wordle*'s choice of words is that it is a 5-letter word.\n",
    "So, let's just get all 5-letter words."
   ]
  },
  {
   "cell_type": "code",
   "execution_count": 1,
   "id": "828e1f55",
   "metadata": {},
   "outputs": [
    {
     "name": "stderr",
     "output_type": "stream",
     "text": [
      "[nltk_data] Downloading package words to /home/nicob/nltk_data...\n",
      "[nltk_data]   Package words is already up-to-date!\n"
     ]
    }
   ],
   "source": [
    "import string\n",
    "import nltk\n",
    "import pandas as pd\n",
    "\n",
    "nltk.download(\"words\")\n",
    "five_letter_words = [\n",
    "    word.lower() for word in nltk.corpus.words.words() if len(word) == 5\n",
    "]"
   ]
  },
  {
   "cell_type": "markdown",
   "id": "95d242f1",
   "metadata": {},
   "source": [
    "How many 5-letter words do we have?"
   ]
  },
  {
   "cell_type": "code",
   "execution_count": 2,
   "id": "8bafeae8",
   "metadata": {},
   "outputs": [
    {
     "data": {
      "text/plain": [
       "10422"
      ]
     },
     "execution_count": 2,
     "metadata": {},
     "output_type": "execute_result"
    }
   ],
   "source": [
    "len(five_letter_words)"
   ]
  },
  {
   "cell_type": "markdown",
   "id": "c0fb68a3",
   "metadata": {},
   "source": [
    "Wow! That's a lot!"
   ]
  },
  {
   "cell_type": "markdown",
   "id": "2d195215",
   "metadata": {},
   "source": [
    "## Criteria for a Good Guess\n",
    "\n",
    "There are many theories on what makes a good guess,\n",
    "so please don't judge... but here is my naive simple criteria for a good guess:\n",
    "\n",
    "* Contains as many common letters as possible\n",
    "* Contains as many different letters as possible\n",
    "\n",
    "For now, let's keep it this simple. We can always make things more complicated later..."
   ]
  },
  {
   "cell_type": "markdown",
   "id": "ec18f15a",
   "metadata": {},
   "source": [
    "### What are the Most Common Letters?\n",
    "\n",
    "Figuring this out is not too difficult.\n",
    "We just look at all of the words,\n",
    "look at all of their individual letters,\n",
    "and count how many times we encounter each letter."
   ]
  },
  {
   "cell_type": "code",
   "execution_count": 3,
   "id": "47fbc548",
   "metadata": {},
   "outputs": [],
   "source": [
    "# get all available letters\n",
    "letters = string.ascii_lowercase\n",
    "\n",
    "# begin the count at 0\n",
    "letter_count = {letter: 0 for letter in letters}\n",
    "\n",
    "# count how many times we encounter each letter in the each word\n",
    "for word in five_letter_words:\n",
    "    for letter in word.lower():\n",
    "        letter_count[letter] += 1"
   ]
  },
  {
   "cell_type": "markdown",
   "id": "0d6a36e6",
   "metadata": {},
   "source": [
    "Let's see what the results are."
   ]
  },
  {
   "cell_type": "code",
   "execution_count": 4,
   "id": "95f9592f",
   "metadata": {},
   "outputs": [
    {
     "data": {
      "text/plain": [
       "<AxesSubplot:ylabel='letter'>"
      ]
     },
     "execution_count": 4,
     "metadata": {},
     "output_type": "execute_result"
    },
    {
     "data": {
      "image/png": "[encoded data removed]",
      "text/plain": [
       "<Figure size 432x288 with 1 Axes>"
      ]
     },
     "metadata": {
      "needs_background": "light"
     },
     "output_type": "display_data"
    }
   ],
   "source": [
    "letter_count_df = pd.DataFrame(letter_count.items(), columns=[\"letter\", \"count\"])\n",
    "\n",
    "letter_count_df.sort_values(\"count\", ascending=False).plot.barh(y=\"count\", x=\"letter\")"
   ]
  },
  {
   "cell_type": "markdown",
   "id": "6cdbe609",
   "metadata": {},
   "source": [
    "I don't know about you, but these results surprised me!\n",
    "The top 10 letters are:"
   ]
  },
  {
   "cell_type": "code",
   "execution_count": 5,
   "id": "f6fc544e",
   "metadata": {},
   "outputs": [
    {
     "data": {
      "text/html": [
       "<div>\n",
       "<style scoped>\n",
       "    .dataframe tbody tr th:only-of-type {\n",
       "        vertical-align: middle;\n",
       "    }\n",
       "\n",
       "    .dataframe tbody tr th {\n",
       "        vertical-align: top;\n",
       "    }\n",
       "\n",
       "    .dataframe thead th {\n",
       "        text-align: right;\n",
       "    }\n",
       "</style>\n",
       "<table border=\"1\" class=\"dataframe\">\n",
       "  <thead>\n",
       "    <tr style=\"text-align: right;\">\n",
       "      <th></th>\n",
       "      <th>letter</th>\n",
       "      <th>count</th>\n",
       "    </tr>\n",
       "  </thead>\n",
       "  <tbody>\n",
       "    <tr>\n",
       "      <th>0</th>\n",
       "      <td>a</td>\n",
       "      <td>5879</td>\n",
       "    </tr>\n",
       "    <tr>\n",
       "      <th>4</th>\n",
       "      <td>e</td>\n",
       "      <td>5019</td>\n",
       "    </tr>\n",
       "    <tr>\n",
       "      <th>17</th>\n",
       "      <td>r</td>\n",
       "      <td>3640</td>\n",
       "    </tr>\n",
       "    <tr>\n",
       "      <th>14</th>\n",
       "      <td>o</td>\n",
       "      <td>3372</td>\n",
       "    </tr>\n",
       "    <tr>\n",
       "      <th>8</th>\n",
       "      <td>i</td>\n",
       "      <td>3365</td>\n",
       "    </tr>\n",
       "    <tr>\n",
       "      <th>18</th>\n",
       "      <td>s</td>\n",
       "      <td>2954</td>\n",
       "    </tr>\n",
       "    <tr>\n",
       "      <th>11</th>\n",
       "      <td>l</td>\n",
       "      <td>2848</td>\n",
       "    </tr>\n",
       "    <tr>\n",
       "      <th>13</th>\n",
       "      <td>n</td>\n",
       "      <td>2827</td>\n",
       "    </tr>\n",
       "    <tr>\n",
       "      <th>19</th>\n",
       "      <td>t</td>\n",
       "      <td>2807</td>\n",
       "    </tr>\n",
       "    <tr>\n",
       "      <th>20</th>\n",
       "      <td>u</td>\n",
       "      <td>2333</td>\n",
       "    </tr>\n",
       "  </tbody>\n",
       "</table>\n",
       "</div>"
      ],
      "text/plain": [
       "   letter  count\n",
       "0       a   5879\n",
       "4       e   5019\n",
       "17      r   3640\n",
       "14      o   3372\n",
       "8       i   3365\n",
       "18      s   2954\n",
       "11      l   2848\n",
       "13      n   2827\n",
       "19      t   2807\n",
       "20      u   2333"
      ]
     },
     "execution_count": 5,
     "metadata": {},
     "output_type": "execute_result"
    }
   ],
   "source": [
    "letter_count_df.sort_values(\"count\", ascending=False).head(10)"
   ]
  },
  {
   "cell_type": "markdown",
   "id": "dfaae1aa",
   "metadata": {},
   "source": [
    "And the lowest 10 are:"
   ]
  },
  {
   "cell_type": "code",
   "execution_count": 6,
   "id": "2158976b",
   "metadata": {},
   "outputs": [
    {
     "data": {
      "text/html": [
       "<div>\n",
       "<style scoped>\n",
       "    .dataframe tbody tr th:only-of-type {\n",
       "        vertical-align: middle;\n",
       "    }\n",
       "\n",
       "    .dataframe tbody tr th {\n",
       "        vertical-align: top;\n",
       "    }\n",
       "\n",
       "    .dataframe thead th {\n",
       "        text-align: right;\n",
       "    }\n",
       "</style>\n",
       "<table border=\"1\" class=\"dataframe\">\n",
       "  <thead>\n",
       "    <tr style=\"text-align: right;\">\n",
       "      <th></th>\n",
       "      <th>letter</th>\n",
       "      <th>count</th>\n",
       "    </tr>\n",
       "  </thead>\n",
       "  <tbody>\n",
       "    <tr>\n",
       "      <th>16</th>\n",
       "      <td>q</td>\n",
       "      <td>102</td>\n",
       "    </tr>\n",
       "    <tr>\n",
       "      <th>23</th>\n",
       "      <td>x</td>\n",
       "      <td>241</td>\n",
       "    </tr>\n",
       "    <tr>\n",
       "      <th>9</th>\n",
       "      <td>j</td>\n",
       "      <td>251</td>\n",
       "    </tr>\n",
       "    <tr>\n",
       "      <th>25</th>\n",
       "      <td>z</td>\n",
       "      <td>308</td>\n",
       "    </tr>\n",
       "    <tr>\n",
       "      <th>21</th>\n",
       "      <td>v</td>\n",
       "      <td>555</td>\n",
       "    </tr>\n",
       "    <tr>\n",
       "      <th>5</th>\n",
       "      <td>f</td>\n",
       "      <td>755</td>\n",
       "    </tr>\n",
       "    <tr>\n",
       "      <th>22</th>\n",
       "      <td>w</td>\n",
       "      <td>764</td>\n",
       "    </tr>\n",
       "    <tr>\n",
       "      <th>10</th>\n",
       "      <td>k</td>\n",
       "      <td>1121</td>\n",
       "    </tr>\n",
       "    <tr>\n",
       "      <th>6</th>\n",
       "      <td>g</td>\n",
       "      <td>1319</td>\n",
       "    </tr>\n",
       "    <tr>\n",
       "      <th>1</th>\n",
       "      <td>b</td>\n",
       "      <td>1397</td>\n",
       "    </tr>\n",
       "  </tbody>\n",
       "</table>\n",
       "</div>"
      ],
      "text/plain": [
       "   letter  count\n",
       "16      q    102\n",
       "23      x    241\n",
       "9       j    251\n",
       "25      z    308\n",
       "21      v    555\n",
       "5       f    755\n",
       "22      w    764\n",
       "10      k   1121\n",
       "6       g   1319\n",
       "1       b   1397"
      ]
     },
     "execution_count": 6,
     "metadata": {},
     "output_type": "execute_result"
    }
   ],
   "source": [
    "letter_count_df.sort_values(\"count\", ascending=True).head(10)"
   ]
  },
  {
   "cell_type": "markdown",
   "id": "10953e57",
   "metadata": {},
   "source": [
    "## What is the Best Guess?\n",
    "\n",
    "Okay, now we can start to apply our criteria for a good guess to determine\n",
    "which word is best! Here is our strategy:\n",
    "\n",
    "* we will look at each word individually\n",
    "* we will look at all of the unique letters in the word\n",
    "* for each unique letter, we will get its count\n",
    "* we will sum all of the counts\n",
    "\n",
    "Anyway, I'm bad at explaining things... here goes nothing!"
   ]
  },
  {
   "cell_type": "code",
   "execution_count": 7,
   "id": "ad8c0821",
   "metadata": {},
   "outputs": [],
   "source": [
    "words_df = pd.DataFrame(five_letter_words, columns=[\"word\"])"
   ]
  },
  {
   "cell_type": "code",
   "execution_count": 14,
   "id": "0fbbbda2",
   "metadata": {},
   "outputs": [
    {
     "data": {
      "text/html": [
       "<div>\n",
       "<style scoped>\n",
       "    .dataframe tbody tr th:only-of-type {\n",
       "        vertical-align: middle;\n",
       "    }\n",
       "\n",
       "    .dataframe tbody tr th {\n",
       "        vertical-align: top;\n",
       "    }\n",
       "\n",
       "    .dataframe thead th {\n",
       "        text-align: right;\n",
       "    }\n",
       "</style>\n",
       "<table border=\"1\" class=\"dataframe\">\n",
       "  <thead>\n",
       "    <tr style=\"text-align: right;\">\n",
       "      <th></th>\n",
       "      <th>word</th>\n",
       "      <th>score</th>\n",
       "    </tr>\n",
       "  </thead>\n",
       "  <tbody>\n",
       "    <tr>\n",
       "      <th>603</th>\n",
       "      <td>arose</td>\n",
       "      <td>20864</td>\n",
       "    </tr>\n",
       "    <tr>\n",
       "      <th>6123</th>\n",
       "      <td>oreas</td>\n",
       "      <td>20864</td>\n",
       "    </tr>\n",
       "    <tr>\n",
       "      <th>6907</th>\n",
       "      <td>raise</td>\n",
       "      <td>20857</td>\n",
       "    </tr>\n",
       "    <tr>\n",
       "      <th>7635</th>\n",
       "      <td>serai</td>\n",
       "      <td>20857</td>\n",
       "    </tr>\n",
       "    <tr>\n",
       "      <th>579</th>\n",
       "      <td>aries</td>\n",
       "      <td>20857</td>\n",
       "    </tr>\n",
       "    <tr>\n",
       "      <th>583</th>\n",
       "      <td>arise</td>\n",
       "      <td>20857</td>\n",
       "    </tr>\n",
       "    <tr>\n",
       "      <th>4960</th>\n",
       "      <td>leora</td>\n",
       "      <td>20758</td>\n",
       "    </tr>\n",
       "    <tr>\n",
       "      <th>577</th>\n",
       "      <td>ariel</td>\n",
       "      <td>20751</td>\n",
       "    </tr>\n",
       "    <tr>\n",
       "      <th>578</th>\n",
       "      <td>ariel</td>\n",
       "      <td>20751</td>\n",
       "    </tr>\n",
       "    <tr>\n",
       "      <th>2920</th>\n",
       "      <td>erian</td>\n",
       "      <td>20730</td>\n",
       "    </tr>\n",
       "    <tr>\n",
       "      <th>7044</th>\n",
       "      <td>reina</td>\n",
       "      <td>20730</td>\n",
       "    </tr>\n",
       "    <tr>\n",
       "      <th>4319</th>\n",
       "      <td>irena</td>\n",
       "      <td>20730</td>\n",
       "    </tr>\n",
       "    <tr>\n",
       "      <th>6116</th>\n",
       "      <td>orate</td>\n",
       "      <td>20717</td>\n",
       "    </tr>\n",
       "    <tr>\n",
       "      <th>622</th>\n",
       "      <td>artie</td>\n",
       "      <td>20710</td>\n",
       "    </tr>\n",
       "    <tr>\n",
       "      <th>4318</th>\n",
       "      <td>irate</td>\n",
       "      <td>20710</td>\n",
       "    </tr>\n",
       "    <tr>\n",
       "      <th>8734</th>\n",
       "      <td>tarie</td>\n",
       "      <td>20710</td>\n",
       "    </tr>\n",
       "    <tr>\n",
       "      <th>585</th>\n",
       "      <td>arite</td>\n",
       "      <td>20710</td>\n",
       "    </tr>\n",
       "    <tr>\n",
       "      <th>7102</th>\n",
       "      <td>retia</td>\n",
       "      <td>20710</td>\n",
       "    </tr>\n",
       "    <tr>\n",
       "      <th>589</th>\n",
       "      <td>arles</td>\n",
       "      <td>20340</td>\n",
       "    </tr>\n",
       "    <tr>\n",
       "      <th>4880</th>\n",
       "      <td>laser</td>\n",
       "      <td>20340</td>\n",
       "    </tr>\n",
       "  </tbody>\n",
       "</table>\n",
       "</div>"
      ],
      "text/plain": [
       "       word  score\n",
       "603   arose  20864\n",
       "6123  oreas  20864\n",
       "6907  raise  20857\n",
       "7635  serai  20857\n",
       "579   aries  20857\n",
       "583   arise  20857\n",
       "4960  leora  20758\n",
       "577   ariel  20751\n",
       "578   ariel  20751\n",
       "2920  erian  20730\n",
       "7044  reina  20730\n",
       "4319  irena  20730\n",
       "6116  orate  20717\n",
       "622   artie  20710\n",
       "4318  irate  20710\n",
       "8734  tarie  20710\n",
       "585   arite  20710\n",
       "7102  retia  20710\n",
       "589   arles  20340\n",
       "4880  laser  20340"
      ]
     },
     "execution_count": 14,
     "metadata": {},
     "output_type": "execute_result"
    }
   ],
   "source": [
    "def compute_word_score(word: str) -> int:\n",
    "    unique_letters = list(set(word))\n",
    "    score = sum(letter_count[letter] for letter in unique_letters)\n",
    "    return score\n",
    "\n",
    "\n",
    "words_df[\"score\"] = [compute_word_score(word) for word in words_df[\"word\"]]\n",
    "\n",
    "words_df.sort_values(\"score\", ascending=False).head(20)"
   ]
  }
 ],
 "metadata": {
  "kernelspec": {
   "display_name": "nicobako.github.io",
   "language": "python",
   "name": "nicobako.github.io"
  },
  "language_info": {
   "codemirror_mode": {
    "name": "ipython",
    "version": 3
   },
   "file_extension": ".py",
   "mimetype": "text/x-python",
   "name": "python",
   "nbconvert_exporter": "python",
   "pygments_lexer": "ipython3",
   "version": "3.10.0"
  }
 },
 "nbformat": 4,
 "nbformat_minor": 5
}
