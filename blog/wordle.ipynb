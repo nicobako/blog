{
 "cells": [
  {
   "cell_type": "markdown",
   "id": "2309cc5e",
   "metadata": {},
   "source": [
    "# Best Wordle Words\n",
    "\n",
    "[Wordle](https://www.powerlanguage.co.uk/wordle/) is extremely popular these days,\n",
    "and for good reason: it is so simple and elegant; a real joy.\n",
    "\n",
    "*Wordle* reminds us that the best of games are simple in nature, with few rules,\n",
    "and a great deal of freedom for players to develop their own strategies.\n",
    "But, don't let *Wordle*'s apparent simplicity fool you... it is all too easy\n",
    "to guess words ineffectively, and to lose!\n",
    "\n",
    "In this arrticle I will try to come up with some good words for initial guesses to *Wordle*.\n",
    "\n",
    "## 5-Letter Words\n",
    "\n",
    "Let's assume that the only rule to *Wordle*'s choice of words is that it is a 5-letter word.\n",
    "So, let's just get all 5-letter words."
   ]
  },
  {
   "cell_type": "code",
   "execution_count": 1,
   "id": "828e1f55",
   "metadata": {},
   "outputs": [],
   "source": [
    "import string\n",
    "import pandas as pd\n",
    "import matplotlib.pyplot as plt\n",
    "import requests\n",
    "\n",
    "words_request = requests.get(\n",
    "    \"https://gist.githubusercontent.com/nicobako/759adb8f0e7fa514f408afb946e80042/raw/d9783627c731268fb2935a731a618aa8e95cf465/words\"\n",
    ")\n",
    "all_words = words_request.content.decode(\"utf-8\").lower().split()\n",
    "\n",
    "five_letter_words = pd.DataFrame(\n",
    "    (\n",
    "        word\n",
    "        for word in all_words\n",
    "        if len(word) == 5 and all(l in string.ascii_lowercase for l in word)\n",
    "    ),\n",
    "    columns=[\"word\"],\n",
    ")"
   ]
  },
  {
   "cell_type": "markdown",
   "id": "95d242f1",
   "metadata": {},
   "source": [
    "How many 5-letter words do we have?"
   ]
  },
  {
   "cell_type": "code",
   "execution_count": 2,
   "id": "8bafeae8",
   "metadata": {},
   "outputs": [
    {
     "data": {
      "text/plain": [
       "6071"
      ]
     },
     "execution_count": 2,
     "metadata": {},
     "output_type": "execute_result"
    }
   ],
   "source": [
    "len(five_letter_words)"
   ]
  },
  {
   "cell_type": "markdown",
   "id": "c0fb68a3",
   "metadata": {},
   "source": [
    "Wow! That's a lot!"
   ]
  },
  {
   "cell_type": "markdown",
   "id": "2d195215",
   "metadata": {},
   "source": [
    "## Criteria for a Good Guess\n",
    "\n",
    "There are many theories on what makes a good guess,\n",
    "so please don't judge... but here is my naive simple criteria for a good guess:\n",
    "\n",
    "* Contains as many common letters as possible\n",
    "* Contains as many different letters as possible\n",
    "* Contains as many letters in common places as possible\n",
    "\n",
    "For now, let's keep it this simple. We can always make things more complicated later..."
   ]
  },
  {
   "cell_type": "markdown",
   "id": "0280eef2",
   "metadata": {},
   "source": [
    "## Collecting the Data\n",
    "\n",
    "This is not so tricky...\n",
    "We look at each word, look at which letters we find at each position in each word,\n",
    "and keep track of everything.\n",
    "Later we can use this data to calculate everything we need."
   ]
  },
  {
   "cell_type": "code",
   "execution_count": 3,
   "id": "c0e92d2c",
   "metadata": {},
   "outputs": [],
   "source": [
    "def get_letters_data():\n",
    "    data = []\n",
    "    for word in five_letter_words[\"word\"]:\n",
    "        for position, letter in enumerate(word):\n",
    "            data.append({\"letter\": letter, \"position\": position + 1})\n",
    "    return pd.DataFrame(data)\n",
    "\n",
    "\n",
    "letters = get_letters_data()"
   ]
  },
  {
   "cell_type": "markdown",
   "id": "65210c9d",
   "metadata": {},
   "source": [
    "This data is a table whose rows contain two values: a letter; its position in a word.\n",
    "It might not seem like much, but it's all we need. Here's a quick glance at what\n",
    "this table looks like:"
   ]
  },
  {
   "cell_type": "code",
   "execution_count": 4,
   "id": "2757b9b2",
   "metadata": {},
   "outputs": [
    {
     "data": {
      "text/html": [
       "<div>\n",
       "<style scoped>\n",
       "    .dataframe tbody tr th:only-of-type {\n",
       "        vertical-align: middle;\n",
       "    }\n",
       "\n",
       "    .dataframe tbody tr th {\n",
       "        vertical-align: top;\n",
       "    }\n",
       "\n",
       "    .dataframe thead th {\n",
       "        text-align: right;\n",
       "    }\n",
       "</style>\n",
       "<table border=\"1\" class=\"dataframe\">\n",
       "  <thead>\n",
       "    <tr style=\"text-align: right;\">\n",
       "      <th></th>\n",
       "      <th>letter</th>\n",
       "      <th>position</th>\n",
       "    </tr>\n",
       "  </thead>\n",
       "  <tbody>\n",
       "    <tr>\n",
       "      <th>0</th>\n",
       "      <td>a</td>\n",
       "      <td>1</td>\n",
       "    </tr>\n",
       "    <tr>\n",
       "      <th>1</th>\n",
       "      <td>a</td>\n",
       "      <td>2</td>\n",
       "    </tr>\n",
       "    <tr>\n",
       "      <th>2</th>\n",
       "      <td>r</td>\n",
       "      <td>3</td>\n",
       "    </tr>\n",
       "    <tr>\n",
       "      <th>3</th>\n",
       "      <td>o</td>\n",
       "      <td>4</td>\n",
       "    </tr>\n",
       "    <tr>\n",
       "      <th>4</th>\n",
       "      <td>n</td>\n",
       "      <td>5</td>\n",
       "    </tr>\n",
       "  </tbody>\n",
       "</table>\n",
       "</div>"
      ],
      "text/plain": [
       "  letter  position\n",
       "0      a         1\n",
       "1      a         2\n",
       "2      r         3\n",
       "3      o         4\n",
       "4      n         5"
      ]
     },
     "execution_count": 4,
     "metadata": {},
     "output_type": "execute_result"
    }
   ],
   "source": [
    "letters.head()"
   ]
  },
  {
   "cell_type": "markdown",
   "id": "8b3baa16",
   "metadata": {},
   "source": [
    "## Most Common Letters\n",
    "\n",
    "Given our data, we can now count the occurences of each letter.\n",
    "This reflects how commonly each letter is found in any word.\n",
    "To calculate this we take a look at our letters data,\n",
    "group them by letter, and tally up the count."
   ]
  },
  {
   "cell_type": "code",
   "execution_count": 5,
   "id": "c7a02ff0",
   "metadata": {},
   "outputs": [
    {
     "data": {
      "image/png": "[encoded data removed]",
      "text/plain": [
       "<Figure size 432x288 with 1 Axes>"
      ]
     },
     "metadata": {
      "needs_background": "light"
     },
     "output_type": "display_data"
    }
   ],
   "source": [
    "letters_count = letters.groupby(\"letter\").count()\n",
    "letters_count.columns = [\"count\"]\n",
    "letters_count = letters_count.sort_values(by=\"count\", ascending=False)\n",
    "letters_count.plot.barh(y=\"count\")\n",
    "plt.show()"
   ]
  },
  {
   "cell_type": "markdown",
   "id": "6cdbe609",
   "metadata": {},
   "source": [
    "I don't know about you, but these results surprised me!\n",
    "The top 10 letters are:"
   ]
  },
  {
   "cell_type": "code",
   "execution_count": 6,
   "id": "f6fc544e",
   "metadata": {},
   "outputs": [
    {
     "data": {
      "text/html": [
       "<div>\n",
       "<style scoped>\n",
       "    .dataframe tbody tr th:only-of-type {\n",
       "        vertical-align: middle;\n",
       "    }\n",
       "\n",
       "    .dataframe tbody tr th {\n",
       "        vertical-align: top;\n",
       "    }\n",
       "\n",
       "    .dataframe thead th {\n",
       "        text-align: right;\n",
       "    }\n",
       "</style>\n",
       "<table border=\"1\" class=\"dataframe\">\n",
       "  <thead>\n",
       "    <tr style=\"text-align: right;\">\n",
       "      <th></th>\n",
       "      <th>count</th>\n",
       "    </tr>\n",
       "    <tr>\n",
       "      <th>letter</th>\n",
       "      <th></th>\n",
       "    </tr>\n",
       "  </thead>\n",
       "  <tbody>\n",
       "    <tr>\n",
       "      <th>e</th>\n",
       "      <td>3187</td>\n",
       "    </tr>\n",
       "    <tr>\n",
       "      <th>s</th>\n",
       "      <td>3019</td>\n",
       "    </tr>\n",
       "    <tr>\n",
       "      <th>a</th>\n",
       "      <td>2785</td>\n",
       "    </tr>\n",
       "    <tr>\n",
       "      <th>r</th>\n",
       "      <td>2006</td>\n",
       "    </tr>\n",
       "    <tr>\n",
       "      <th>o</th>\n",
       "      <td>1946</td>\n",
       "    </tr>\n",
       "    <tr>\n",
       "      <th>i</th>\n",
       "      <td>1776</td>\n",
       "    </tr>\n",
       "    <tr>\n",
       "      <th>l</th>\n",
       "      <td>1746</td>\n",
       "    </tr>\n",
       "    <tr>\n",
       "      <th>t</th>\n",
       "      <td>1574</td>\n",
       "    </tr>\n",
       "    <tr>\n",
       "      <th>n</th>\n",
       "      <td>1535</td>\n",
       "    </tr>\n",
       "    <tr>\n",
       "      <th>d</th>\n",
       "      <td>1232</td>\n",
       "    </tr>\n",
       "  </tbody>\n",
       "</table>\n",
       "</div>"
      ],
      "text/plain": [
       "        count\n",
       "letter       \n",
       "e        3187\n",
       "s        3019\n",
       "a        2785\n",
       "r        2006\n",
       "o        1946\n",
       "i        1776\n",
       "l        1746\n",
       "t        1574\n",
       "n        1535\n",
       "d        1232"
      ]
     },
     "execution_count": 6,
     "metadata": {},
     "output_type": "execute_result"
    }
   ],
   "source": [
    "letters_count.head(10)"
   ]
  },
  {
   "cell_type": "markdown",
   "id": "dfaae1aa",
   "metadata": {},
   "source": [
    "And the lowest 10 are:"
   ]
  },
  {
   "cell_type": "code",
   "execution_count": 7,
   "id": "2158976b",
   "metadata": {},
   "outputs": [
    {
     "data": {
      "text/html": [
       "<div>\n",
       "<style scoped>\n",
       "    .dataframe tbody tr th:only-of-type {\n",
       "        vertical-align: middle;\n",
       "    }\n",
       "\n",
       "    .dataframe tbody tr th {\n",
       "        vertical-align: top;\n",
       "    }\n",
       "\n",
       "    .dataframe thead th {\n",
       "        text-align: right;\n",
       "    }\n",
       "</style>\n",
       "<table border=\"1\" class=\"dataframe\">\n",
       "  <thead>\n",
       "    <tr style=\"text-align: right;\">\n",
       "      <th></th>\n",
       "      <th>count</th>\n",
       "    </tr>\n",
       "    <tr>\n",
       "      <th>letter</th>\n",
       "      <th></th>\n",
       "    </tr>\n",
       "  </thead>\n",
       "  <tbody>\n",
       "    <tr>\n",
       "      <th>b</th>\n",
       "      <td>768</td>\n",
       "    </tr>\n",
       "    <tr>\n",
       "      <th>g</th>\n",
       "      <td>704</td>\n",
       "    </tr>\n",
       "    <tr>\n",
       "      <th>k</th>\n",
       "      <td>620</td>\n",
       "    </tr>\n",
       "    <tr>\n",
       "      <th>f</th>\n",
       "      <td>514</td>\n",
       "    </tr>\n",
       "    <tr>\n",
       "      <th>w</th>\n",
       "      <td>494</td>\n",
       "    </tr>\n",
       "    <tr>\n",
       "      <th>v</th>\n",
       "      <td>343</td>\n",
       "    </tr>\n",
       "    <tr>\n",
       "      <th>z</th>\n",
       "      <td>160</td>\n",
       "    </tr>\n",
       "    <tr>\n",
       "      <th>j</th>\n",
       "      <td>136</td>\n",
       "    </tr>\n",
       "    <tr>\n",
       "      <th>x</th>\n",
       "      <td>117</td>\n",
       "    </tr>\n",
       "    <tr>\n",
       "      <th>q</th>\n",
       "      <td>49</td>\n",
       "    </tr>\n",
       "  </tbody>\n",
       "</table>\n",
       "</div>"
      ],
      "text/plain": [
       "        count\n",
       "letter       \n",
       "b         768\n",
       "g         704\n",
       "k         620\n",
       "f         514\n",
       "w         494\n",
       "v         343\n",
       "z         160\n",
       "j         136\n",
       "x         117\n",
       "q          49"
      ]
     },
     "execution_count": 7,
     "metadata": {},
     "output_type": "execute_result"
    }
   ],
   "source": [
    "letters_count.tail(10)"
   ]
  },
  {
   "cell_type": "markdown",
   "id": "042fd540",
   "metadata": {},
   "source": [
    "## Most Common Positions of Letters\n",
    "\n",
    "This is a little trickier...\n",
    "We group our data by letter and position, and count how many occurences\n",
    "of each letter-position combination."
   ]
  },
  {
   "cell_type": "code",
   "execution_count": 8,
   "id": "a08242fc",
   "metadata": {},
   "outputs": [],
   "source": [
    "letters_position = pd.DataFrame(\n",
    "    {\"count\": letters.groupby([\"letter\", \"position\"]).size()}\n",
    ")"
   ]
  },
  {
   "cell_type": "markdown",
   "id": "9742e0d0",
   "metadata": {},
   "source": [
    "Here's what it looks like for the letter `a`"
   ]
  },
  {
   "cell_type": "code",
   "execution_count": 9,
   "id": "cfc4f649",
   "metadata": {},
   "outputs": [
    {
     "data": {
      "text/html": [
       "<div>\n",
       "<style scoped>\n",
       "    .dataframe tbody tr th:only-of-type {\n",
       "        vertical-align: middle;\n",
       "    }\n",
       "\n",
       "    .dataframe tbody tr th {\n",
       "        vertical-align: top;\n",
       "    }\n",
       "\n",
       "    .dataframe thead th {\n",
       "        text-align: right;\n",
       "    }\n",
       "</style>\n",
       "<table border=\"1\" class=\"dataframe\">\n",
       "  <thead>\n",
       "    <tr style=\"text-align: right;\">\n",
       "      <th></th>\n",
       "      <th>count</th>\n",
       "    </tr>\n",
       "    <tr>\n",
       "      <th>position</th>\n",
       "      <th></th>\n",
       "    </tr>\n",
       "  </thead>\n",
       "  <tbody>\n",
       "    <tr>\n",
       "      <th>1</th>\n",
       "      <td>338</td>\n",
       "    </tr>\n",
       "    <tr>\n",
       "      <th>2</th>\n",
       "      <td>1076</td>\n",
       "    </tr>\n",
       "    <tr>\n",
       "      <th>3</th>\n",
       "      <td>646</td>\n",
       "    </tr>\n",
       "    <tr>\n",
       "      <th>4</th>\n",
       "      <td>412</td>\n",
       "    </tr>\n",
       "    <tr>\n",
       "      <th>5</th>\n",
       "      <td>313</td>\n",
       "    </tr>\n",
       "  </tbody>\n",
       "</table>\n",
       "</div>"
      ],
      "text/plain": [
       "          count\n",
       "position       \n",
       "1           338\n",
       "2          1076\n",
       "3           646\n",
       "4           412\n",
       "5           313"
      ]
     },
     "execution_count": 9,
     "metadata": {},
     "output_type": "execute_result"
    }
   ],
   "source": [
    "letters_position.loc[\"a\"]"
   ]
  },
  {
   "cell_type": "markdown",
   "id": "10953e57",
   "metadata": {},
   "source": [
    "## What is the Best Guess?\n",
    "\n",
    "Okay, now we can start to apply our criteria for a good guess to determine\n",
    "which word is best! Here is our strategy:\n",
    "\n",
    "* Given any 5-letter word,\n",
    "    * we tally up how common each of its letters are\n",
    "        * we only count each letter once, to favour words with different letters\n",
    "    * we tally up how common the position of each letter is\n",
    "        * here, we count each letter, include duplicates\n",
    "\n",
    "Anyway, I'm bad at explaining things... here goes nothing!"
   ]
  },
  {
   "cell_type": "code",
   "execution_count": 10,
   "id": "0b8128e8",
   "metadata": {},
   "outputs": [],
   "source": [
    "def compute_score(word: str) -> int:\n",
    "    score = 0.0\n",
    "\n",
    "    # score-contribution based on letter popularity\n",
    "    unique_letters = list(set(word))\n",
    "    count_sum = int(letters_count[\"count\"].sum())\n",
    "    for letter in unique_letters:\n",
    "        score += letters_count.loc[letter][\"count\"] / count_sum\n",
    "\n",
    "    # score-contribution based on letter positions\n",
    "    position_sum = letters_position[\"count\"].sum()\n",
    "    for i, letter in enumerate(word):\n",
    "        position = i + 1\n",
    "        score += letters_position.loc[letter, position][\"count\"] / (position_sum * 5)\n",
    "    return score * 100"
   ]
  },
  {
   "cell_type": "markdown",
   "id": "2a8c1830",
   "metadata": {},
   "source": [
    "So, here's what the score of `apple` and `great` would be:"
   ]
  },
  {
   "cell_type": "code",
   "execution_count": 11,
   "id": "e4ae6032",
   "metadata": {},
   "outputs": [
    {
     "data": {
      "text/plain": [
       "29.429747982210504"
      ]
     },
     "execution_count": 11,
     "metadata": {},
     "output_type": "execute_result"
    }
   ],
   "source": [
    "compute_score(\"apple\")"
   ]
  },
  {
   "cell_type": "code",
   "execution_count": 12,
   "id": "89d1e95d",
   "metadata": {},
   "outputs": [
    {
     "data": {
      "text/plain": [
       "35.06176906605172"
      ]
     },
     "execution_count": 12,
     "metadata": {},
     "output_type": "execute_result"
    }
   ],
   "source": [
    "compute_score(\"great\")"
   ]
  },
  {
   "cell_type": "code",
   "execution_count": 13,
   "id": "0fbbbda2",
   "metadata": {},
   "outputs": [
    {
     "data": {
      "text/html": [
       "<div>\n",
       "<style scoped>\n",
       "    .dataframe tbody tr th:only-of-type {\n",
       "        vertical-align: middle;\n",
       "    }\n",
       "\n",
       "    .dataframe tbody tr th {\n",
       "        vertical-align: top;\n",
       "    }\n",
       "\n",
       "    .dataframe thead th {\n",
       "        text-align: right;\n",
       "    }\n",
       "</style>\n",
       "<table border=\"1\" class=\"dataframe\">\n",
       "  <thead>\n",
       "    <tr style=\"text-align: right;\">\n",
       "      <th></th>\n",
       "      <th>score</th>\n",
       "    </tr>\n",
       "    <tr>\n",
       "      <th>word</th>\n",
       "      <th></th>\n",
       "    </tr>\n",
       "  </thead>\n",
       "  <tbody>\n",
       "    <tr>\n",
       "      <th>aries</th>\n",
       "      <td>44.904629</td>\n",
       "    </tr>\n",
       "    <tr>\n",
       "      <th>tares</th>\n",
       "      <td>44.638445</td>\n",
       "    </tr>\n",
       "    <tr>\n",
       "      <th>earls</th>\n",
       "      <td>44.527096</td>\n",
       "    </tr>\n",
       "    <tr>\n",
       "      <th>aloes</th>\n",
       "      <td>44.483611</td>\n",
       "    </tr>\n",
       "    <tr>\n",
       "      <th>reals</th>\n",
       "      <td>44.428266</td>\n",
       "    </tr>\n",
       "    <tr>\n",
       "      <th>rates</th>\n",
       "      <td>44.388074</td>\n",
       "    </tr>\n",
       "    <tr>\n",
       "      <th>arose</th>\n",
       "      <td>44.123868</td>\n",
       "    </tr>\n",
       "    <tr>\n",
       "      <th>oates</th>\n",
       "      <td>44.082359</td>\n",
       "    </tr>\n",
       "    <tr>\n",
       "      <th>laser</th>\n",
       "      <td>44.078406</td>\n",
       "    </tr>\n",
       "    <tr>\n",
       "      <th>raise</th>\n",
       "      <td>43.959150</td>\n",
       "    </tr>\n",
       "    <tr>\n",
       "      <th>tears</th>\n",
       "      <td>43.902487</td>\n",
       "    </tr>\n",
       "    <tr>\n",
       "      <th>earns</th>\n",
       "      <td>43.864932</td>\n",
       "    </tr>\n",
       "    <tr>\n",
       "      <th>saner</th>\n",
       "      <td>43.826058</td>\n",
       "    </tr>\n",
       "    <tr>\n",
       "      <th>tales</th>\n",
       "      <td>43.706803</td>\n",
       "    </tr>\n",
       "    <tr>\n",
       "      <th>arise</th>\n",
       "      <td>43.619832</td>\n",
       "    </tr>\n",
       "    <tr>\n",
       "      <th>nears</th>\n",
       "      <td>43.614561</td>\n",
       "    </tr>\n",
       "    <tr>\n",
       "      <th>lanes</th>\n",
       "      <td>43.543403</td>\n",
       "    </tr>\n",
       "    <tr>\n",
       "      <th>aeons</th>\n",
       "      <td>43.499259</td>\n",
       "    </tr>\n",
       "    <tr>\n",
       "      <th>dares</th>\n",
       "      <td>43.478175</td>\n",
       "    </tr>\n",
       "    <tr>\n",
       "      <th>elias</th>\n",
       "      <td>43.349036</td>\n",
       "    </tr>\n",
       "  </tbody>\n",
       "</table>\n",
       "</div>"
      ],
      "text/plain": [
       "           score\n",
       "word            \n",
       "aries  44.904629\n",
       "tares  44.638445\n",
       "earls  44.527096\n",
       "aloes  44.483611\n",
       "reals  44.428266\n",
       "rates  44.388074\n",
       "arose  44.123868\n",
       "oates  44.082359\n",
       "laser  44.078406\n",
       "raise  43.959150\n",
       "tears  43.902487\n",
       "earns  43.864932\n",
       "saner  43.826058\n",
       "tales  43.706803\n",
       "arise  43.619832\n",
       "nears  43.614561\n",
       "lanes  43.543403\n",
       "aeons  43.499259\n",
       "dares  43.478175\n",
       "elias  43.349036"
      ]
     },
     "execution_count": 13,
     "metadata": {},
     "output_type": "execute_result"
    }
   ],
   "source": [
    "five_letter_words[\"score\"] = [compute_score(word) for word in five_letter_words[\"word\"]]\n",
    "\n",
    "five_letter_words.set_index(\"word\").sort_values(\"score\", ascending=False).head(20)"
   ]
  },
  {
   "cell_type": "markdown",
   "id": "f34c4bbe",
   "metadata": {},
   "source": [
    "## Conclusion\n",
    "\n",
    "Don't let this fancy code and math fool you,\n",
    "this is a naive approach. We are simply looking at\n",
    "which letters are most common, and which positions of letters\n",
    "are most common, and picking words that maximize this combination.\n",
    "There are a ton of other details that this code simply isn't considering.\n",
    "\n",
    "In the end, this article may help you come up with a decent first guess,\n",
    "but the rest is up to you! Anyway, good luck on your next *Wordle*  game,\n",
    "and don't forget to try out one of the top words!"
   ]
  }
 ],
 "metadata": {
  "kernelspec": {
   "display_name": "nicobako.github.io",
   "language": "python",
   "name": "nicobako.github.io"
  },
  "language_info": {
   "codemirror_mode": {
    "name": "ipython",
    "version": 3
   },
   "file_extension": ".py",
   "mimetype": "text/x-python",
   "name": "python",
   "nbconvert_exporter": "python",
   "pygments_lexer": "ipython3",
   "version": "3.10.0"
  }
 },
 "nbformat": 4,
 "nbformat_minor": 5
}
