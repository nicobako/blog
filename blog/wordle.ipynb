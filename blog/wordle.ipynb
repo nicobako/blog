{
 "cells": [
  {
   "cell_type": "markdown",
   "id": "2309cc5e",
   "metadata": {},
   "source": [
    "# Best Wordle Words\n",
    "\n",
    "[Wordle](https://www.powerlanguage.co.uk/wordle/) is extremely popular these days,\n",
    "and for good reason: it is so simple and elegant; a real joy.\n",
    "\n",
    "*Wordle* reminds us that the best of games are simple in nature, with few rules,\n",
    "and a great deal of freedom for players to develop their own strategies.\n",
    "But, don't let *Wordle*'s apparent simplicity fool you... it is all too easy\n",
    "to guess words ineffectively, and to lose!\n",
    "\n",
    "In this arrticle I will try to come up with some good words for initial guesses to *Wordle*.\n",
    "\n",
    "## 5-Letter Words\n",
    "\n",
    "Let's assume that the only rule to *Wordle*'s choice of words is that it is a 5-letter word.\n",
    "So, let's just get all 5-letter words."
   ]
  },
  {
   "cell_type": "code",
   "execution_count": 1,
   "id": "828e1f55",
   "metadata": {},
   "outputs": [
    {
     "name": "stderr",
     "output_type": "stream",
     "text": [
      "[nltk_data] Downloading package words to /home/nicob/nltk_data...\n",
      "[nltk_data]   Package words is already up-to-date!\n"
     ]
    }
   ],
   "source": [
    "import string\n",
    "import nltk\n",
    "import pandas as pd\n",
    "import matplotlib.pyplot as plt\n",
    "\n",
    "nltk.download(\"words\")\n",
    "all_words = nltk.corpus.words.words\n",
    "\n",
    "five_letter_words = pd.DataFrame(\n",
    "    [word.lower() for word in all_words() if len(word) == 5],\n",
    "    columns=[\"word\"],\n",
    ")"
   ]
  },
  {
   "cell_type": "markdown",
   "id": "95d242f1",
   "metadata": {},
   "source": [
    "How many 5-letter words do we have?"
   ]
  },
  {
   "cell_type": "code",
   "execution_count": 2,
   "id": "8bafeae8",
   "metadata": {},
   "outputs": [
    {
     "data": {
      "text/plain": [
       "10422"
      ]
     },
     "execution_count": 2,
     "metadata": {},
     "output_type": "execute_result"
    }
   ],
   "source": [
    "len(five_letter_words)"
   ]
  },
  {
   "cell_type": "markdown",
   "id": "c0fb68a3",
   "metadata": {},
   "source": [
    "Wow! That's a lot!"
   ]
  },
  {
   "cell_type": "markdown",
   "id": "2d195215",
   "metadata": {},
   "source": [
    "## Criteria for a Good Guess\n",
    "\n",
    "There are many theories on what makes a good guess,\n",
    "so please don't judge... but here is my naive simple criteria for a good guess:\n",
    "\n",
    "* Contains as many common letters as possible\n",
    "* Contains as many different letters as possible\n",
    "* Contains as many letters in common places as possible\n",
    "\n",
    "For now, let's keep it this simple. We can always make things more complicated later..."
   ]
  },
  {
   "cell_type": "markdown",
   "id": "0280eef2",
   "metadata": {},
   "source": [
    "## Collecting the Data\n",
    "\n",
    "This is not so tricky...\n",
    "We look at each word, look at which letters we find at each position in each word,\n",
    "and keep track of everything.\n",
    "Later we can use this data to calculate everything we need."
   ]
  },
  {
   "cell_type": "code",
   "execution_count": 3,
   "id": "c0e92d2c",
   "metadata": {},
   "outputs": [],
   "source": [
    "def get_letters_data():\n",
    "    data = []\n",
    "    for word in five_letter_words[\"word\"]:\n",
    "        for position, letter in enumerate(word):\n",
    "            data.append({\"letter\": letter, \"position\": position + 1})\n",
    "    return pd.DataFrame(data)\n",
    "\n",
    "\n",
    "letters = get_letters_data()"
   ]
  },
  {
   "cell_type": "markdown",
   "id": "65210c9d",
   "metadata": {},
   "source": [
    "This data is a table whose rows contain two values: a letter; its position in a word.\n",
    "It might not seem like much, but it's all we need. Here's a quick glance at what\n",
    "this table looks like:"
   ]
  },
  {
   "cell_type": "code",
   "execution_count": 4,
   "id": "2757b9b2",
   "metadata": {},
   "outputs": [
    {
     "data": {
      "text/html": [
       "<div>\n",
       "<style scoped>\n",
       "    .dataframe tbody tr th:only-of-type {\n",
       "        vertical-align: middle;\n",
       "    }\n",
       "\n",
       "    .dataframe tbody tr th {\n",
       "        vertical-align: top;\n",
       "    }\n",
       "\n",
       "    .dataframe thead th {\n",
       "        text-align: right;\n",
       "    }\n",
       "</style>\n",
       "<table border=\"1\" class=\"dataframe\">\n",
       "  <thead>\n",
       "    <tr style=\"text-align: right;\">\n",
       "      <th></th>\n",
       "      <th>letter</th>\n",
       "      <th>position</th>\n",
       "    </tr>\n",
       "  </thead>\n",
       "  <tbody>\n",
       "    <tr>\n",
       "      <th>0</th>\n",
       "      <td>a</td>\n",
       "      <td>1</td>\n",
       "    </tr>\n",
       "    <tr>\n",
       "      <th>1</th>\n",
       "      <td>a</td>\n",
       "      <td>2</td>\n",
       "    </tr>\n",
       "    <tr>\n",
       "      <th>2</th>\n",
       "      <td>l</td>\n",
       "      <td>3</td>\n",
       "    </tr>\n",
       "    <tr>\n",
       "      <th>3</th>\n",
       "      <td>i</td>\n",
       "      <td>4</td>\n",
       "    </tr>\n",
       "    <tr>\n",
       "      <th>4</th>\n",
       "      <td>i</td>\n",
       "      <td>5</td>\n",
       "    </tr>\n",
       "  </tbody>\n",
       "</table>\n",
       "</div>"
      ],
      "text/plain": [
       "  letter  position\n",
       "0      a         1\n",
       "1      a         2\n",
       "2      l         3\n",
       "3      i         4\n",
       "4      i         5"
      ]
     },
     "execution_count": 4,
     "metadata": {},
     "output_type": "execute_result"
    }
   ],
   "source": [
    "letters.head()"
   ]
  },
  {
   "cell_type": "markdown",
   "id": "8b3baa16",
   "metadata": {},
   "source": [
    "## Most Common Letters\n",
    "\n",
    "Given our data, we can now count the occurences of each letter.\n",
    "This reflects how commonly each letter is found in any word.\n",
    "To calculate this we take a look at our letters data,\n",
    "group them by letter, and tally up the count."
   ]
  },
  {
   "cell_type": "code",
   "execution_count": 14,
   "id": "c7a02ff0",
   "metadata": {},
   "outputs": [
    {
     "data": {
      "image/png": "[encoded data removed]",
      "text/plain": [
       "<Figure size 432x288 with 1 Axes>"
      ]
     },
     "metadata": {
      "needs_background": "light"
     },
     "output_type": "display_data"
    }
   ],
   "source": [
    "letters_count = letters.groupby(\"letter\").count()\n",
    "letters_count.columns = [\"count\"]\n",
    "letters_count = letters_count.sort_values(by=\"count\", ascending=False)\n",
    "letters_count.plot.barh(y=\"count\")\n",
    "plt.show()"
   ]
  },
  {
   "cell_type": "markdown",
   "id": "6cdbe609",
   "metadata": {},
   "source": [
    "I don't know about you, but these results surprised me!\n",
    "The top 10 letters are:"
   ]
  },
  {
   "cell_type": "code",
   "execution_count": 6,
   "id": "f6fc544e",
   "metadata": {},
   "outputs": [
    {
     "data": {
      "text/html": [
       "<div>\n",
       "<style scoped>\n",
       "    .dataframe tbody tr th:only-of-type {\n",
       "        vertical-align: middle;\n",
       "    }\n",
       "\n",
       "    .dataframe tbody tr th {\n",
       "        vertical-align: top;\n",
       "    }\n",
       "\n",
       "    .dataframe thead th {\n",
       "        text-align: right;\n",
       "    }\n",
       "</style>\n",
       "<table border=\"1\" class=\"dataframe\">\n",
       "  <thead>\n",
       "    <tr style=\"text-align: right;\">\n",
       "      <th></th>\n",
       "      <th>count</th>\n",
       "    </tr>\n",
       "    <tr>\n",
       "      <th>letter</th>\n",
       "      <th></th>\n",
       "    </tr>\n",
       "  </thead>\n",
       "  <tbody>\n",
       "    <tr>\n",
       "      <th>a</th>\n",
       "      <td>5879</td>\n",
       "    </tr>\n",
       "    <tr>\n",
       "      <th>e</th>\n",
       "      <td>5019</td>\n",
       "    </tr>\n",
       "    <tr>\n",
       "      <th>r</th>\n",
       "      <td>3640</td>\n",
       "    </tr>\n",
       "    <tr>\n",
       "      <th>o</th>\n",
       "      <td>3372</td>\n",
       "    </tr>\n",
       "    <tr>\n",
       "      <th>i</th>\n",
       "      <td>3365</td>\n",
       "    </tr>\n",
       "    <tr>\n",
       "      <th>s</th>\n",
       "      <td>2954</td>\n",
       "    </tr>\n",
       "    <tr>\n",
       "      <th>l</th>\n",
       "      <td>2848</td>\n",
       "    </tr>\n",
       "    <tr>\n",
       "      <th>n</th>\n",
       "      <td>2827</td>\n",
       "    </tr>\n",
       "    <tr>\n",
       "      <th>t</th>\n",
       "      <td>2807</td>\n",
       "    </tr>\n",
       "    <tr>\n",
       "      <th>u</th>\n",
       "      <td>2333</td>\n",
       "    </tr>\n",
       "  </tbody>\n",
       "</table>\n",
       "</div>"
      ],
      "text/plain": [
       "        count\n",
       "letter       \n",
       "a        5879\n",
       "e        5019\n",
       "r        3640\n",
       "o        3372\n",
       "i        3365\n",
       "s        2954\n",
       "l        2848\n",
       "n        2827\n",
       "t        2807\n",
       "u        2333"
      ]
     },
     "execution_count": 6,
     "metadata": {},
     "output_type": "execute_result"
    }
   ],
   "source": [
    "letters_count.head(10)"
   ]
  },
  {
   "cell_type": "markdown",
   "id": "dfaae1aa",
   "metadata": {},
   "source": [
    "And the lowest 10 are:"
   ]
  },
  {
   "cell_type": "code",
   "execution_count": 7,
   "id": "2158976b",
   "metadata": {},
   "outputs": [
    {
     "data": {
      "text/html": [
       "<div>\n",
       "<style scoped>\n",
       "    .dataframe tbody tr th:only-of-type {\n",
       "        vertical-align: middle;\n",
       "    }\n",
       "\n",
       "    .dataframe tbody tr th {\n",
       "        vertical-align: top;\n",
       "    }\n",
       "\n",
       "    .dataframe thead th {\n",
       "        text-align: right;\n",
       "    }\n",
       "</style>\n",
       "<table border=\"1\" class=\"dataframe\">\n",
       "  <thead>\n",
       "    <tr style=\"text-align: right;\">\n",
       "      <th></th>\n",
       "      <th>count</th>\n",
       "    </tr>\n",
       "    <tr>\n",
       "      <th>letter</th>\n",
       "      <th></th>\n",
       "    </tr>\n",
       "  </thead>\n",
       "  <tbody>\n",
       "    <tr>\n",
       "      <th>b</th>\n",
       "      <td>1397</td>\n",
       "    </tr>\n",
       "    <tr>\n",
       "      <th>g</th>\n",
       "      <td>1319</td>\n",
       "    </tr>\n",
       "    <tr>\n",
       "      <th>k</th>\n",
       "      <td>1121</td>\n",
       "    </tr>\n",
       "    <tr>\n",
       "      <th>w</th>\n",
       "      <td>764</td>\n",
       "    </tr>\n",
       "    <tr>\n",
       "      <th>f</th>\n",
       "      <td>755</td>\n",
       "    </tr>\n",
       "    <tr>\n",
       "      <th>v</th>\n",
       "      <td>555</td>\n",
       "    </tr>\n",
       "    <tr>\n",
       "      <th>z</th>\n",
       "      <td>308</td>\n",
       "    </tr>\n",
       "    <tr>\n",
       "      <th>j</th>\n",
       "      <td>251</td>\n",
       "    </tr>\n",
       "    <tr>\n",
       "      <th>x</th>\n",
       "      <td>241</td>\n",
       "    </tr>\n",
       "    <tr>\n",
       "      <th>q</th>\n",
       "      <td>102</td>\n",
       "    </tr>\n",
       "  </tbody>\n",
       "</table>\n",
       "</div>"
      ],
      "text/plain": [
       "        count\n",
       "letter       \n",
       "b        1397\n",
       "g        1319\n",
       "k        1121\n",
       "w         764\n",
       "f         755\n",
       "v         555\n",
       "z         308\n",
       "j         251\n",
       "x         241\n",
       "q         102"
      ]
     },
     "execution_count": 7,
     "metadata": {},
     "output_type": "execute_result"
    }
   ],
   "source": [
    "letters_count.tail(10)"
   ]
  },
  {
   "cell_type": "markdown",
   "id": "042fd540",
   "metadata": {},
   "source": [
    "## Most Common Positions of Letters\n",
    "\n",
    "This is a little trickier...\n",
    "We group our data by letter and position, and count how many occurences\n",
    "of each letter-position combination."
   ]
  },
  {
   "cell_type": "code",
   "execution_count": 8,
   "id": "a08242fc",
   "metadata": {},
   "outputs": [],
   "source": [
    "letters_position = pd.DataFrame(\n",
    "    {\"count\": letters.groupby([\"letter\", \"position\"]).size()}\n",
    ")"
   ]
  },
  {
   "cell_type": "markdown",
   "id": "9742e0d0",
   "metadata": {},
   "source": [
    "Here's what it looks like for the letter `a`"
   ]
  },
  {
   "cell_type": "code",
   "execution_count": 9,
   "id": "cfc4f649",
   "metadata": {},
   "outputs": [
    {
     "data": {
      "text/html": [
       "<div>\n",
       "<style scoped>\n",
       "    .dataframe tbody tr th:only-of-type {\n",
       "        vertical-align: middle;\n",
       "    }\n",
       "\n",
       "    .dataframe tbody tr th {\n",
       "        vertical-align: top;\n",
       "    }\n",
       "\n",
       "    .dataframe thead th {\n",
       "        text-align: right;\n",
       "    }\n",
       "</style>\n",
       "<table border=\"1\" class=\"dataframe\">\n",
       "  <thead>\n",
       "    <tr style=\"text-align: right;\">\n",
       "      <th></th>\n",
       "      <th>count</th>\n",
       "    </tr>\n",
       "    <tr>\n",
       "      <th>position</th>\n",
       "      <th></th>\n",
       "    </tr>\n",
       "  </thead>\n",
       "  <tbody>\n",
       "    <tr>\n",
       "      <th>1</th>\n",
       "      <td>810</td>\n",
       "    </tr>\n",
       "    <tr>\n",
       "      <th>2</th>\n",
       "      <td>1837</td>\n",
       "    </tr>\n",
       "    <tr>\n",
       "      <th>3</th>\n",
       "      <td>1040</td>\n",
       "    </tr>\n",
       "    <tr>\n",
       "      <th>4</th>\n",
       "      <td>1162</td>\n",
       "    </tr>\n",
       "    <tr>\n",
       "      <th>5</th>\n",
       "      <td>1030</td>\n",
       "    </tr>\n",
       "  </tbody>\n",
       "</table>\n",
       "</div>"
      ],
      "text/plain": [
       "          count\n",
       "position       \n",
       "1           810\n",
       "2          1837\n",
       "3          1040\n",
       "4          1162\n",
       "5          1030"
      ]
     },
     "execution_count": 9,
     "metadata": {},
     "output_type": "execute_result"
    }
   ],
   "source": [
    "letters_position.loc[\"a\"]"
   ]
  },
  {
   "cell_type": "markdown",
   "id": "10953e57",
   "metadata": {},
   "source": [
    "## What is the Best Guess?\n",
    "\n",
    "Okay, now we can start to apply our criteria for a good guess to determine\n",
    "which word is best! Here is our strategy:\n",
    "\n",
    "* Given any 5-letter word,\n",
    "    * we tally up how common each of its letters are\n",
    "        * we only count each letter once, to favour words with different letters\n",
    "    * we tally up how common the position of each letter is\n",
    "        * here, we count each letter, include duplicates\n",
    "\n",
    "Anyway, I'm bad at explaining things... here goes nothing!"
   ]
  },
  {
   "cell_type": "code",
   "execution_count": 10,
   "id": "0b8128e8",
   "metadata": {},
   "outputs": [],
   "source": [
    "def compute_score(word: str) -> int:\n",
    "    score = 0\n",
    "    unique_letters = list(set(word))\n",
    "    for letter in unique_letters:\n",
    "        score += letters_count.loc[letter][\"count\"]\n",
    "    for i, letter in enumerate(word):\n",
    "        position = i + 1\n",
    "        score += letters_position.loc[letter, position][\"count\"]\n",
    "    return score"
   ]
  },
  {
   "cell_type": "markdown",
   "id": "2a8c1830",
   "metadata": {},
   "source": [
    "So, here's what the score of `apple` and `great` would be:"
   ]
  },
  {
   "cell_type": "code",
   "execution_count": 11,
   "id": "e4ae6032",
   "metadata": {},
   "outputs": [
    {
     "data": {
      "text/plain": [
       "18588"
      ]
     },
     "execution_count": 11,
     "metadata": {},
     "output_type": "execute_result"
    }
   ],
   "source": [
    "compute_score(\"apple\")"
   ]
  },
  {
   "cell_type": "code",
   "execution_count": 12,
   "id": "89d1e95d",
   "metadata": {},
   "outputs": [
    {
     "data": {
      "text/plain": [
       "22559"
      ]
     },
     "execution_count": 12,
     "metadata": {},
     "output_type": "execute_result"
    }
   ],
   "source": [
    "compute_score(\"great\")"
   ]
  },
  {
   "cell_type": "code",
   "execution_count": 13,
   "id": "0fbbbda2",
   "metadata": {},
   "outputs": [
    {
     "data": {
      "text/html": [
       "<div>\n",
       "<style scoped>\n",
       "    .dataframe tbody tr th:only-of-type {\n",
       "        vertical-align: middle;\n",
       "    }\n",
       "\n",
       "    .dataframe tbody tr th {\n",
       "        vertical-align: top;\n",
       "    }\n",
       "\n",
       "    .dataframe thead th {\n",
       "        text-align: right;\n",
       "    }\n",
       "</style>\n",
       "<table border=\"1\" class=\"dataframe\">\n",
       "  <thead>\n",
       "    <tr style=\"text-align: right;\">\n",
       "      <th></th>\n",
       "      <th>word</th>\n",
       "      <th>score</th>\n",
       "    </tr>\n",
       "  </thead>\n",
       "  <tbody>\n",
       "    <tr>\n",
       "      <th>8734</th>\n",
       "      <td>tarie</td>\n",
       "      <td>26683</td>\n",
       "    </tr>\n",
       "    <tr>\n",
       "      <th>7365</th>\n",
       "      <td>saite</td>\n",
       "      <td>26123</td>\n",
       "    </tr>\n",
       "    <tr>\n",
       "      <th>6907</th>\n",
       "      <td>raise</td>\n",
       "      <td>26037</td>\n",
       "    </tr>\n",
       "    <tr>\n",
       "      <th>7635</th>\n",
       "      <td>serai</td>\n",
       "      <td>25961</td>\n",
       "    </tr>\n",
       "    <tr>\n",
       "      <th>8742</th>\n",
       "      <td>tarse</td>\n",
       "      <td>25856</td>\n",
       "    </tr>\n",
       "    <tr>\n",
       "      <th>8131</th>\n",
       "      <td>solea</td>\n",
       "      <td>25853</td>\n",
       "    </tr>\n",
       "    <tr>\n",
       "      <th>8130</th>\n",
       "      <td>solea</td>\n",
       "      <td>25853</td>\n",
       "    </tr>\n",
       "    <tr>\n",
       "      <th>7849</th>\n",
       "      <td>sinae</td>\n",
       "      <td>25812</td>\n",
       "    </tr>\n",
       "    <tr>\n",
       "      <th>7636</th>\n",
       "      <td>seral</td>\n",
       "      <td>25695</td>\n",
       "    </tr>\n",
       "    <tr>\n",
       "      <th>8457</th>\n",
       "      <td>strae</td>\n",
       "      <td>25541</td>\n",
       "    </tr>\n",
       "    <tr>\n",
       "      <th>8680</th>\n",
       "      <td>taler</td>\n",
       "      <td>25496</td>\n",
       "    </tr>\n",
       "    <tr>\n",
       "      <th>7653</th>\n",
       "      <td>serta</td>\n",
       "      <td>25495</td>\n",
       "    </tr>\n",
       "    <tr>\n",
       "      <th>8668</th>\n",
       "      <td>taise</td>\n",
       "      <td>25448</td>\n",
       "    </tr>\n",
       "    <tr>\n",
       "      <th>7956</th>\n",
       "      <td>slare</td>\n",
       "      <td>25421</td>\n",
       "    </tr>\n",
       "    <tr>\n",
       "      <th>583</th>\n",
       "      <td>arise</td>\n",
       "      <td>25395</td>\n",
       "    </tr>\n",
       "    <tr>\n",
       "      <th>5322</th>\n",
       "      <td>marie</td>\n",
       "      <td>25379</td>\n",
       "    </tr>\n",
       "    <tr>\n",
       "      <th>5795</th>\n",
       "      <td>nares</td>\n",
       "      <td>25338</td>\n",
       "    </tr>\n",
       "    <tr>\n",
       "      <th>899</th>\n",
       "      <td>barie</td>\n",
       "      <td>25328</td>\n",
       "    </tr>\n",
       "    <tr>\n",
       "      <th>603</th>\n",
       "      <td>arose</td>\n",
       "      <td>25328</td>\n",
       "    </tr>\n",
       "    <tr>\n",
       "      <th>622</th>\n",
       "      <td>artie</td>\n",
       "      <td>25315</td>\n",
       "    </tr>\n",
       "  </tbody>\n",
       "</table>\n",
       "</div>"
      ],
      "text/plain": [
       "       word  score\n",
       "8734  tarie  26683\n",
       "7365  saite  26123\n",
       "6907  raise  26037\n",
       "7635  serai  25961\n",
       "8742  tarse  25856\n",
       "8131  solea  25853\n",
       "8130  solea  25853\n",
       "7849  sinae  25812\n",
       "7636  seral  25695\n",
       "8457  strae  25541\n",
       "8680  taler  25496\n",
       "7653  serta  25495\n",
       "8668  taise  25448\n",
       "7956  slare  25421\n",
       "583   arise  25395\n",
       "5322  marie  25379\n",
       "5795  nares  25338\n",
       "899   barie  25328\n",
       "603   arose  25328\n",
       "622   artie  25315"
      ]
     },
     "execution_count": 13,
     "metadata": {},
     "output_type": "execute_result"
    }
   ],
   "source": [
    "five_letter_words[\"score\"] = [compute_score(word) for word in five_letter_words[\"word\"]]\n",
    "\n",
    "five_letter_words.sort_values(\"score\", ascending=False).head(20)"
   ]
  },
  {
   "cell_type": "markdown",
   "id": "f34c4bbe",
   "metadata": {},
   "source": [
    "## Conclusion\n",
    "\n",
    "Don't let this fancy code and math fool you,\n",
    "this is a naive approach. We are simply looking at\n",
    "which letters are most common, and which positions of letters\n",
    "are most common, and picking words that maximize this combination.\n",
    "There are a ton of other details that this code simply isn't considering.\n",
    "\n",
    "In the end, this article may help you come up with a decent first guess,\n",
    "but the rest is up to you! Anyway, good luck on your next *Wordle*  game,\n",
    "and don't forget to try out one of the top words!"
   ]
  }
 ],
 "metadata": {
  "kernelspec": {
   "display_name": "nicobako.github.io",
   "language": "python",
   "name": "nicobako.github.io"
  },
  "language_info": {
   "codemirror_mode": {
    "name": "ipython",
    "version": 3
   },
   "file_extension": ".py",
   "mimetype": "text/x-python",
   "name": "python",
   "nbconvert_exporter": "python",
   "pygments_lexer": "ipython3",
   "version": "3.10.0"
  }
 },
 "nbformat": 4,
 "nbformat_minor": 5
}
