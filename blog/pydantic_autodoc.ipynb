{
 "cells": [
  {
   "cell_type": "markdown",
   "metadata": {},
   "source": [
    "# Autodocumenting Pydantic Models\n",
    "\n",
    "First, a shout-out to [pydantic](https://pydantic-docs.helpmanual.io/).\n",
    "*pydantic* is a wonderful tool that I find myself using quite often!\n",
    "Honestly, I probably use it too much... but who cares! I love *pydantic*!\n",
    "\n",
    "\n",
    "## What do I mean by *autodocumenting*\n",
    "\n",
    "What I mean by *autodocumenting pydantic models* is:\n",
    "automatically setting the `__doc__` string of *pydantic models*.\n",
    "\n",
    "The idea originated from [this GitHub issue](https://github.com/samuelcolvin/pydantic/issues/638).\n",
    "Esentially, the idea is that, since the *pydantic* model already\n",
    "knows a lot of information about itself (such as the field types, descriptions, etc.),\n",
    "then why can't a model's `__doc__` string be created automatically by `pydantic`?\n",
    "Sounds like a reasonable thing, right?\n",
    "\n",
    "However, there are many reasons why it wouldn't be wise to \n",
    "integrate this functionality into *pydantic*.\n",
    "First of all, generating a *docstring* could be really expensive,\n",
    "and could decrease performance. Secondly, there is little consensus\n",
    "on how `__doc__` strings should be formatted.\n",
    "For example, some of the formatting styles are numpy-style, google-style, rst-style, etc.\n",
    "\n",
    "\n",
    "## Some existing solutions\n",
    "\n",
    "This tutorial wouldn't be complete without first acknoweldging that there\n",
    "are existing tools that can generate documentation for *pydantic* models.\n",
    "\n",
    "Most notable of all is [autodoc_pydantic](https://github.com/mansenfranzen/autodoc_pydantic).\n",
    "This tool won't modify a *pydantic* model's `__doc__` string,\n",
    "but it wil arguably do more... it wiL generate really beautiful [Sphinx](https://www.sphinx-doc.org/en/master/contents.html)\n",
    "documentation for your *pydantic* classes!\n",
    "\n",
    "```{warning}\n",
    "So, if you are already using *Sphinx* for documentation,\n",
    "then please consider using *autodoc_pydantic* instead of following the advice\n",
    "in this tutorial.\n",
    "```"
   ]
  },
  {
   "cell_type": "markdown",
   "metadata": {},
   "source": [
    "## How *autodocumentation* will work\n",
    "\n",
    "Since we want this behaviour of *auto-generating* `__doc__` strings\n",
    "to effect all of our models, we will follow the advice given by *pydantic* on\n",
    "[how to change behaviour of models globally](https://pydantic-docs.helpmanual.io/usage/model_config/#change-behaviour-globally).\n",
    "We define our own *BaseModel* that provides us with the `__doc__` string functionality,\n",
    "and all our *models* will be *subclasses* of this *BaseModel*.\n",
    "\n",
    "We will also follow the advice from\n",
    "[this GitHub issue comment](https://github.com/samuelcolvin/pydantic/issues/638#issuecomment-535701292)\n",
    "(which was also mentioned above) for *how* to implement this `__doc__` string functionality.\n",
    "The idea is, since all of our models will be *subclasses* of a custom *BaseModel*,\n",
    "then we can take advantage of `__init_subclass__` to perform the set the `__doc__` string\n",
    "of all subclasses.\n"
   ]
  },
  {
   "cell_type": "markdown",
   "metadata": {},
   "source": [
    "### Pydantic autodoc template\n",
    "\n",
    "This is the *template* of what our solution will look like.\n",
    "There are many ways to solve this problem, but this *template* will\n",
    "serve as our starting point."
   ]
  },
  {
   "cell_type": "code",
   "execution_count": null,
   "metadata": {},
   "outputs": [],
   "source": [
    "import pydantic as pd\n",
    "from typing import Type\n",
    "\n",
    "\n",
    "def generate_docs(cls: Type[pd.BaseModel]) -> str:\n",
    "    doc = \"Auto-generated docs!\\n\"\n",
    "    doc += f\"Model name : {cls.__name__}\\n\"\n",
    "    doc += f\"Fields: {', '.join(cls.__fields__)}\\n\"\n",
    "    return doc\n",
    "\n",
    "\n",
    "class BaseModel(pd.BaseModel):\n",
    "    def __init_subclass__(cls: Type[pd.BaseModel]) -> None:\n",
    "        cls.__doc__ = generate_docs(cls)\n",
    "\n",
    "\n",
    "class Person(BaseModel):\n",
    "    name: str\n",
    "    age: int\n",
    "\n",
    "\n",
    "print(Person.__doc__)"
   ]
  },
  {
   "cell_type": "markdown",
   "metadata": {},
   "source": [
    "You'll see that there is a *free function* which takes a\n",
    "*BaseModel Class*, and generates the *doc-string* for that class.\n",
    "We define a custom *BaseModel* for our project.\n",
    "In the `__init_subclass__` function the `__doc__` string gets set.\n",
    "All of our *models* inherit from this *BaseModel*\n",
    "and will thereby have their *docstrings* set automatically!"
   ]
  },
  {
   "cell_type": "markdown",
   "metadata": {},
   "source": [
    "### One More Example\n",
    "\n",
    "Let's go a little crazy and do some more interesting stuff!"
   ]
  },
  {
   "cell_type": "code",
   "execution_count": null,
   "metadata": {},
   "outputs": [],
   "source": [
    "import pydantic as pd\n",
    "from typing import Type\n",
    "\n",
    "\n",
    "class AutoDocBase(pd.BaseModel):\n",
    "    class Doc:\n",
    "        short_description: str\n",
    "        long_description: str\n",
    "\n",
    "\n",
    "def generate_docs(cls: Type[AutoDocBase]) -> str:\n",
    "    doc = \"\"\n",
    "    doc += f\"# {cls.__name__}\\n\\n\"\n",
    "    doc += f\"{cls.Doc.short_description}\\n\\n\"\n",
    "    doc += f\"{cls.Doc.long_description}\\n\\n\"\n",
    "    doc += \"## Fields\\n\\n\"\n",
    "    for name, field in cls.__fields__.items():\n",
    "        field_info: pd.fields.FieldInfo = field.field_info\n",
    "        doc += f\"### {name}\\n\\n\"\n",
    "        doc += f\"{field_info.description}\\n\\n\"\n",
    "        for constraint in field_info.get_constraints():\n",
    "            doc += f\"* constraint : `{constraint} = {getattr(field_info, constraint)}`\\n\\n\"\n",
    "\n",
    "    return doc\n",
    "\n",
    "\n",
    "class BaseModel(AutoDocBase):\n",
    "    def __init_subclass__(cls: Type[AutoDocBase]) -> None:\n",
    "        cls.__doc__ = generate_docs(cls)\n",
    "\n",
    "\n",
    "class Person(BaseModel):\n",
    "    class Doc:\n",
    "        short_description = \"Short description of a Person.\"\n",
    "        long_description = \"Long description of a person.\"\n",
    "\n",
    "    name: str = pd.Field(\n",
    "        ..., description=\"Name of a person.\", regex=r\"[A-Z][a-zA-Z\\s]+\"\n",
    "    )\n",
    "    age: int = pd.Field(..., description=\"Age of a person.\", gt=0, lt=150)\n",
    "\n",
    "\n",
    "print(Person.__doc__)"
   ]
  },
  {
   "cell_type": "code",
   "execution_count": null,
   "metadata": {},
   "outputs": [],
   "source": [
    "from rich.markdown import Markdown\n",
    "\n",
    "Markdown(Person.__doc__)"
   ]
  },
  {
   "cell_type": "markdown",
   "metadata": {},
   "source": [
    "## Conclusion\n",
    "    \n",
    "So, I hope you've seen that it's pretty easy to customize the look and feel \n",
    "of the `__doc__` string for your *pydantic* models.\n",
    "\n",
    "But, **please**, use [autodoc_pydantic](https://github.com/mansenfranzen/autodoc_pydantic) instead.\n",
    "since it integrates really nicely into *Sphinx* documentation.\n",
    "Besides, do people really look at the `__doc__` string anymore?\n",
    "They are much more likely to browse the *Sphinx* documentation."
   ]
  }
 ],
 "metadata": {
  "kernelspec": {
   "display_name": "nicobako.github.io",
   "language": "python",
   "name": "nicobako.github.io"
  },
  "language_info": {
   "codemirror_mode": {
    "name": "ipython",
    "version": 3
   },
   "file_extension": ".py",
   "mimetype": "text/x-python",
   "name": "python",
   "nbconvert_exporter": "python",
   "pygments_lexer": "ipython3",
   "version": "3.8.3"
  }
 },
 "nbformat": 4,
 "nbformat_minor": 4
}
