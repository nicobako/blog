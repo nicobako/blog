{
 "cells": [
  {
   "cell_type": "markdown",
   "metadata": {},
   "source": [
    "# Autodocumenting Pydantic Models\n",
    "\n",
    "First, a shout-out to [pydantic](https://pydantic-docs.helpmanual.io/).\n",
    "*pydantic* is a wonderful tool that I find myself using quite often!\n",
    "Honestly, I probably use it too much... but who cares! I love *pydantic*!\n",
    "\n",
    "\n",
    "## What do I mean by *autodocumenting*\n",
    "\n",
    "The idea originated from [this GitHub issue](https://github.com/samuelcolvin/pydantic/issues/638).\n",
    "Esentially, the idea is that, since the *pydantic* model already\n",
    "knows a lot of information about itself (such as the field types, descriptions, etc.),\n",
    "then why can't a model's `__doc__` string be created automatically by `pydantic`?\n",
    "Sounds like a reasonable thing, right?\n",
    "\n",
    "However, there are many reasons why it wouldn't be wise to make this part of *pydantic*.\n",
    "First of all, generating a *docstring* could be really expensive,\n",
    "and will decrease performance. Secondly, there are so many different ways\n",
    "to add documentation to a Python class (e.g. numpy-style, google-style, rst-style, etc.).\n",
    "\n",
    "So, what I mean by *autodocumenting pydantic models* is:\n",
    "automatically setting the `__doc__` string of *pydantic models*.\n",
    "\n",
    "\n",
    "## Some existing solutions\n",
    "\n",
    "This tutorial wouldn't be complete without first acknoweldging that there\n",
    "are existing tools that can generate documentation for *pydantic* models.\n",
    "\n",
    "Most notable of all is [autodoc_pydantic](https://github.com/mansenfranzen/autodoc_pydantic).\n",
    "This tool won't modify a *pydantic* model's `__doc__` string,\n",
    "but it wil arguably do more... it wiL generate really beautiful [Sphinx](https://www.sphinx-doc.org/en/master/contents.html)\n",
    "documentation for your *pydantic* classes!\n",
    "\n",
    "So, if you are already using *Sphinx* for documentation,\n",
    "then please consider using *autodoc_pydantic* instead of following the advice\n",
    "in this tutorial.\n",
    "\n",
    "\n",
    "## What you'll learn\n",
    "\n",
    "This article will show you the basics of how to make autodocumenting your \n",
    "*pydantic* models possible, and will give you the tools you need to \n",
    "customize the look and feel of your models' `__doc__` strings.\n",
    "The approach I demonstrate is heavily inspired by\n",
    "[this comment](https://github.com/samuelcolvin/pydantic/issues/638#issuecomment-535701292).\n"
   ]
  },
  {
   "cell_type": "markdown",
   "metadata": {},
   "source": [
    "## How *autodocumentation* will work\n",
    "\n",
    "Since we want this behaviour of *auto-generating* `__doc__` strings\n",
    "to effect all of our models, we will follow the advice given by *pydantic* on\n",
    "[how to change behaviour of models globally](https://pydantic-docs.helpmanual.io/usage/model_config/#change-behaviour-globally).\n",
    "We define our own *BaseModel* that provides us with the `__doc__` string functionality,\n",
    "and all our *models* will be *subclasses* of this *BaseModel*.\n",
    "\n",
    "We will also follow the advice from\n",
    "[this GitHub issue comment](https://github.com/samuelcolvin/pydantic/issues/638#issuecomment-535701292)\n",
    "(which was also mentioned above) for *how* to implement this `__doc__` string functionality.\n",
    "The idea is, since all of our models will be *subclasses* of a custom *BaseModel*,\n",
    "then we can take advantage of `__init_subclass__` to perform the set the `__doc__` string\n",
    "of all subclasses.\n"
   ]
  },
  {
   "cell_type": "markdown",
   "metadata": {},
   "source": [
    "### Pydantic autodoc template\n",
    "\n",
    "This is the *template* of what our solution will look like.\n",
    "There are many ways to solve this problem, but this *template* will\n",
    "serve as our starting point."
   ]
  },
  {
   "cell_type": "code",
   "execution_count": null,
   "metadata": {},
   "outputs": [],
   "source": [
    "import pydantic as pd\n",
    "from typing import Type\n",
    "\n",
    "def generate_docs(cls: Type[BaseModel]) -> str:\n",
    "    doc = \"\"\n",
    "    doc += f\"Auto-generated docs!\\n\"\n",
    "    return doc\n",
    "\n",
    "\n",
    "class AutodocBase:\n",
    "    def __init_subclass__(cls: Type[pd.BaseModel]) -> None:\n",
    "        cls.__doc__ = generate_docs(cls)\n",
    "\n",
    "\n",
    "class Person(BaseModel):\n",
    "    name: str\n",
    "    age: int\n",
    "\n",
    "\n",
    "print(Person.__doc__)\n"
   ]
  },
  {
   "cell_type": "markdown",
   "metadata": {},
   "source": [
    "You'll see that this *template* is quite simple,\n",
    "but it provides us with a great starting point for generating the docs that we like.\n",
    "So, let's get started with some more elaborate examples."
   ]
  },
  {
   "cell_type": "code",
   "execution_count": null,
   "metadata": {},
   "outputs": [],
   "source": [
    "def generate_docs(cls):\n",
    "    doc = \"These are docs/n\"\n",
    "    doc += cls.About.description\n",
    "    return doc\n",
    "\n",
    "\n",
    "class Base(BaseModel):\n",
    "    class About:\n",
    "        description = \"I am the base class\"\n",
    "\n",
    "    pass\n",
    "\n",
    "\n",
    "Base.__doc__\n"
   ]
  },
  {
   "cell_type": "code",
   "execution_count": null,
   "metadata": {},
   "outputs": [],
   "source": [
    "def generate_docs(cls):\n",
    "    return \"New docs\"\n",
    "\n",
    "\n",
    "class Base(BaseModel):\n",
    "    pass\n",
    "\n",
    "\n",
    "Base.__doc__\n"
   ]
  }
 ],
 "metadata": {
  "kernelspec": {
   "display_name": "nicobako.github.io",
   "language": "python",
   "name": "nicobako.github.io"
  },
  "language_info": {
   "codemirror_mode": {
    "name": "ipython",
    "version": 3
   },
   "file_extension": ".py",
   "mimetype": "text/x-python",
   "name": "python",
   "nbconvert_exporter": "python",
   "pygments_lexer": "ipython3",
   "version": "3.7.6"
  }
 },
 "nbformat": 4,
 "nbformat_minor": 4
}
