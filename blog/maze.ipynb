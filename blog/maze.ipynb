{
 "cells": [
  {
   "cell_type": "markdown",
   "id": "bb96e97a",
   "metadata": {},
   "source": [
    "# Solving a Maze\n",
    "\n",
    "Solving mazes seems like a really good opportunity to continue exploring\n",
    "using graph-processing techniques to solve interesting problems."
   ]
  },
  {
   "cell_type": "code",
   "execution_count": null,
   "id": "fff73e4b",
   "metadata": {},
   "outputs": [],
   "source": [
    "from pathlib import Path\n",
    "from itertools import product\n",
    "\n",
    "import numpy as np\n",
    "import networkx as nx\n",
    "import matplotlib.pyplot as plt\n",
    "import matplotlib.image as mpimg"
   ]
  },
  {
   "cell_type": "markdown",
   "id": "dc25ced8",
   "metadata": {},
   "source": [
    "## Generating Mazes\n",
    "\n",
    "We could probably create mazes using Python,\n",
    "but that's outside the scope of this tutorial.\n",
    "Instead, we'll use this amazing resource:\n",
    "\n",
    "https://www.allkidsnetwork.com/mazes/maze-generator\n",
    "\n",
    "This site requires you to create an account and login,\n",
    "so I created a maze and downloaded it locally."
   ]
  },
  {
   "cell_type": "code",
   "execution_count": null,
   "id": "e2ba0ebe",
   "metadata": {},
   "outputs": [],
   "source": [
    "maze_file_path = Path(\"./res/maze.png\")\n",
    "assert maze_file_path.exists()"
   ]
  },
  {
   "cell_type": "markdown",
   "id": "381d49ab",
   "metadata": {},
   "source": [
    "## Loading a Maze as an Image\n",
    "\n",
    "We'll load mazes as images, then perform our computations on the image."
   ]
  },
  {
   "cell_type": "code",
   "execution_count": null,
   "id": "00d1022f",
   "metadata": {},
   "outputs": [],
   "source": [
    "maze = mpimg.imread(maze_file_path)\n",
    "plt.imshow(maze)\n",
    "plt.show()"
   ]
  },
  {
   "cell_type": "markdown",
   "id": "7a77859b",
   "metadata": {},
   "source": [
    "## Solving the Maze with a Graph\n",
    "\n",
    "As usual, we'll use _networkx_ because it's awesome!\n",
    "\n",
    "Here's the game plan:\n",
    "\n",
    "1. Create a graph using the image\n",
    "2. Initially, all pixels will be connected to their neighbors\n",
    "3. We'll remove any connections (edges) for pixels that are not possible paths\n",
    "  * White pixels represent possible *paths*\n",
    "  * Any pixels other than white represents a *wall*\n",
    "  * Pixels outside the maze are not possible paths\n",
    "4. Find the shortest path from beginning to end\n",
    "5. Overlay the path onto our maze image and visualize it"
   ]
  },
  {
   "cell_type": "code",
   "execution_count": null,
   "id": "1efa3870",
   "metadata": {},
   "outputs": [],
   "source": [
    "nrows, ncols, _ = maze.shape\n",
    "\n",
    "graph = nx.grid_2d_graph(nrows, ncols)\n",
    "\n",
    "edges_to_remove = []\n",
    "\n",
    "top_of_maze = 25\n",
    "bottom_of_maze = nrows - 22\n",
    "left_of_maze = 13\n",
    "right_of_maze = ncols - 14\n",
    "\n",
    "for node in graph.nodes:\n",
    "    row, col = node\n",
    "    is_not_path = (maze[row, col, 0:3] != 1).all()\n",
    "    is_outside_of_maze = any(\n",
    "        [\n",
    "            row < top_of_maze,\n",
    "            row > bottom_of_maze,\n",
    "            col < left_of_maze,\n",
    "            col > right_of_maze,\n",
    "        ]\n",
    "    )\n",
    "    if is_not_path or is_outside_of_maze:\n",
    "        edges_to_remove.extend((node, n) for n in graph.neighbors(node))\n",
    "\n",
    "graph.remove_edges_from([edge for edge in edges_to_remove])\n",
    "\n",
    "start = (top_of_maze + 1, left_of_maze + 14)\n",
    "end = (bottom_of_maze - 1, right_of_maze - 14)\n",
    "\n",
    "path = nx.shortest_path(graph, start, end)\n",
    "\n",
    "for step in path:\n",
    "    row, col = step\n",
    "    maze[row, col] = [1, 0, 0, 1]\n",
    "plt.imshow(maze)\n",
    "plt.show()"
   ]
  },
  {
   "cell_type": "markdown",
   "id": "88d3353b",
   "metadata": {},
   "source": [
    "## Conclusion\n",
    "\n",
    "There are obvious improvements that we can make, but this was just for fun.\n",
    "\n",
    "I hope you enjoyed seeing how to solve mazes with Python and *networkx*!"
   ]
  }
 ],
 "metadata": {
  "kernelspec": {
   "display_name": "nicobako.github.io",
   "language": "python",
   "name": "nicobako.github.io"
  },
  "language_info": {
   "codemirror_mode": {
    "name": "ipython",
    "version": 3
   },
   "file_extension": ".py",
   "mimetype": "text/x-python",
   "name": "python",
   "nbconvert_exporter": "python",
   "pygments_lexer": "ipython3",
   "version": "3.9.5"
  }
 },
 "nbformat": 4,
 "nbformat_minor": 5
}
