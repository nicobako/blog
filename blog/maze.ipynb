{
 "cells": [
  {
   "cell_type": "markdown",
   "id": "ed80b271",
   "metadata": {},
   "source": [
    "# Solving a Maze\n",
    "\n",
    "Solving mazes seems like a really good opportunity to continue exploring\n",
    "using graph-processing techniques to solve interesting problems."
   ]
  },
  {
   "cell_type": "code",
   "execution_count": null,
   "id": "55b3ed39",
   "metadata": {},
   "outputs": [],
   "source": [
    "from pathlib import Path\n",
    "from itertools import product\n",
    "\n",
    "import numpy as np\n",
    "import networkx as nx\n",
    "import matplotlib.pyplot as plt\n",
    "import matplotlib.image as mpimg"
   ]
  },
  {
   "cell_type": "markdown",
   "id": "abe2de59",
   "metadata": {},
   "source": [
    "## Generating Mazes\n",
    "\n",
    "We could probably create mazes using Python,\n",
    "but that's outside the scope of this tutorial.\n",
    "Instead, we'll use this amazing resource:\n",
    "\n",
    "https://www.allkidsnetwork.com/mazes/maze-generator\n",
    "\n",
    "This site requires you to create an account and login,\n",
    "so I created a maze and downloaded it locally."
   ]
  },
  {
   "cell_type": "code",
   "execution_count": null,
   "id": "401e8839",
   "metadata": {},
   "outputs": [],
   "source": [
    "maze_file_path = Path(\"./res/maze.png\")\n",
    "assert maze_file_path.exists()"
   ]
  },
  {
   "cell_type": "markdown",
   "id": "50496327",
   "metadata": {},
   "source": [
    "## Loading an Maze as an Image\n",
    "\n",
    "We'll load mazes as images, then perform our computations on the image."
   ]
  },
  {
   "cell_type": "code",
   "execution_count": null,
   "id": "5e8152c2",
   "metadata": {},
   "outputs": [],
   "source": [
    "maze = mpimg.imread(maze_file_path)\n",
    "plt.imshow(maze)\n",
    "plt.show()"
   ]
  },
  {
   "cell_type": "markdown",
   "id": "8db56479",
   "metadata": {},
   "source": [
    "## Preparing the Maze Image\n",
    "\n",
    "Let's take a closer look at the top left corner of the\n",
    "maze image."
   ]
  },
  {
   "cell_type": "code",
   "execution_count": null,
   "id": "086b2a25",
   "metadata": {},
   "outputs": [],
   "source": [
    "plt.imshow(maze[0:50,0:50])\n",
    "plt.show()"
   ]
  },
  {
   "cell_type": "markdown",
   "id": "915fc887",
   "metadata": {},
   "source": [
    "You can see that the start -- and end -- are labeled in red.\n",
    "This is great when _people_ are solving mazes, but not\n",
    "so great for _computers_. \n",
    "\n",
    "Another issue is that we have _faded_ red and black colors.\n",
    "This would be easier if we had just two colors: white and black.\n",
    "\n",
    "Let's do some _preprocessing_\n",
    "and prepare the maze for solving."
   ]
  },
  {
   "cell_type": "code",
   "execution_count": null,
   "id": "bcea8fc5",
   "metadata": {},
   "outputs": [],
   "source": [
    "maze = maze[:,:,0:3] # drop the alpha channel\n",
    "maze = maze[25:-22,13:-14] # drop extraneous pixels around maze\n",
    "nrows, ncols, nchannels = maze.shape\n",
    "mags = np.linalg.norm(maze, axis=2)\n",
    "for row, col in product(range(nrows), range(ncols)):\n",
    "    if mags[row, col] > 0.8:\n",
    "        maze[row,col] = [1,1,1]\n",
    "    else:\n",
    "        maze[row,col] = [0,0,0]\n",
    "plt.imshow(maze)\n",
    "plt.show()"
   ]
  },
  {
   "cell_type": "code",
   "execution_count": null,
   "id": "34e28ae2",
   "metadata": {},
   "outputs": [],
   "source": []
  }
 ],
 "metadata": {
  "kernelspec": {
   "display_name": "nicobako.github.io",
   "language": "python",
   "name": "nicobako.github.io"
  },
  "language_info": {
   "codemirror_mode": {
    "name": "ipython",
    "version": 3
   },
   "file_extension": ".py",
   "mimetype": "text/x-python",
   "name": "python",
   "nbconvert_exporter": "python",
   "pygments_lexer": "ipython3",
   "version": "3.9.5"
  }
 },
 "nbformat": 4,
 "nbformat_minor": 5
}
