{
 "cells": [
  {
   "cell_type": "markdown",
   "id": "d40e81c1",
   "metadata": {},
   "source": [
    "# Boundary Detection\n",
    "\n",
    "After a little bit of Googling I found that *object detection* is different than\n",
    "*boundary detection*. Object detection seems to be focused on identifying\n",
    "objects in an image (as in \"this image contains a squirrel\"),\n",
    "Boundary detection seems to be focused\n",
    "of distinguishing unique objects in an image.\n",
    "\n",
    "In this article I primarily use the term *object* instead of *boundary*,\n",
    "but know that I am trying to solve a *boundary detection* problem,\n",
    "not an *object detection* problem.\n",
    "\n",
    "## Overview\n",
    "\n",
    "There are plenty of tools available for performing image processing,\n",
    "but let's say that we want to implement our own *boudary detection* algorithm.\n",
    "How would you go about that?\n",
    "Here is my completely naive attempt at trying to solve this problem.\n",
    "\n",
    "Now, I'm not an image processing wizard, but my guess is that you would\n",
    "somehow need to compare pixel value(s) to their neighbour(s).\n",
    "A simple solution could look like this:\n",
    "\n",
    "* If pixel values are similar enough, then the pixels might belong to the same object.\n",
    "* If pixel values are not similar enough, then they belong to different objects.\n",
    "\n",
    "This seems simple enough, but in order to really\n",
    "solve this problem we will need to specify a few more things:\n",
    "\n",
    "* How do we determine *neighbors* of pixels?\n",
    "* What is our method for *comparing* pixel values?\n",
    "* How do we determine if pixels are *similar* enough?\n",
    "* What constitutes an *object*?\n",
    "\n",
    "We'll answer these questions one at a time and hopefully\n",
    "reach a satisfactory solution.\n",
    "First, let's load our image using *matplotlib* facilities."
   ]
  },
  {
   "cell_type": "code",
   "execution_count": null,
   "id": "5152ab82",
   "metadata": {},
   "outputs": [],
   "source": [
    "import numpy as np\n",
    "import matplotlib.pyplot as plt\n",
    "import matplotlib.image as mpimg\n",
    "import networkx as nx"
   ]
  },
  {
   "cell_type": "code",
   "execution_count": null,
   "id": "942d1548",
   "metadata": {},
   "outputs": [],
   "source": [
    "img_url = \"https://github.com/scikit-image/scikit-image/blob/main/skimage/data/astronaut.png?raw=true\"\n",
    "img = mpimg.imread(img_url)\n",
    "plt.imshow(img)\n",
    "plt.show()"
   ]
  },
  {
   "cell_type": "markdown",
   "id": "69090c55",
   "metadata": {},
   "source": [
    "## Representing Connected Pixels\n",
    "\n",
    "We will use one of my favourite techniques: [graph processing with networkx](https://networkx.org/documentation/stable/index.html)!\n",
    "Representing *connected items* is a problem that **screams**\n",
    "for a graph-processing solution.\n",
    "\n",
    "We will represent our image as a *networkx graph*.\n",
    "Later on, if we determine that pixels are connencted,\n",
    "we simply create a connection between the two pixels."
   ]
  },
  {
   "cell_type": "code",
   "execution_count": null,
   "id": "42a8c72d",
   "metadata": {},
   "outputs": [],
   "source": [
    "def create_graph(img: np.ndarray) -> nx.Graph:\n",
    "    nrows, ncols, _ = img.shape\n",
    "    g = nx.Graph(nrows=nrows, ncols=ncols, img=img)\n",
    "    for r in range(nrows):\n",
    "        for c in range(ncols):\n",
    "            g.add_node((r, c), color=img[r, c], group=None)\n",
    "\n",
    "    return g\n",
    "\n",
    "\n",
    "def draw_graph(g, node_size=1):\n",
    "    pos = {n: (n[1], -n[0]) for n in g.nodes}\n",
    "    node_color = [g.nodes[n][\"group\"] for n in g.nodes]\n",
    "    cmap = \"coolwarm\"\n",
    "    if any(nc is None for nc in node_color):\n",
    "        node_color = [g.nodes[n][\"color\"] for n in g.nodes]\n",
    "        cmap = None\n",
    "    nx.draw_networkx(\n",
    "        g,\n",
    "        pos=pos,\n",
    "        node_size=node_size,\n",
    "        node_color=node_color,\n",
    "        with_labels=False,\n",
    "        cmap=cmap,\n",
    "    )\n",
    "\n",
    "\n",
    "g = create_graph(img)\n",
    "draw_graph(g, node_size=5)"
   ]
  },
  {
   "cell_type": "markdown",
   "id": "98ecadcd",
   "metadata": {},
   "source": [
    "## Finding Neighbouring Pixels\n",
    "\n",
    "We will use a simple approach of just itereating over the rows and columns\n",
    "of our images. Pixels are adjacent to eachother if they are:\n",
    "\n",
    "* in the same row and adjacent column\n",
    "* in the same column and adjacent row"
   ]
  },
  {
   "cell_type": "code",
   "execution_count": null,
   "id": "e57efbd8",
   "metadata": {},
   "outputs": [],
   "source": [
    "def pixel_neighbor_iterator(g):\n",
    "    nrows = g.graph[\"nrows\"]\n",
    "    ncols = g.graph[\"ncols\"]\n",
    "    for r in range(nrows):\n",
    "        for c in range(ncols - 1):\n",
    "            yield (r, c), (r, c + 1)\n",
    "    for c in range(ncols):\n",
    "        for r in range(nrows - 1):\n",
    "            yield (r, c), (r + 1, c)"
   ]
  },
  {
   "cell_type": "markdown",
   "id": "0b68de55",
   "metadata": {},
   "source": [
    "## Comparing Pixel Values\n",
    "\n",
    "Imagine if we treat all the pixels in an image as vectors.\n",
    "Vectors have both _magnitude_ and _direction_.\n",
    "The [dot product](https://en.wikipedia.org/wiki/Dot_product)\n",
    "is a mathematical operation that can be used to compare the magnitude\n",
    "and direction of two vectors. I'm not a mathematician so I won't pretend to fully\n",
    "understand how it works... that's why I've added a link for more details.\n",
    "Could we use this simple measurement as a means for comparing pixel values?\n",
    "\n",
    "We have an image already, so let's plot a histogram\n",
    "of all of our dot products so we get an idea of what we're working with."
   ]
  },
  {
   "cell_type": "code",
   "execution_count": null,
   "id": "f59176aa",
   "metadata": {},
   "outputs": [],
   "source": [
    "dots = []\n",
    "for s, t in pixel_neighbor_iterator(g):\n",
    "    dots.append(np.dot(g.nodes[s][\"color\"], g.nodes[t][\"color\"]))\n",
    "plt.hist(dots)\n",
    "plt.show()"
   ]
  },
  {
   "cell_type": "markdown",
   "id": "774fed33",
   "metadata": {},
   "source": [
    "## Determining if Pixels are Connected\n",
    "\n",
    "The *dot product* of two vectors returns a single value (i.e. a *float*).\n",
    "Could our logic be as simple as computing the dot product of two pixels,\n",
    "and it is below some threshold, then we can assume the pixels belong to the same object?"
   ]
  },
  {
   "cell_type": "code",
   "execution_count": null,
   "id": "e2806981",
   "metadata": {},
   "outputs": [],
   "source": [
    "def are_pixels_connected(p1, p2, dot_threshold: float) -> bool:\n",
    "    dot = np.dot(p1, p2)\n",
    "\n",
    "    if abs(dot) <= dot_threshold:\n",
    "        return True\n",
    "\n",
    "    return False"
   ]
  },
  {
   "cell_type": "markdown",
   "id": "55665310",
   "metadata": {},
   "source": [
    "## Determining Objects in Image\n",
    "\n",
    "We are representing an object as a collection of pixels, right?\n",
    "If multiple pixels are connected, that's an object, right?\n",
    "We can add some logic to our algorithm so that objects must be\n",
    "made up of a minimum number of connected pixels.\n",
    "\n",
    "Now, lets put it all together.\n",
    "We will be given an image, and we want to follow all of the steps\n",
    "outlined above to split up the image into objects."
   ]
  },
  {
   "cell_type": "code",
   "execution_count": null,
   "id": "82fec143",
   "metadata": {},
   "outputs": [],
   "source": [
    "def determine_objects_in_image(\n",
    "    img: np.ndarray,\n",
    "    object_size_threshold: int,\n",
    "    dot_threshold: float,\n",
    ") -> None:\n",
    "    g = create_graph(img)\n",
    "\n",
    "    for s, t in pixel_neighbor_iterator(g):\n",
    "        ps = g.nodes[s][\"color\"]\n",
    "        pt = g.nodes[t][\"color\"]\n",
    "        if are_pixels_connected(ps, pt, dot_threshold):\n",
    "            g.add_edge(s, t)\n",
    "\n",
    "    gc = nx.connected_components(g)\n",
    "    nodes_to_remove = []\n",
    "    for i, nodes in enumerate(gc):\n",
    "        if len(nodes) < object_size_threshold:\n",
    "            nodes_to_remove.extend(nodes)\n",
    "        else:\n",
    "            for n in nodes:\n",
    "                g.nodes[n][\"group\"] = i\n",
    "    g.remove_nodes_from(nodes_to_remove)\n",
    "\n",
    "    print(f\"Object Size Threshold : {object_size_threshold}\")\n",
    "    print(f\"Dot Product Threshold : {dot_threshold}\")\n",
    "    print(f\"Num Objects Detected  : {nx.number_connected_components(g)}\")\n",
    "    draw_graph(g, node_size=5)"
   ]
  },
  {
   "cell_type": "code",
   "execution_count": null,
   "id": "4217abc3",
   "metadata": {},
   "outputs": [],
   "source": [
    "determine_objects_in_image(\n",
    "    img,\n",
    "    3,\n",
    "    0.5,\n",
    ")"
   ]
  },
  {
   "cell_type": "code",
   "execution_count": null,
   "id": "a433d17a",
   "metadata": {},
   "outputs": [],
   "source": [
    "determine_objects_in_image(\n",
    "    img,\n",
    "    20,\n",
    "    0.3,\n",
    ")"
   ]
  },
  {
   "cell_type": "code",
   "execution_count": null,
   "id": "a82f4324",
   "metadata": {},
   "outputs": [],
   "source": [
    "determine_objects_in_image(\n",
    "    img,\n",
    "    50,\n",
    "    0.75,\n",
    ")"
   ]
  },
  {
   "cell_type": "markdown",
   "id": "cee6b94e",
   "metadata": {},
   "source": [
    "## Conclusion\n",
    "\n",
    "I'm actually quite impressed with this.\n",
    "It worked out much better than I expected!\n",
    "\n",
    "There could be countless ways of doing this better.\n",
    "Namely, use an image proceesing library!"
   ]
  }
 ],
 "metadata": {
  "kernelspec": {
   "display_name": "nicobako.github.io",
   "language": "python",
   "name": "nicobako.github.io"
  },
  "language_info": {
   "codemirror_mode": {
    "name": "ipython",
    "version": 3
   },
   "file_extension": ".py",
   "mimetype": "text/x-python",
   "name": "python",
   "nbconvert_exporter": "python",
   "pygments_lexer": "ipython3",
   "version": "3.9.5"
  }
 },
 "nbformat": 4,
 "nbformat_minor": 5
}
