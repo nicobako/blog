{
 "cells": [
  {
   "cell_type": "markdown",
   "metadata": {},
   "source": [
    "# Autodocumenting Pydantic Models\n",
    "\n",
    "First, a shout-out to [pydantic](https://pydantic-docs.helpmanual.io/).\n",
    "*pydantic* is a wonderful tool that I find myself using quite often!\n",
    "Honestly, I probably use it too much...\n",
    "\n",
    "\n",
    "## What do I mean by *autodocumenting*\n",
    "\n",
    "This idea of mine originated from [this GitHub issue](https://github.com/samuelcolvin/pydantic/issues/638).\n",
    "Esentially, the idea is that, since the *pydantic* model already\n",
    "knows a lot of information about itself (such as the field types, any descriptions, etc.),\n",
    "then why can't a model's `__doc__` string just be created automatically by `pydantic`?\n",
    "Sounds like a reasonable thing, right?\n",
    "\n",
    "However, there are many reasons why it wouldn't be wise to make this part of *pydantic*.\n",
    "First of all, generating a *docstring* could be really expensive,\n",
    "and will decrease performance. Second of all, there are so many different ways\n",
    "to add documentation to a Python class (e.g. numpy-style, google-style, rst-style, etc.).\n",
    "\n",
    "But, here's the good news: this is easy to implement yourself!\n",
    "Moreover, using your own implementation has the benefit of the docs looking\n",
    "exactly the way you want them to!\n",
    "\n",
    "## What you'll learn\n",
    "This article will show you the basics of how to make autodocumenting your \n",
    "*pydantic* models possible, and will give you the tools you need to \n",
    "customize the look and feel of your documentation."
   ]
  },
  {
   "cell_type": "code",
   "execution_count": null,
   "metadata": {},
   "outputs": [],
   "source": []
  }
 ],
 "metadata": {
  "kernelspec": {
   "display_name": "nicobako.github.io",
   "language": "python",
   "name": "nicobako.github.io"
  },
  "language_info": {
   "codemirror_mode": {
    "name": "ipython",
    "version": 3
   },
   "file_extension": ".py",
   "mimetype": "text/x-python",
   "name": "python",
   "nbconvert_exporter": "python",
   "pygments_lexer": "ipython3",
   "version": "3.7.6"
  }
 },
 "nbformat": 4,
 "nbformat_minor": 4
}
