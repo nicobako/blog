{
 "cells": [
  {
   "cell_type": "markdown",
   "metadata": {},
   "source": [
    "# How to Flatten a Python `dict`"
   ]
  },
  {
   "cell_type": "markdown",
   "metadata": {},
   "source": [
    "We've all had that moment.\n",
    "We are trying to analyze a nested `dict`.\n",
    "We start by peeling away the layers one at a time,\n",
    "hoping to find the values.\n",
    "Sometimes this approach works...\n",
    "and sometimes you need to **flatten it!**.\n",
    "\n",
    "## What do I mean by *flattening*?\n",
    "\n",
    "There are many ways to *flatten* a `dict`, but what I\n",
    "want is this:\n",
    "\n",
    "* I want to start with an arbitrarily nested `dict`\n",
    "  * Or `list`!\n",
    "* I want all of the *values*\n",
    "* I also want all of the *paths* to those values\n",
    "* I want the *paths* to be valid Python code\n",
    "\n",
    "At this point an example might help.\n",
    "\n",
    "Imagine a classroom with students. If I wanted to store the *roster*\n",
    "in a `dict` it could look like this:"
   ]
  },
  {
   "cell_type": "code",
   "execution_count": null,
   "metadata": {},
   "outputs": [],
   "source": [
    "roster = {\n",
    "    \"students\":[\n",
    "        {\n",
    "            \"age\": 25,\n",
    "            \"name\": \"John\",\n",
    "        },\n",
    "        {\n",
    "            \"age\": 30,\n",
    "            \"name\": \"Jane\",\n",
    "        }\n",
    "    ],\n",
    "    \"class\":{\n",
    "        \"title\": \"Philosophy 101\",\n",
    "        \"id\": 12345,\n",
    "    },\n",
    "}"
   ]
  },
  {
   "cell_type": "markdown",
   "metadata": {},
   "source": [
    "Here are the *paths* and *values* I want, stored in a `pandas.DataFrame`\n",
    "because `pandas` rocks!"
   ]
  },
  {
   "cell_type": "code",
   "execution_count": null,
   "metadata": {},
   "outputs": [],
   "source": [
    "import pandas as pd"
   ]
  },
  {
   "cell_type": "code",
   "execution_count": null,
   "metadata": {},
   "outputs": [],
   "source": [
    "roster_flattened = pd.DataFrame(\n",
    "    {\n",
    "        \"path\":[\n",
    "            'roster[\"students\"][0][\"age\"]',\n",
    "            'roster[\"students\"][0][\"name\"]',\n",
    "            'roster[\"students\"][1][\"age\"]',\n",
    "            'roster[\"students\"][1][\"name\"]',\n",
    "            'roster[\"class\"][\"title\"]',\n",
    "            'roster[\"class\"][\"id\"]',\n",
    "        ],\n",
    "        \"value\":[\n",
    "            25,\n",
    "            \"John\",\n",
    "            30,\n",
    "            \"Jane\",\n",
    "            \"Philosophy 101\",\n",
    "            12345,\n",
    "        ],\n",
    "    }\n",
    ")\n",
    "roster_flattened"
   ]
  },
  {
   "cell_type": "markdown",
   "metadata": {},
   "source": [
    "## Let's Flatten Something!\n",
    "\n",
    "Let's create our function that does the actual flattening.\n",
    "I'll define it here, and explain parts of it later."
   ]
  },
  {
   "cell_type": "code",
   "execution_count": null,
   "metadata": {},
   "outputs": [],
   "source": [
    "from typing import Dict, List, Union, Tuple, Any\n",
    "\n",
    "Flattenable = Union[Dict, List]\n",
    "Path = str\n",
    "Paths = List[Path]\n",
    "Value = Any\n",
    "Values = List[Value]\n",
    "\n",
    "def flatten(obj:Flattenable, name:str)->Tuple[Paths, Values]:\n",
    "    \n",
    "    paths = []\n",
    "    values = []\n",
    "    \n",
    "    def do_flattening(\n",
    "        obj: Flattenable,\n",
    "        path:Path,\n",
    "    ):\n",
    "        obj_type = type(obj)\n",
    "        \n",
    "        if dict == obj_type:\n",
    "            for key, value in obj.items():\n",
    "                new_path = f'{path}[\"{key}\"]'\n",
    "                new_obj = value\n",
    "                do_flattening(new_obj, new_path)\n",
    "    \n",
    "        if list == obj_type:\n",
    "            for i, item in enumerate(obj):\n",
    "                new_path = f\"{path}[i]\"\n",
    "                new_obj = item\n",
    "                do_flattening(new_obj, new_path)\n",
    "                \n",
    "        else:\n",
    "            paths.append(path)\n",
    "            values.append(obj)\n",
    "            \n",
    "    do_flattening(obj, name)\n",
    "    \n",
    "    return paths, values\n"
   ]
  },
  {
   "cell_type": "code",
   "execution_count": null,
   "metadata": {},
   "outputs": [],
   "source": [
    "paths, values = flatten(roster, \"roster\")\n",
    "\n"
   ]
  }
 ],
 "metadata": {
  "kernelspec": {
   "display_name": "nicobako.github.io",
   "language": "python",
   "name": "nicobako.github.io"
  },
  "language_info": {
   "codemirror_mode": {
    "name": "ipython",
    "version": 3
   },
   "file_extension": ".py",
   "mimetype": "text/x-python",
   "name": "python",
   "nbconvert_exporter": "python",
   "pygments_lexer": "ipython3",
   "version": "3.7.6"
  }
 },
 "nbformat": 4,
 "nbformat_minor": 4
}
