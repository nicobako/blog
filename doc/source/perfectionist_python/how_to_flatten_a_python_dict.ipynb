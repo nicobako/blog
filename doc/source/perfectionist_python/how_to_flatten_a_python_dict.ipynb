{
 "cells": [
  {
   "cell_type": "markdown",
   "metadata": {},
   "source": [
    "# How to Flatten a Python `dict`"
   ]
  },
  {
   "cell_type": "markdown",
   "metadata": {},
   "source": [
    "We've all had that moment.\n",
    "We are trying to analyze a nested `dict`.\n",
    "We start by peeling away the layers one at a time,\n",
    "hoping to find the values.\n",
    "Sometimes this approach works...\n",
    "and sometimes you need to **flatten it!**.\n",
    "\n",
    "## What you'll learn\n",
    "\n",
    "* How to flatten a JSON-compatible `dict` in Python\n",
    "* How to customize the flattening function to work with other objects\n",
    "\n",
    "## What do I mean by *flattening*?\n",
    "\n",
    "There are many ways to *flatten* a `dict`, but what I\n",
    "want is this:\n",
    "\n",
    "* I want to start with an JSON object\n",
    "  \n",
    "  * a nested `dict` whose keys are all strings\n",
    "  * or a `list`\n",
    "  \n",
    "* I want all of the *values*\n",
    "* I also want all of the *paths* to those values\n",
    "* I want the *paths* to be valid Python code\n",
    "\n",
    "<div class=\"alert alert-info\">\n",
    "    NOTE: This implementation only works for JSON-friendly\n",
    "    data: i.e. all keys in the dict are strings.\n",
    "    If you have anything else to flatten please keep reading\n",
    "    to learn how to customize the function for your needs.\n",
    "</div>\n",
    "\n",
    "### Example\n",
    "\n",
    "Imagine a classroom with students. If I wanted to store the *roster*\n",
    "in a `dict` it could look like this:"
   ]
  },
  {
   "cell_type": "code",
   "execution_count": null,
   "metadata": {},
   "outputs": [],
   "source": [
    "%load_ext nb_black%\n",
    "\n",
    "roster = {\n",
    "    \"students\":[\n",
    "        {\n",
    "            \"age\": 25,\n",
    "            \"name\": \"John\",\n",
    "        },\n",
    "        {\n",
    "            \"age\": 30,\n",
    "            \"name\": \"Jane\",\n",
    "        }\n",
    "    ],\n",
    "    \"class\":{\n",
    "        \"title\": \"Philosophy 101\",\n",
    "        \"id\": 12345,\n",
    "    },\n",
    "}"
   ]
  },
  {
   "cell_type": "markdown",
   "metadata": {},
   "source": [
    "Here are the *paths* and *values* I want, stored in a `pandas.DataFrame`\n",
    "because `pandas` rocks!"
   ]
  },
  {
   "cell_type": "code",
   "execution_count": null,
   "metadata": {},
   "outputs": [],
   "source": [
    "import pandas as pd"
   ]
  },
  {
   "cell_type": "code",
   "execution_count": null,
   "metadata": {},
   "outputs": [],
   "source": [
    "roster_flattened_expected = pd.DataFrame(\n",
    "    {\n",
    "        \"path\":[\n",
    "            'roster[\"students\"][0][\"age\"]',\n",
    "            'roster[\"students\"][0][\"name\"]',\n",
    "            'roster[\"students\"][1][\"age\"]',\n",
    "            'roster[\"students\"][1][\"name\"]',\n",
    "            'roster[\"class\"][\"title\"]',\n",
    "            'roster[\"class\"][\"id\"]',\n",
    "        ],\n",
    "        \"value\":[\n",
    "            25,\n",
    "            \"John\",\n",
    "            30,\n",
    "            \"Jane\",\n",
    "            \"Philosophy 101\",\n",
    "            12345,\n",
    "        ],\n",
    "    }\n",
    ")\n",
    "roster_flattened_expected"
   ]
  },
  {
   "cell_type": "markdown",
   "metadata": {},
   "source": [
    "## Let's Flatten Something!\n",
    "\n",
    "Let's create our function that does the actual flattening.\n",
    "I'll define it here, and explain parts of it later."
   ]
  },
  {
   "cell_type": "code",
   "execution_count": null,
   "metadata": {},
   "outputs": [],
   "source": [
    "from typing import Dict, List, Union, Tuple, Any\n",
    "\n",
    "JsonObject = Union[Dict, List]\n",
    "\n",
    "Path = str\n",
    "Paths = List[Path]\n",
    "\n",
    "Value = Any\n",
    "Values = List[Value]\n",
    "\n",
    "def flatten_json(*, obj:JsonObject, name:str)->Tuple[Paths, Values]:\n",
    "\n",
    "    def do_flattening(\n",
    "        *,\n",
    "        obj: JsonObject,\n",
    "        path:Path,\n",
    "        paths:Paths,\n",
    "        values:Values,\n",
    "    ):\n",
    "        obj_type = type(obj)\n",
    "        \n",
    "        if dict == obj_type:\n",
    "            for key, value in obj.items():\n",
    "                new_path = f'{path}[\"{key}\"]'\n",
    "                new_obj = value\n",
    "                do_flattening(\n",
    "                    obj=new_obj,\n",
    "                    path=new_path,\n",
    "                    paths=paths,\n",
    "                    values=values,\n",
    "                )\n",
    "    \n",
    "        elif list == obj_type:\n",
    "            for i, item in enumerate(obj):\n",
    "                new_path = f\"{path}[{i}]\"\n",
    "                new_obj = item\n",
    "                do_flattening(\n",
    "                    obj=new_obj,\n",
    "                    path=new_path,\n",
    "                    paths=paths,\n",
    "                    values=values,\n",
    "                )\n",
    "                \n",
    "        else:\n",
    "            paths.append(path)\n",
    "            values.append(obj)\n",
    "        \n",
    "    paths=[]\n",
    "    values=[]\n",
    "    \n",
    "    do_flattening(\n",
    "        obj=obj,\n",
    "        path=name,\n",
    "        paths=paths,\n",
    "        values=values,\n",
    "    )\n",
    "    \n",
    "    return paths, values\n",
    "\n",
    "def flatten_json_to_df(**kwargs)->pd.DataFrame:\n",
    "    \n",
    "    paths, values = flatten_json(**kwargs)\n",
    "    \n",
    "    return pd.DataFrame({\"path\":paths, \"value\":values})"
   ]
  },
  {
   "cell_type": "markdown",
   "metadata": {},
   "source": [
    "### About our Function\n",
    "\n",
    "We name it `flatten_json` to be more explicit in that it **only** is expected\n",
    "to flatten JSON-compliant dictionaries whose keys are strings.\n",
    "\n",
    "You'll see that all the logic is contained in a nested function `do_flattening`.\n",
    "Values can be one of:\n",
    "\n",
    "* another JSON object (`dict`)\n",
    "* a list\n",
    "* a value\n",
    "\n",
    "We check the type of the *value*. If it is a `dict` or a `list`\n",
    "then we must dive deeper into the object. If it is anything else, then we\n",
    "have reached a *terminal value*. As we traverse the object we keep updating\n",
    "*path* until when we reach a *terminal value*, at which point we append our *path* and *value*\n",
    "to the list of *paths* and *values*, respectively.\n",
    "\n",
    "### Testing our Function\n",
    "\n",
    "Let's see if our function can correctly flatten our *roster*."
   ]
  },
  {
   "cell_type": "code",
   "execution_count": null,
   "metadata": {},
   "outputs": [],
   "source": [
    "roster_flattened = flatten_json_to_df(obj=roster, name=\"roster\")\n",
    "roster_flattened"
   ]
  },
  {
   "cell_type": "code",
   "execution_count": null,
   "metadata": {},
   "outputs": [],
   "source": [
    "assert roster_flattened.equals(roster_flattened_expected)"
   ]
  },
  {
   "cell_type": "markdown",
   "metadata": {},
   "source": [
    "Yay! Looks like it works.\n",
    "\n",
    "### Using our Function with Real Data\n",
    "\n",
    "Let's get some real JSON data from the internet\n",
    "and see if it works..."
   ]
  },
  {
   "cell_type": "code",
   "execution_count": null,
   "metadata": {},
   "outputs": [],
   "source": [
    "import requests\n",
    "\n",
    "honolulu_bus_routes = requests.get(url=\"https://data.honolulu.gov/api/views/s5c7-gtgi/rows.json?accessType=DOWNLOAD\").json()\n",
    "honolulu_bus_routes_df = flatten_json_to_df(obj=honolulu_bus_routes, name=\"honolulu_bus_routes\")\n",
    "honolulu_bus_routes_df"
   ]
  },
  {
   "cell_type": "markdown",
   "metadata": {},
   "source": [
    "Great, it works! What do we do with this now?\n",
    "I don't know... that's your problem to figure out.\n",
    "\n",
    "## Customizing the Flattening Function\n",
    "\n",
    "You may be thinking, \"Great, but I need a slightly different function\".\n",
    "The good news is that you can use the flattening function as a template\n",
    "and customize it for your custom needs. The logic of the function\n",
    "should remain relatively unchanged regardless of the type of object.\n",
    "\n",
    "### Flattening Paths\n",
    "\n",
    "For example, imagine if we just wanted to get all of the files\n",
    "residing in a specific folder:"
   ]
  },
  {
   "cell_type": "code",
   "execution_count": null,
   "metadata": {},
   "outputs": [],
   "source": [
    "from typing import List\n",
    "from pathlib import Path\n",
    "\n",
    "def flatten_path(*, path:Path)->List[Path]:\n",
    "\n",
    "    def do_flattening(\n",
    "        *,\n",
    "        path: Path,\n",
    "        paths: List[Path],\n",
    "    ):\n",
    "        if path.is_dir():\n",
    "            for new_path in path.iterdir():\n",
    "                do_flattening(\n",
    "                    path=new_path,\n",
    "                    paths=paths,\n",
    "                )\n",
    "        else:\n",
    "            paths.append(path)\n",
    "        \n",
    "    paths=[]\n",
    "    \n",
    "    do_flattening(\n",
    "        path=path,\n",
    "        paths=paths,\n",
    "    )\n",
    "    \n",
    "    return paths\n",
    "\n",
    "flatten_path(path=Path(\"../\"))"
   ]
  },
  {
   "cell_type": "markdown",
   "metadata": {},
   "source": [
    "You'll see that we can express our logic as:\n",
    "\n",
    "* if our path is a directory\n",
    "\n",
    "  * get all the entries in the directory and flatten those\n",
    "  \n",
    "* if our path is a file (i.e. a *terminal value*)\n",
    "\n",
    "  * append our file to the list of paths\n",
    "\n",
    "The nice thing about `Path` objects is that we don't need\n",
    "any complicated objects for updating the *path* as we traverse\n",
    "the directories since this information is inherently part of a `Path` object.\n",
    "Hooray for making things easy!\n",
    "\n",
    "## Conclusion\n",
    "\n",
    "I hope you've learnt a great deal about flattening nesting\n",
    "`dict`s in Python, and I also hope you can take that knowledge\n",
    "with you in your quest to flatten other objects.\n",
    "\n",
    "Thanks for reading!"
   ]
  }
 ],
 "metadata": {
  "kernelspec": {
   "display_name": "nicobako.github.io",
   "language": "python",
   "name": "nicobako.github.io"
  },
  "language_info": {
   "codemirror_mode": {
    "name": "ipython",
    "version": 3
   },
   "file_extension": ".py",
   "mimetype": "text/x-python",
   "name": "python",
   "nbconvert_exporter": "python",
   "pygments_lexer": "ipython3",
   "version": "3.7.6"
  }
 },
 "nbformat": 4,
 "nbformat_minor": 4
}
