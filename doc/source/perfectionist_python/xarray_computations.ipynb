{
 "cells": [
  {
   "cell_type": "code",
   "execution_count": null,
   "metadata": {},
   "outputs": [],
   "source": [
    "import numpy as np\n",
    "import xarray as xr"
   ]
  },
  {
   "cell_type": "code",
   "execution_count": null,
   "metadata": {},
   "outputs": [],
   "source": [
    "time = xr.DataArray(\n",
    "    np.linspace(0, 10),\n",
    "    dims=(\"time\"),\n",
    "    attrs={\"units\":\"s\"},\n",
    "    name=\"time\",\n",
    ")\n",
    "time.plot()"
   ]
  },
  {
   "cell_type": "code",
   "execution_count": null,
   "metadata": {},
   "outputs": [],
   "source": [
    "# see https://stackoverflow.com/a/59378218/8863304\n",
    "dt = xr.DataArray(\n",
    "    np.diff(time, prepend=0),\n",
    "    coords=[time],\n",
    "    attrs={\"units\":\"s\"},\n",
    "    name=\"delta_time\"\n",
    ")\n",
    "dt"
   ]
  },
  {
   "cell_type": "code",
   "execution_count": null,
   "metadata": {},
   "outputs": [],
   "source": [
    "def gen_random_array(*, shape, noise, center):\n",
    "    \"\"\"Create an array with values between -0.5 and 0.5.\"\"\"\n",
    "    rnd_array = np.random.default_rng().normal(size=shape)\n",
    "    offset = -0.5\n",
    "    center = np.array(center)\n",
    "    return ((rnd_array + offset) * noise) + center\n",
    "\n",
    "axis = xr.DataArray(\n",
    "    [\"x\", \"y\"],\n",
    "    dims=(\"axis\"),\n",
    "    name=\"axis\"\n",
    ")\n",
    "\n",
    "\n",
    "acceleration = xr.DataArray(\n",
    "    gen_random_array(\n",
    "        shape=(len(time), len(axis)),\n",
    "        noise=0.8,\n",
    "        center=[0.0, -9.81],\n",
    "    ),\n",
    "    coords=[time, axis],\n",
    ")\n",
    "\n",
    "acceleration.plot(hue=\"axis\")"
   ]
  },
  {
   "cell_type": "code",
   "execution_count": null,
   "metadata": {},
   "outputs": [],
   "source": [
    "simulation = xr.Dataset(\n",
    "    {\n",
    "        \"time\":time,\n",
    "        \"axis\":axis,\n",
    "        \"acceleration\":acceleration,\n",
    "    }\n",
    ")\n",
    "simulation"
   ]
  },
  {
   "cell_type": "code",
   "execution_count": null,
   "metadata": {},
   "outputs": [],
   "source": [
    "simulation = xr.Dataset(\n",
    "    {\n",
    "        \"acceleration\":acceleration,\n",
    "    },\n",
    ")\n",
    "simulation"
   ]
  },
  {
   "cell_type": "code",
   "execution_count": null,
   "metadata": {},
   "outputs": [],
   "source": [
    "simulation = xr.Dataset(\n",
    "    {\n",
    "        \"acceleration\":acceleration,\n",
    "    },\n",
    "    coords={\n",
    "        \"time\":time,\n",
    "        \"axis\":axis,\n",
    "    }\n",
    ")\n",
    "simulation"
   ]
  },
  {
   "cell_type": "code",
   "execution_count": null,
   "metadata": {},
   "outputs": [],
   "source": [
    "initial_velocity = np.array([5.0, 40.0])\n",
    "\n",
    "simulation[\"velocity\"] = (dt * simulation.acceleration).cumsum() + initial_velocity\n",
    "\n",
    "simulation.velocity.plot(hue=\"axis\")"
   ]
  },
  {
   "cell_type": "code",
   "execution_count": null,
   "metadata": {},
   "outputs": [],
   "source": [
    "initial_position = np.array([0.0, 40.0])\n",
    "\n",
    "simulation[\"position\"] = (dt * simulation.velocity).cumsum() + initial_position\n",
    "\n",
    "simulation.position.plot(hue=\"axis\")"
   ]
  },
  {
   "cell_type": "code",
   "execution_count": null,
   "metadata": {},
   "outputs": [],
   "source": [
    "simulation.position.where(\n",
    "    simulation.p\n",
    ")"
   ]
  },
  {
   "cell_type": "markdown",
   "metadata": {},
   "source": [
    "## Dimensions / Coordinates"
   ]
  },
  {
   "cell_type": "code",
   "execution_count": null,
   "metadata": {},
   "outputs": [],
   "source": [
    "time_values = np.linspace(0, 10)\n",
    "\n",
    "x_values = np.arange(0, 20)\n",
    "y_values = np.arange(0, 20)\n",
    "\n",
    "time_da = xr.DataArray(\n",
    "    time_values,\n",
    "    dims=(\"time\"),\n",
    "    attrs={\"units\":\"s\"},\n",
    "    name=\"time\",\n",
    ")\n",
    "\n",
    "x_da = xr.DataArray(\n",
    "    x_values,\n",
    "    dims=(\"x\"),\n",
    "    attrs={\"units\":\"m\"},\n",
    "    name=\"x\",\n",
    ")\n",
    "\n",
    "y_da = xr.DataArray(\n",
    "    y_values,\n",
    "    dims=(\"y\"),\n",
    "    attrs={\"units\":\"m\"},\n",
    "    name=\"y\",\n",
    ")"
   ]
  },
  {
   "cell_type": "code",
   "execution_count": null,
   "metadata": {},
   "outputs": [],
   "source": [
    "base_temperature = 20.0\n",
    "\n",
    "temperature_values = np.zeros((\n",
    "    len(time_values), len(x_values), len(y_values)\n",
    "))\n",
    "\n",
    "temperature_values.fill(base_temperature)\n",
    "\n",
    "temperature_da = xr.DataArray(\n",
    "    temperature_values,\n",
    "    coords=[time_da, x_da, y_da],\n",
    "    name=\"temperature\"\n",
    ")\n",
    "\n",
    "mask = (\n",
    "    (temperature_da.time == 0)\n",
    "    & (temperature_da.x <= 5)\n",
    "    & (temperature_da.y <= 5)\n",
    ")\n",
    "\n",
    "initial_temperature = 1000\n",
    "\n",
    "temperature_da = xr.where(\n",
    "    mask,\n",
    "    initial_temperature,\n",
    "    temperature_da\n",
    ")\n",
    "\n",
    "temperature_da.plot.hist()"
   ]
  },
  {
   "cell_type": "code",
   "execution_count": null,
   "metadata": {},
   "outputs": [],
   "source": [
    "y_da.plot()"
   ]
  }
 ],
 "metadata": {
  "kernelspec": {
   "display_name": "nicobako.github.io",
   "language": "python",
   "name": "nicobako.github.io"
  },
  "language_info": {
   "codemirror_mode": {
    "name": "ipython",
    "version": 3
   },
   "file_extension": ".py",
   "mimetype": "text/x-python",
   "name": "python",
   "nbconvert_exporter": "python",
   "pygments_lexer": "ipython3",
   "version": "3.7.6"
  }
 },
 "nbformat": 4,
 "nbformat_minor": 4
}
