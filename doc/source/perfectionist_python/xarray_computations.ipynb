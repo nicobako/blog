{
 "cells": [
  {
   "cell_type": "markdown",
   "metadata": {},
   "source": [
    "# xarray for modeling and simulation\n",
    "\n",
    "First of all, [xarray](http://xarray.pydata.org/en/stable/index.html)\n",
    "is a **wonderful** tool for creating - and interacting with -\n",
    "*labeled multidimensional data*. I turn to `xarray` any time I have multidimensional data.\n",
    "\n",
    "The purpose of this tutorial is to (hopefully) show you\n",
    "that performing computations using ``xarray`` is easy.\n",
    "``xarray``'s API makes your *multidimensional computations* much more expressive,\n",
    "and easier to understand!\n",
    "\n",
    "## Defining the problem\n",
    "\n",
    "Imagine we're working on a _modeling and simulation_ project\n",
    "where we want to model the trajectory of a projectile in 3D space.\n",
    "Our projectile has onboard sensors\n",
    "such as *accelerometers*, *thermometers*, etc.\n",
    "We want to simulate this sensor data, and then\n",
    "use that data to compute useful things such\n",
    "the position of our projectile is in 3D space.\n",
    "\n",
    "Simple enough, right?\n",
    "\n",
    "## Simulating sensor data\n",
    "\n",
    "Of course, we don't have a *real projectile* with sensors.\n",
    "We will need to model some sensor data.\n",
    "\n",
    "Let's keep things simple for now.\n",
    "Let's focus only on modeling the projectile's *path* over time.\n",
    "\n",
    "To model the projectile's path we'll have to model some *accelerometer* data\n",
    "that informs us of the projectile's *x- y- and z-acceleration* over time."
   ]
  },
  {
   "cell_type": "code",
   "execution_count": null,
   "metadata": {},
   "outputs": [],
   "source": [
    "import numpy as np\n",
    "import xarray as xr\n",
    "import matplotlib.pyplot as plt\n",
    "import pyvista as pv\n",
    "from IPython.display import Math, Image\n",
    "import io\n",
    "from pathlib import Path\n",
    "\n",
    "def gen_linspace_values(start, stop, n):\n",
    "    \"\"\"Generate linearly spaced values, then add same noise.\"\"\"\n",
    "    values, step = np.linspace(start, stop, n, retstep=True)\n",
    "    noise = step / 5\n",
    "    noise_values = np.random.default_rng().normal(\n",
    "        0.0, noise, size=values.shape\n",
    "    )\n",
    "    values = values + noise_values\n",
    "    return values\n",
    "\n",
    "def gen_centered_values(center, shape, noise):\n",
    "    \"\"\"Create values distributed about a center, then add some noise.\"\"\"\n",
    "    noise_values = np.random.default_rng().normal(0, noise, size=shape)\n",
    "    return np.array(center) + noise_values"
   ]
  },
  {
   "cell_type": "markdown",
   "metadata": {},
   "source": [
    "### Time\n",
    "\n",
    "Time will be stored in an [``xarray.DataArray``](http://xarray.pydata.org/en/stable/data-structures.html#dataarray),\n",
    "**not a ``numpy.ndarray``**! This is because we can store so much more relevant info in an `xarray.DataArray`.\n",
    "\n",
    "Think of an ``xarray.DataArray`` like a ``numpy.ndarray``.\n",
    "``DataArray``s simply extend the capability of ``ndarray``s.\n",
    "\n",
    "Let's also add some *noise* to the time measurements."
   ]
  },
  {
   "cell_type": "code",
   "execution_count": null,
   "metadata": {},
   "outputs": [],
   "source": [
    "time = xr.DataArray(\n",
    "    gen_linspace_values(0, 100, 501),\n",
    "    dims=(\"time\"),\n",
    "    attrs={\n",
    "        \"units\":\"s\",\n",
    "        \"long_name\":\"Time\"\n",
    "    },\n",
    ")\n",
    "time.plot()\n",
    "plt.show()"
   ]
  },
  {
   "cell_type": "markdown",
   "metadata": {},
   "source": [
    "### X- Y- and Z- axes\n",
    "\n",
    "We are dealing with 3D coordinates.\n",
    "It may seem trivial to define this data structure,\n",
    "but believe me, it makes things much more expressive and clear."
   ]
  },
  {
   "cell_type": "code",
   "execution_count": null,
   "metadata": {},
   "outputs": [],
   "source": [
    "axis = xr.DataArray(\n",
    "    [\"x\", \"y\", \"z\"],\n",
    "    dims=(\"axis\"),\n",
    "    attrs={\n",
    "        \"long_name\":\"Axis\",\n",
    "    }\n",
    ")\n",
    "axis"
   ]
  },
  {
   "cell_type": "markdown",
   "metadata": {},
   "source": [
    "### Acceleration\n",
    "\n",
    "Let's keep this simulation as simple as possible.\n",
    "Let's assume that the only force acting on our\n",
    "projectile is *gravity* (acceleration of ``9.81 m/s^2``),\n",
    "and that gravity acts in the *z-direction*.\n",
    "The acceleration in both the *x-* and *y-* directions is zero.\n",
    "\n",
    "Let's go ahead and simulate some acceleration sensor data.\n",
    "acceleration data with some noise."
   ]
  },
  {
   "cell_type": "code",
   "execution_count": null,
   "metadata": {},
   "outputs": [],
   "source": [
    "acceleration = xr.DataArray(\n",
    "    gen_centered_values(\n",
    "        [0.0, 0.0, -9.81],\n",
    "        (len(time), len(axis)),\n",
    "        0.5,\n",
    "    ),\n",
    "    coords=[time, axis],\n",
    "    attrs={\n",
    "        \"long_name\":\"Acceleration\",\n",
    "        \"units\":\"m/s2\"\n",
    "    }\n",
    ")\n",
    "\n",
    "acceleration.plot(hue=\"axis\")\n",
    "plt.show()"
   ]
  },
  {
   "cell_type": "markdown",
   "metadata": {},
   "source": [
    "### Our simulation object\n",
    "\n",
    "So, we created the minimal amount of data: *time* and *acceleration*!\n",
    "Let's bundle this data into our *simulation* object.\n",
    "\n",
    "Our simulation will be an [``xarray.Dataset``](http://xarray.pydata.org/en/stable/data-structures.html#dataset).\n",
    "Think of a ``Dataset`` like a collection of ``DataArray``s."
   ]
  },
  {
   "cell_type": "code",
   "execution_count": null,
   "metadata": {},
   "outputs": [],
   "source": [
    "simulation = xr.Dataset(\n",
    "    {\n",
    "        \"time\":time,\n",
    "        \"axis\":axis,\n",
    "        \"acceleration\":acceleration,\n",
    "    }\n",
    ")"
   ]
  },
  {
   "cell_type": "markdown",
   "metadata": {},
   "source": [
    "## Computations\n",
    "\n",
    "Okay, we've created some data.\n",
    "Now let's start getting to work!\n",
    "This is the part where we want to take advantage\n",
    "of some of ``xarray``s functionality to make\n",
    "our computations more expressive!"
   ]
  },
  {
   "cell_type": "markdown",
   "metadata": {},
   "source": [
    "### Velocity\n",
    "\n",
    "First of all, I'm no mathematician or physicist,\n",
    "so my explanations may not be that great...\n",
    "\n",
    "The equation for *final velocity*, given an\n",
    "*initial velocity*, *constant acceleration*\n",
    "and a *time* is:"
   ]
  },
  {
   "cell_type": "code",
   "execution_count": null,
   "metadata": {},
   "outputs": [],
   "source": [
    "Math(\"v_f = v_i + at\")"
   ]
  },
  {
   "cell_type": "markdown",
   "metadata": {},
   "source": [
    "In our case, we have multiple acceleration recordings,\n",
    "each with its own time stamp.\n",
    "So, we need to compute the *change in time*\n",
    "between each of the time stamp.\n",
    "\n",
    "Our velocity at any point in time is then\n",
    "equal to the acceleration at that time, multiplied\n",
    "by how much time has passed since the previous recording,\n",
    "plus the velocity at the previous recording."
   ]
  },
  {
   "cell_type": "markdown",
   "metadata": {},
   "source": [
    "So, we need to decide an *initial velocity*.\n",
    "Let's set it to some arbitrary value in order to keep things interesting."
   ]
  },
  {
   "cell_type": "code",
   "execution_count": null,
   "metadata": {},
   "outputs": [],
   "source": [
    "initial_velocity = np.array([5.0, 40.0, 300.0])"
   ]
  },
  {
   "cell_type": "markdown",
   "metadata": {},
   "source": [
    "Now we need *delta time*.\n",
    "``xarray`` has a very useful ``diff()`` function \n",
    "for computing exactly this, but we will use ``numpy.diff`` instead.\n",
    "See [this Stack Overflow article](https://stackoverflow.com/a/59378218/8863304)\n",
    "for a small explanation as to why."
   ]
  },
  {
   "cell_type": "code",
   "execution_count": null,
   "metadata": {},
   "outputs": [],
   "source": [
    "dt_values = np.diff(simulation.time, prepend=0)\n",
    "\n",
    "simulation[\"dt\"] = xr.DataArray(\n",
    "    dt_values,\n",
    "    coords=[simulation.time],\n",
    "    attrs={\n",
    "        \"units\":\"s\",\n",
    "        \"long_name\":\"Change in Time\"\n",
    "    },\n",
    "    name=\"delta_time\"\n",
    ")\n",
    "simulation.dt.plot()\n",
    "plt.show()"
   ]
  },
  {
   "cell_type": "code",
   "execution_count": null,
   "metadata": {},
   "outputs": [],
   "source": [
    "simulation[\"velocity\"] = (simulation.dt * simulation.acceleration).cumsum() + initial_velocity\n",
    "\n",
    "simulation.velocity.attrs[\"long_name\"] = \"Velocity\"\n",
    "simulation.velocity.attrs[\"units\"] = \"m/s\"\n",
    "\n",
    "simulation.velocity.plot(hue=\"axis\")\n",
    "plt.show()"
   ]
  },
  {
   "cell_type": "markdown",
   "metadata": {},
   "source": [
    "### Position\n",
    "\n",
    "We can do nearly the exact same thing to compute the \n",
    "projectile's position at every time stamp."
   ]
  },
  {
   "cell_type": "code",
   "execution_count": null,
   "metadata": {},
   "outputs": [],
   "source": [
    "initial_position = np.array([0.0, 40.0, 10.0])\n",
    "\n",
    "simulation[\"position\"] = (simulation.dt * simulation.velocity).cumsum() + initial_position\n",
    "\n",
    "simulation.position.attrs[\"long_name\"] = \"Position\"\n",
    "simulation.position.attrs[\"units\"] = \"m\"\n",
    "\n",
    "simulation.position.plot(hue=\"axis\")\n",
    "plt.show()"
   ]
  },
  {
   "cell_type": "markdown",
   "metadata": {},
   "source": [
    "You'll see that some of the position *z* values are negative.\n",
    "We know that this doesn't make much sense\n",
    "since *z* values of 0.0 correspond to ground-level.\n",
    "\n",
    "In fact, what would make most sense would be to end the\n",
    "simulation once the projectile reaches a *z* value of *0*."
   ]
  },
  {
   "cell_type": "code",
   "execution_count": null,
   "metadata": {},
   "outputs": [],
   "source": [
    "z = simulation.position.sel(axis=\"z\")\n",
    "\n",
    "simulation = simulation.where(z>=0, drop=True)\n",
    "\n",
    "simulation.position.plot(hue=\"axis\")\n",
    "plt.show()"
   ]
  },
  {
   "cell_type": "markdown",
   "metadata": {},
   "source": [
    "### Interpolating the position at any time\n",
    "\n",
    "Now we have the position of the projectile at the time points\n",
    "for which our onboard sensors have recordings. However, these\n",
    "time points are full of noise. What if we want to clean this up a little \n",
    "and find the position only  at certain times?\n",
    "We can use ``xarray``'s *interpolation* capabilities!"
   ]
  },
  {
   "cell_type": "code",
   "execution_count": null,
   "metadata": {},
   "outputs": [],
   "source": [
    "time_max = simulation.time.max()\n",
    "\n",
    "time_interp_values = np.arange(0, time_max)\n",
    "\n",
    "simulation_interp = simulation.interp(time=time_interp_values)\n",
    "\n",
    "simulation_interp.time.attrs[\"long_name\"] = \"Time Interpolated\"\n",
    "simulation_interp.time.attrs[\"units\"] = \"s\"\n",
    "\n",
    "simulation_interp.position.plot(hue=\"axis\")\n",
    "plt.show()"
   ]
  },
  {
   "cell_type": "markdown",
   "metadata": {},
   "source": [
    "Take a look at how our new times are linearly spaced as opposed to\n",
    "the original simulation's time values."
   ]
  },
  {
   "cell_type": "code",
   "execution_count": null,
   "metadata": {},
   "outputs": [],
   "source": [
    "simulation.time.diff(dim=\"time\").plot(c=\"blue\")\n",
    "simulation_interp.time.diff(dim=\"time\").plot(c=\"red\")\n",
    "plt.ylabel(\"Time Difference\")\n",
    "plt.show()"
   ]
  },
  {
   "cell_type": "markdown",
   "metadata": {},
   "source": [
    "And, note that we have interpolated the entire simulation!\n",
    "That means that not only is our position interpolated, but so is our\n",
    "acceleration, and velocity!"
   ]
  },
  {
   "cell_type": "code",
   "execution_count": null,
   "metadata": {},
   "outputs": [],
   "source": [
    "simulation_interp.velocity.plot(hue=\"axis\")"
   ]
  },
  {
   "cell_type": "markdown",
   "metadata": {},
   "source": [
    "## Conclusion\n",
    "\n",
    "It's about time to wrap this up.\n",
    "Hopefully you've seen that you can do some really cool stuff with ``xarray``,\n",
    "and that API is really expressive. This is not an exhaustive tutorial,\n",
    "but hopefully will inspire you to consider using ``xarray`` for you next \n",
    "modeling and simulation task!\n",
    "\n",
    "Let's end this with a cheesy 3D visualization of the projectile's path!"
   ]
  },
  {
   "cell_type": "code",
   "execution_count": null,
   "metadata": {},
   "outputs": [],
   "source": [
    "p = pv.Plotter(off_screen=True, notebook=False)\n",
    "\n",
    "pos_min = simulation.position.min(dim=\"time\")\n",
    "pos_max = simulation.position.max(dim=\"time\")\n",
    "\n",
    "bounds = [[v1, v2] for v1, v2 in zip(pos_min, pos_max)]\n",
    "bounds = np.array(bounds).flatten()\n",
    "\n",
    "brick = pv.Box(bounds)\n",
    "p.add_mesh(brick, opacity=0.0)\n",
    "\n",
    "p.show(auto_close=False,)\n",
    "p.open_gif(\"proj.gif\")\n",
    "\n",
    "def draw_projectile(time):\n",
    "    sim_t = simulation_interp.sel(time=time)\n",
    "    scale = 100\n",
    "    proj = pv.Sphere(\n",
    "        center=sim_t.position,\n",
    "        radius=scale\n",
    "    )\n",
    "    vel_arrow = pv.Arrow(\n",
    "        start=sim_t.position,\n",
    "        direction=sim_t.velocity,\n",
    "        scale=5*scale\n",
    "    )\n",
    "    p.add_mesh(proj, color=\"red\",opacity=0.5, name=\"proj\")\n",
    "    p.add_mesh(vel_arrow, color=\"green\", name=\"vel_arrow\")\n",
    "    \n",
    "    p.write_frame()\n",
    "\n",
    "for t in simulation_interp.time:\n",
    "    draw_projectile(t)\n",
    "\n",
    "p.close()\n",
    "\n",
    "img = io.BytesIO(open(\"proj.gif\", \"rb\").read()).read()\n",
    "Path(\"proj.gif\").unlink()\n",
    "Image(img)"
   ]
  }
 ],
 "metadata": {
  "kernelspec": {
   "display_name": "nicobako.github.io",
   "language": "python",
   "name": "nicobako.github.io"
  },
  "language_info": {
   "codemirror_mode": {
    "name": "ipython",
    "version": 3
   },
   "file_extension": ".py",
   "mimetype": "text/x-python",
   "name": "python",
   "nbconvert_exporter": "python",
   "pygments_lexer": "ipython3",
   "version": "3.7.6"
  }
 },
 "nbformat": 4,
 "nbformat_minor": 4
}
