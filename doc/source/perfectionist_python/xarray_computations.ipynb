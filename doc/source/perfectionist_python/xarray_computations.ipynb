{
 "cells": [
  {
   "cell_type": "markdown",
   "metadata": {},
   "source": [
    "# xarray for computations\n",
    "\n",
    "First of all, [`xarray`](http://xarray.pydata.org/en/stable/index.html)\n",
    "is a **wonderful** tool for creating - and interacting with -\n",
    "*labeled multidimensional data*. I turn to `xarray` any time I have multidimensional data.\n",
    "\n",
    "If you're familiar with [`pandas`](https://pandas.pydata.org/),\n",
    "then you've probably grown to love its API, and you have more than likely\n",
    "grown so used to having *labeled data*. I bet that, like me, when you see unlabeled data,\n",
    "like *raw `numpy` arrays*, your heart stops for a little.\n",
    "\n",
    "The purpose of this tutorial is to (hopefully) show you\n",
    "that performing computations using `xarray` is easy.\n",
    "Using [`xarray` data structures](http://xarray.pydata.org/en/stable/data-structures.html)\n",
    "makes your *multidimensional computations* much more expressive,\n",
    "easier to understand, and easier to develop!\n",
    "\n",
    "## Defining the problem\n",
    "\n",
    "Imagine we're working on a _modeling and simulation_ project\n",
    "where we want to model the path of a projectile in 3D over time.\n",
    "Simple enough, right. Once we get the basics of this working, we'll\n",
    "add more complex things.\n",
    "\n",
    "For example, later on we might want to investigate\n",
    "\n",
    "* the effects of the projectile on the surrounding air temperature\n",
    "* the effects of wind on the projectile's path\n",
    "* etc.\n",
    "\n",
    "## Setting up the solution\n",
    "\n",
    "This is a _modeling and simulation_ project.\n",
    "So, our first step is to simulate some *real world* data.\n",
    "\n",
    "So far, we know that we want to model a projectile's path over *time*,\n",
    "so we know that we'll have to create some *time* data.\n",
    "But what else will we have to create?\n",
    "\n",
    "Imagine that our _projectile_ has some sensors on board.\n",
    "For now, imagine that it has an *accelerometer* that informs\n",
    "us of its *x- y- and z-acceleration* over time.\n",
    "So we'll create some *acceleration* data as well.\n",
    "\n",
    "We can add more later. Let's keep things simple for now."
   ]
  },
  {
   "cell_type": "code",
   "execution_count": null,
   "metadata": {},
   "outputs": [],
   "source": [
    "import numpy as np\n",
    "import xarray as xr\n",
    "import matplotlib.pyplot as plt"
   ]
  },
  {
   "cell_type": "markdown",
   "metadata": {},
   "source": [
    "### Time\n",
    "\n",
    "Time will be stored in an [`xarray.DataArray`](http://xarray.pydata.org/en/stable/data-structures.html#dataarray),\n",
    "**not a `numpy.ndarray`**! This is because we can store so much more relevant info in an `xarray.DataArray`.\n",
    "\n",
    "Let's also add some *noise* to the time measurements."
   ]
  },
  {
   "cell_type": "code",
   "execution_count": null,
   "metadata": {},
   "outputs": [],
   "source": [
    "def gen_time_values():\n",
    "    \"\"\"Create the time values with some noise.\"\"\"\n",
    "    time_linear, time_step = np.linspace(\n",
    "        0, 10, 100, retstep=True\n",
    "    )\n",
    "\n",
    "    time_noise = np.random.default_rng().normal(\n",
    "        0.0, 0.1, size=time_linear.shape\n",
    "    ) * time_step\n",
    "\n",
    "    time_values = time_linear + time_noise\n",
    "\n",
    "    assert all(time_values == np.sort(time_values))\n",
    "    \n",
    "    return time_values\n",
    "\n",
    "time = xr.DataArray(\n",
    "    gen_time_values(),\n",
    "    dims=(\"time\"),\n",
    "    attrs={\n",
    "        \"units\":\"s\",\n",
    "        \"long_name\":\"Time\"\n",
    "    },\n",
    ")\n",
    "time.plot()\n",
    "plt.show()"
   ]
  },
  {
   "cell_type": "markdown",
   "metadata": {},
   "source": [
    "### X- Y- and Z- axes\n",
    "\n",
    "We are dealing with 3D coordinates.\n",
    "It may seem trivial to define this data structure,\n",
    "but believe me, it makes things much more expressive and clear."
   ]
  },
  {
   "cell_type": "code",
   "execution_count": null,
   "metadata": {},
   "outputs": [],
   "source": [
    "axis = xr.DataArray(\n",
    "    [\"x\", \"y\", \"z\"],\n",
    "    dims=(\"axis\"),\n",
    "    attrs={\n",
    "        \"long_name\":\"Axis\"\n",
    "    }\n",
    ")\n",
    "axis"
   ]
  },
  {
   "cell_type": "markdown",
   "metadata": {},
   "source": [
    "### Acceleration\n",
    "\n",
    "This simulation takes place on the Earth, so we have to take *gravity* into account.\n",
    "Let's say that gravity acts in the *z-direction*.\n",
    "Let us assume, for now, that acceleration in both the *x-* and *y-* directions\n",
    "is zero.\n",
    "\n",
    "As mentioned earlier, acceleration is being recorded via onboard sensors,\n",
    "so there will be some noise in the recordings. Let's go ahead and create some\n",
    "acceleration data with some noise."
   ]
  },
  {
   "cell_type": "code",
   "execution_count": null,
   "metadata": {},
   "outputs": [],
   "source": [
    "def gen_random_array(*, shape, noise, center):\n",
    "    \"\"\"Create an array with values between -0.5 and 0.5.\"\"\"\n",
    "    offset = -0.5\n",
    "    center = np.array(center)\n",
    "    \n",
    "    rnd_array = np.random.default_rng().normal(size=shape)\n",
    "    return ((rnd_array + offset) * noise) + center\n",
    "\n",
    "\n",
    "acceleration = xr.DataArray(\n",
    "    gen_random_array(\n",
    "        shape=(len(time), len(axis)),\n",
    "        noise=0.5,\n",
    "        center=[0.0, 0.0, -9.81],\n",
    "    ),\n",
    "    coords=[time, axis],\n",
    ")\n",
    "\n",
    "acceleration.plot(hue=\"axis\")\n",
    "plt.show()"
   ]
  },
  {
   "cell_type": "code",
   "execution_count": null,
   "metadata": {},
   "outputs": [],
   "source": [
    "# see https://stackoverflow.com/a/59378218/8863304\n",
    "dt = xr.DataArray(\n",
    "    np.diff(time, prepend=0),\n",
    "    coords=[time],\n",
    "    attrs={\n",
    "        \"units\":\"s\",\n",
    "        \"long_name\":\"Change in Time\"\n",
    "    },\n",
    "    name=\"delta_time\"\n",
    ")\n",
    "dt.plot()\n",
    "plt.show()"
   ]
  },
  {
   "cell_type": "code",
   "execution_count": null,
   "metadata": {},
   "outputs": [],
   "source": [
    "simulation = xr.Dataset(\n",
    "    {\n",
    "        \"time\":time,\n",
    "        \"axis\":axis,\n",
    "        \"acceleration\":acceleration,\n",
    "    }\n",
    ")\n",
    "simulation"
   ]
  },
  {
   "cell_type": "code",
   "execution_count": null,
   "metadata": {},
   "outputs": [],
   "source": [
    "initial_velocity = np.array([5.0, 40.0, 5.0])\n",
    "\n",
    "simulation[\"velocity\"] = (dt * simulation.acceleration).cumsum() + initial_velocity\n",
    "\n",
    "simulation.velocity.plot(hue=\"axis\")"
   ]
  },
  {
   "cell_type": "code",
   "execution_count": null,
   "metadata": {},
   "outputs": [],
   "source": [
    "initial_position = np.array([0.0, 40.0, 0.0])\n",
    "\n",
    "simulation[\"position\"] = (dt * simulation.velocity).cumsum() + initial_position\n",
    "\n",
    "simulation.position.plot(hue=\"axis\")"
   ]
  },
  {
   "cell_type": "code",
   "execution_count": null,
   "metadata": {},
   "outputs": [],
   "source": [
    "simulation[\"position\"] = simulation.position.where(\n",
    "    simulation.position >= 0.0,\n",
    "    0.0\n",
    ")\n",
    "simulation.position.plot(hue=\"axis\")"
   ]
  },
  {
   "cell_type": "markdown",
   "metadata": {},
   "source": [
    "## Dimensions / Coordinates"
   ]
  },
  {
   "cell_type": "code",
   "execution_count": null,
   "metadata": {},
   "outputs": [],
   "source": [
    "time_values = np.linspace(0, 10)\n",
    "\n",
    "x_values = np.arange(0, 20)\n",
    "y_values = np.arange(0, 20)\n",
    "\n",
    "time_da = xr.DataArray(\n",
    "    time_values,\n",
    "    dims=(\"time\"),\n",
    "    attrs={\"units\":\"s\"},\n",
    "    name=\"time\",\n",
    ")\n",
    "\n",
    "x_da = xr.DataArray(\n",
    "    x_values,\n",
    "    dims=(\"x\"),\n",
    "    attrs={\"units\":\"m\"},\n",
    "    name=\"x\",\n",
    ")\n",
    "\n",
    "y_da = xr.DataArray(\n",
    "    y_values,\n",
    "    dims=(\"y\"),\n",
    "    attrs={\"units\":\"m\"},\n",
    "    name=\"y\",\n",
    ")"
   ]
  },
  {
   "cell_type": "code",
   "execution_count": null,
   "metadata": {},
   "outputs": [],
   "source": [
    "base_temperature = 20.0\n",
    "\n",
    "temperature_values = np.zeros((\n",
    "    len(time_values), len(x_values), len(y_values)\n",
    "))\n",
    "\n",
    "temperature_values.fill(base_temperature)\n",
    "\n",
    "temperature_da = xr.DataArray(\n",
    "    temperature_values,\n",
    "    coords=[time_da, x_da, y_da],\n",
    "    name=\"temperature\"\n",
    ")\n",
    "\n",
    "mask = (\n",
    "    (temperature_da.time == 0)\n",
    "    & (temperature_da.x <= 5)\n",
    "    & (temperature_da.y <= 5)\n",
    ")\n",
    "\n",
    "initial_temperature = 1000\n",
    "\n",
    "temperature_da = xr.where(\n",
    "    mask,\n",
    "    initial_temperature,\n",
    "    temperature_da\n",
    ")\n",
    "\n",
    "temperature_da.plot.hist()"
   ]
  },
  {
   "cell_type": "code",
   "execution_count": null,
   "metadata": {},
   "outputs": [],
   "source": [
    "y_da.plot()"
   ]
  }
 ],
 "metadata": {
  "kernelspec": {
   "display_name": "nicobako.github.io",
   "language": "python",
   "name": "nicobako.github.io"
  },
  "language_info": {
   "codemirror_mode": {
    "name": "ipython",
    "version": 3
   },
   "file_extension": ".py",
   "mimetype": "text/x-python",
   "name": "python",
   "nbconvert_exporter": "python",
   "pygments_lexer": "ipython3",
   "version": "3.7.6"
  }
 },
 "nbformat": 4,
 "nbformat_minor": 4
}
